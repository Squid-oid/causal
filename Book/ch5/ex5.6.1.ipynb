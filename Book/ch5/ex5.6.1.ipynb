{
 "cells": [
  {
   "cell_type": "markdown",
   "id": "cca03cd9",
   "metadata": {},
   "source": [
    "### Ex. 5.6.1 - Explain Conditioning\n"
   ]
  },
  {
   "cell_type": "markdown",
   "id": "32d7c26a",
   "metadata": {},
   "source": [
    "When we wish to understand the impac of some treatment, but we don't have the ability to assign or create an RCT, then we run the risk of correlations between the treatment and properties of the treated people. Think about the case of smokers potentially being unhealthier in general, or we risk some interaction between the treatment and the treated subgroups.\n",
    "\n",
    "To deal with this we can instead of measuring the average impact of the treatment over all of the people studied, study the treatment in subgroups, such that each subgroup shares attributes, then we can trust the result within each group to be unbiased, and to study the full effect we can look for trends in the behaivour across the groups. If the treatment doesn't interact with, and is linear, then we should expect each group to have some realization of an identical mean."
   ]
  }
 ],
 "metadata": {
  "language_info": {
   "name": "python"
  }
 },
 "nbformat": 4,
 "nbformat_minor": 5
}
