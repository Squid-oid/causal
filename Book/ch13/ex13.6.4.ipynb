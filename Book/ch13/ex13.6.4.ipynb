{
 "cells": [
  {
   "cell_type": "markdown",
   "id": "d1b74357",
   "metadata": {},
   "source": [
    "### Ex 13.6.4\n",
    "Prove neyman orthogonality of the moment condition for partially linear IV models. We have some model where\\\n",
    "$\\tilde{Y} = Y - l_0(X), ~~\\tilde{D} = D - r_0(X), ~~\\tilde{Z} = Z - m_0$,\\\n",
    "where at the true best fit \\\n",
    "$\\psi(W,\\theta_0, \\eta) = (\\tilde{Y} - \\theta_0'\\tilde{D})\\tilde{Z}, ~~ \\mathbb{E}[\\psi(W, \\theta_0)]$,\\\n",
    " for\\\n",
    "$\\psi(W, \\theta, \\eta) = (Y - l(X) - \\theta'(D-r(X)))(Z-m(X))$.\n",
    "\n",
    "The true best fit form can be shown by using partiall linear IV assumptions and rewriting to residualized forms.\n",
    "\n",
    "Then the derivative of the moment around it's true value for nuisance fit $\\eta$, such that $\\Delta\\eta = [\\delta_l, \\delta_r, \\delta_m]$ is \\\n",
    "$\\frac{d}{d\\eta}\\mathbb{E}[\\psi(...)]|_{\\eta\\approx\\eta_0} = -\\mathbb{E}[\\delta_l(X)\\tilde{Z}] + \\mathbb{E}[\\theta_0\\delta_r(X)\\tilde{Z}] - \\mathbb{E}[(\\tilde{Y} - \\theta_0'\\tilde{D})\\delta_m(X)]$\\\n",
    "We can analyze each of these expectations, using the tower property,\\\n",
    "\\\n",
    "The first term, using that $\\tilde{Z} \\perp\\!\\!\\!\\perp  X$, since it is residualized on X\\\n",
    "$\\mathbb{E}[\\delta_l(X)\\tilde{Z}] = \\mathbb{E}[\\mathbb{E}[\\delta_l(X)\\tilde{Z}|X]] = \\mathbb{E}[\\delta_l(X)\\mathbb{E[\\tilde{Z}|X]}] = 0$\\\n",
    "\\\n",
    "The second term, using the same as above\\\n",
    "$\\mathbb{E}[\\theta_0'\\delta_r(X)\\tilde{Z}] = \\theta_0'\\mathbb{E}[\\delta_r(X)\\mathbb{E}[\\tilde{Z}|X]] = 0$\\\n",
    "\\\n",
    "And finally using the fact that we are close to the optimal fit so the residual is zero expectation\\\n",
    "$\\mathbb{E}[(\\tilde{Y}-\\theta_0'\\tilde{D})\\delta_m(X)] = \\mathbb{E}[\\delta_m(X)\\mathbb{E}[\\tilde{Y}-\\theta_0'\\tilde{D}|X]] = 0$\\\n",
    "\\\n",
    "So since each part is zero expectation we have shown that:\\\n",
    "$\\frac{d}{d\\eta}\\mathbb{E}[\\psi(...)]|_{\\eta\\approx\\eta_0} = 0$"
   ]
  }
 ],
 "metadata": {
  "language_info": {
   "name": "python"
  }
 },
 "nbformat": 4,
 "nbformat_minor": 5
}
