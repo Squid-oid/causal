{
 "cells": [
  {
   "cell_type": "markdown",
   "id": "ea1d60fc",
   "metadata": {},
   "source": [
    "### Ex 2.7.4\n",
    "This excersie we're just reading through the [Pfizer RCT briefing](https://www.fda.gov/media/144245/download) and summarizing the design."
   ]
  },
  {
   "cell_type": "markdown",
   "id": "df43b827",
   "metadata": {},
   "source": [
    "The Pfizer RCT study was designed as a relatively standard RCT. The study utilized double blinding for any statistical results, but had an independent, unblinded supervising team to ensure saftey. To create an equal and fair RCT a placebo was administered to the group not selected for the intervention (vaccine). The study combined three phases, the first phase being evaluation of saftey, but once signs pointed to the initial test dose being sufficient for effect, and further study the same data was rolled into the testing for effect and societal impact. "
   ]
  }
 ],
 "metadata": {
  "kernelspec": {
   "display_name": "causal",
   "language": "python",
   "name": "python3"
  },
  "language_info": {
   "codemirror_mode": {
    "name": "ipython",
    "version": 3
   },
   "file_extension": ".py",
   "mimetype": "text/x-python",
   "name": "python",
   "nbconvert_exporter": "python",
   "pygments_lexer": "ipython3",
   "version": "3.13.2"
  }
 },
 "nbformat": 4,
 "nbformat_minor": 5
}
