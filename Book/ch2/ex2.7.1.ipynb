{
 "cells": [
  {
   "cell_type": "markdown",
   "id": "ea1d60fc",
   "metadata": {},
   "source": [
    "### Ex 2.7.1\n",
    "The goal of this exercise is to create a simulated database featuring selection bias, and show how misleading the results can be if controls aren't properly taken to ensure similarity of the tested groups."
   ]
  },
  {
   "cell_type": "markdown",
   "id": "c8d56ed2",
   "metadata": {},
   "source": [
    "### Uncorrelated Case"
   ]
  },
  {
   "cell_type": "code",
   "execution_count": 28,
   "id": "534039bb",
   "metadata": {},
   "outputs": [
    {
     "data": {
      "text/html": [
       "<div>\n",
       "<style scoped>\n",
       "    .dataframe tbody tr th:only-of-type {\n",
       "        vertical-align: middle;\n",
       "    }\n",
       "\n",
       "    .dataframe tbody tr th {\n",
       "        vertical-align: top;\n",
       "    }\n",
       "\n",
       "    .dataframe thead th {\n",
       "        text-align: right;\n",
       "    }\n",
       "</style>\n",
       "<table border=\"1\" class=\"dataframe\">\n",
       "  <thead>\n",
       "    <tr style=\"text-align: right;\">\n",
       "      <th></th>\n",
       "      <th>Health</th>\n",
       "      <th>Smoker</th>\n",
       "      <th>Outcome</th>\n",
       "    </tr>\n",
       "  </thead>\n",
       "  <tbody>\n",
       "    <tr>\n",
       "      <th>0</th>\n",
       "      <td>True</td>\n",
       "      <td>True</td>\n",
       "      <td>2</td>\n",
       "    </tr>\n",
       "    <tr>\n",
       "      <th>1</th>\n",
       "      <td>False</td>\n",
       "      <td>False</td>\n",
       "      <td>0</td>\n",
       "    </tr>\n",
       "    <tr>\n",
       "      <th>2</th>\n",
       "      <td>True</td>\n",
       "      <td>True</td>\n",
       "      <td>2</td>\n",
       "    </tr>\n",
       "    <tr>\n",
       "      <th>3</th>\n",
       "      <td>True</td>\n",
       "      <td>False</td>\n",
       "      <td>3</td>\n",
       "    </tr>\n",
       "    <tr>\n",
       "      <th>4</th>\n",
       "      <td>False</td>\n",
       "      <td>False</td>\n",
       "      <td>0</td>\n",
       "    </tr>\n",
       "  </tbody>\n",
       "</table>\n",
       "</div>"
      ],
      "text/plain": [
       "   Health  Smoker  Outcome\n",
       "0    True    True        2\n",
       "1   False   False        0\n",
       "2    True    True        2\n",
       "3    True   False        3\n",
       "4   False   False        0"
      ]
     },
     "execution_count": 28,
     "metadata": {},
     "output_type": "execute_result"
    }
   ],
   "source": [
    "import random as rand\n",
    "import pandas as pd\n",
    "import numpy as np\n",
    "\n",
    "### First of all let's generate some samples for a case where smoking is unrelated to any other properties\n",
    "N = 1000 # Let's make 1000 people\n",
    "P_u = 0.5 # Of which 50% are generally unhealthy\n",
    "P_s_h = P_s_u = 0.5 # And the probability of being a smoker is independant of health, or we've done RCT to control for this underlying\n",
    "\n",
    "healths = [rand.random() < P_u for i in range(N)] # Generate random healthy and unhealthy people according to fraction unhealthy\n",
    "p_smoker = [P_s_h * (healths[i] == 1) + P_s_u * (healths[i] == 0) for i in range(N)] # Assign smoking probabilites according to health (note that odds are same)\n",
    "smoker = [rand.random() < p_smoker[i] for i in range(N)] # Assign smoking according to probs\n",
    "outcome = [healths[i]*3 + smoker[i]*(-1) for i in range(N)] # We assign a linear model where being generally healthy is worth 3 points and smoking removes a point.\n",
    "\n",
    "samples = pd.DataFrame({'Health':healths, 'Smoker':smoker, 'Outcome':outcome})\n",
    "samples.head()"
   ]
  },
  {
   "cell_type": "markdown",
   "id": "12636057",
   "metadata": {},
   "source": [
    "Given this case we can simply evaluate the expected impact of smoking as being the mean for the smokers vs the non smokers, the naive approach will work just fine."
   ]
  },
  {
   "cell_type": "code",
   "execution_count": 29,
   "id": "cebf6786",
   "metadata": {},
   "outputs": [
    {
     "name": "stdout",
     "output_type": "stream",
     "text": [
      "Smoking Mean Score: 0.4274661508704062\n",
      "Std Deviation of Smoking Mean Score: 0.06589275092327597\n",
      "Non-Smoking Mean Score: 1.4720496894409938\n",
      "Std Deviation of Non Smoking Mean Score: 0.06824051333881244\n",
      "---------------------------------------\n",
      "Estimated Impact of Smoking: -1.0445835385705875\n",
      "Std Deviation of Difference: 0.09486106833143682\n",
      "Estimate 95% Conf Interval: 0.18592769392961617\n"
     ]
    }
   ],
   "source": [
    "sample_Smoking = samples[samples['Smoker'] == True]['Outcome']     # Select and take mean of smoking/nonsmoking samples\n",
    "sample_NonSmoking = samples[samples['Smoker'] == False]['Outcome'] # ...\n",
    "\n",
    "print(f\"Smoking Mean Score: {sample_Smoking.mean()}\")                                                          # Sample mean\n",
    "print(f\"Std Deviation of Smoking Mean Score: {np.sqrt(np.var(sample_Smoking)/len(sample_Smoking))}\")           # MC variance estimator\n",
    "print(f\"Non-Smoking Mean Score: {sample_NonSmoking.mean()}\")                                                   # ...\n",
    "print(f\"Std Deviation of Non Smoking Mean Score: {np.sqrt(np.var(sample_NonSmoking)/len(sample_NonSmoking))}\") # ...\n",
    "print(f\"---------------------------------------\")\n",
    "print(f\"Estimated Impact of Smoking: {sample_Smoking.mean() - sample_NonSmoking.mean()}\")                                                           # Difference of means\n",
    "print(f\"Std Deviation of Difference: {np.sqrt(np.var(sample_NonSmoking)/len(sample_NonSmoking) + np.var(sample_Smoking)/len(sample_Smoking))}\")     # Combined variance to std\n",
    "print(f\"Estimate 95% Conf Interval: {np.sqrt(np.var(sample_NonSmoking)/len(sample_NonSmoking) + np.var(sample_Smoking)/len(sample_Smoking))*1.96}\") # Combined variance to conf int"
   ]
  },
  {
   "cell_type": "markdown",
   "id": "b7f629f4",
   "metadata": {},
   "source": [
    "### Correlated Case"
   ]
  },
  {
   "cell_type": "markdown",
   "id": "adf57d6d",
   "metadata": {},
   "source": [
    "Now we can check the other case with very similar code."
   ]
  },
  {
   "cell_type": "code",
   "execution_count": 30,
   "id": "31b5531c",
   "metadata": {},
   "outputs": [
    {
     "name": "stdout",
     "output_type": "stream",
     "text": [
      "Smoking Mean Score: 0.24180327868852458\n",
      "Std Deviation of Smoking Mean Score: 0.06688830996862616\n",
      "Non-Smoking Mean Score: 1.79296875\n",
      "Std Deviation of Non Smoking Mean Score: 0.06501456134258858\n",
      "---------------------------------------\n",
      "Estimated Impact of Smoking: -1.5511654713114753\n",
      "Std Deviation of Difference: 0.09327882501955215\n",
      "Estimate 95% Conf Interval: 0.1828264970383222\n"
     ]
    }
   ],
   "source": [
    "### First of all let's generate some samples for a case where smoking is unrelated to any other properties\n",
    "N = 1000 # Let's make 1000 people\n",
    "P_u = 0.5 # Of which 50% are generally unhealthy\n",
    "P_s_h = 0.4 # A bit less likely for healthy people to smoke compared to before\n",
    "P_s_u = 0.6 # A bit more likely to be a smoker if you're unhealthy\n",
    "\n",
    "healths = [rand.random() < P_u for i in range(N)] # Generate random healthy and unhealthy people according to fraction unhealthy\n",
    "p_smoker = [P_s_h * (healths[i] == 1) + P_s_u * (healths[i] == 0) for i in range(N)] # Assign smoking probabilites according to health (note that odds are no longer the same)\n",
    "smoker = [rand.random() < p_smoker[i] for i in range(N)] # Assign smoking according to probs\n",
    "outcome = [healths[i]*3 + smoker[i]*(-1) for i in range(N)] # We assign a linear model where being generally healthy is worth 3 points and smoking removes a point.\n",
    "\n",
    "samples = pd.DataFrame({'Health':healths, 'Smoker':smoker, 'Outcome':outcome})\n",
    "\n",
    "sample_Smoking = samples[samples['Smoker'] == True]['Outcome']     # Select and take mean of smoking/nonsmoking samples\n",
    "sample_NonSmoking = samples[samples['Smoker'] == False]['Outcome'] # ...\n",
    "\n",
    "print(f\"Smoking Mean Score: {sample_Smoking.mean()}\")                                                          # Sample mean\n",
    "print(f\"Std Deviation of Smoking Mean Score: {np.sqrt(np.var(sample_Smoking)/len(sample_Smoking))}\")           # MC variance estimator\n",
    "print(f\"Non-Smoking Mean Score: {sample_NonSmoking.mean()}\")                                                   # ...\n",
    "print(f\"Std Deviation of Non Smoking Mean Score: {np.sqrt(np.var(sample_NonSmoking)/len(sample_NonSmoking))}\") # ...\n",
    "print(f\"---------------------------------------\")\n",
    "print(f\"Estimated Impact of Smoking: {sample_Smoking.mean() - sample_NonSmoking.mean()}\")                                                           # Difference of means\n",
    "print(f\"Std Deviation of Difference: {np.sqrt(np.var(sample_NonSmoking)/len(sample_NonSmoking) + np.var(sample_Smoking)/len(sample_Smoking))}\")     # Combined variance to std\n",
    "print(f\"Estimate 95% Conf Interval: {np.sqrt(np.var(sample_NonSmoking)/len(sample_NonSmoking) + np.var(sample_Smoking)/len(sample_Smoking))*1.96}\") # Combined variance to conf int"
   ]
  },
  {
   "cell_type": "markdown",
   "id": "92562fdd",
   "metadata": {},
   "source": [
    "### What if we perform a fit that's allowed to see the health variable, and hopefully assign some blame to it instead\n"
   ]
  },
  {
   "cell_type": "code",
   "execution_count": null,
   "id": "4af7ccc4",
   "metadata": {},
   "outputs": [
    {
     "data": {
      "text/html": [
       "<table class=\"simpletable\">\n",
       "<caption>OLS Regression Results</caption>\n",
       "<tr>\n",
       "  <th>Dep. Variable:</th>         <td>Outcome</td>     <th>  R-squared:         </th>  <td>   1.000</td> \n",
       "</tr>\n",
       "<tr>\n",
       "  <th>Model:</th>                   <td>OLS</td>       <th>  Adj. R-squared:    </th>  <td>   1.000</td> \n",
       "</tr>\n",
       "<tr>\n",
       "  <th>Method:</th>             <td>Least Squares</td>  <th>  F-statistic:       </th>  <td>5.008e+32</td>\n",
       "</tr>\n",
       "<tr>\n",
       "  <th>Date:</th>             <td>Tue, 29 Jul 2025</td> <th>  Prob (F-statistic):</th>   <td>  0.00</td>  \n",
       "</tr>\n",
       "<tr>\n",
       "  <th>Time:</th>                 <td>13:16:10</td>     <th>  Log-Likelihood:    </th>  <td>  32612.</td> \n",
       "</tr>\n",
       "<tr>\n",
       "  <th>No. Observations:</th>      <td>  1000</td>      <th>  AIC:               </th> <td>-6.522e+04</td>\n",
       "</tr>\n",
       "<tr>\n",
       "  <th>Df Residuals:</th>          <td>   997</td>      <th>  BIC:               </th> <td>-6.520e+04</td>\n",
       "</tr>\n",
       "<tr>\n",
       "  <th>Df Model:</th>              <td>     2</td>      <th>                     </th>      <td> </td>    \n",
       "</tr>\n",
       "<tr>\n",
       "  <th>Covariance Type:</th>      <td>nonrobust</td>    <th>                     </th>      <td> </td>    \n",
       "</tr>\n",
       "</table>\n",
       "<table class=\"simpletable\">\n",
       "<tr>\n",
       "     <td></td>       <th>coef</th>     <th>std err</th>      <th>t</th>      <th>P>|t|</th>  <th>[0.025</th>    <th>0.975]</th>  \n",
       "</tr>\n",
       "<tr>\n",
       "  <th>const</th>  <td> 9.593e-16</td> <td> 9.75e-17</td> <td>    9.838</td> <td> 0.000</td> <td> 7.68e-16</td> <td> 1.15e-15</td>\n",
       "</tr>\n",
       "<tr>\n",
       "  <th>Smoker</th> <td>   -1.0000</td> <td> 1.07e-16</td> <td>-9.33e+15</td> <td> 0.000</td> <td>   -1.000</td> <td>   -1.000</td>\n",
       "</tr>\n",
       "<tr>\n",
       "  <th>Health</th> <td>    3.0000</td> <td> 1.07e-16</td> <td>  2.8e+16</td> <td> 0.000</td> <td>    3.000</td> <td>    3.000</td>\n",
       "</tr>\n",
       "</table>\n",
       "<table class=\"simpletable\">\n",
       "<tr>\n",
       "  <th>Omnibus:</th>       <td>3876.674</td> <th>  Durbin-Watson:     </th> <td>   1.805</td>\n",
       "</tr>\n",
       "<tr>\n",
       "  <th>Prob(Omnibus):</th>  <td> 0.000</td>  <th>  Jarque-Bera (JB):  </th> <td> 158.811</td>\n",
       "</tr>\n",
       "<tr>\n",
       "  <th>Skew:</th>           <td>-0.014</td>  <th>  Prob(JB):          </th> <td>3.27e-35</td>\n",
       "</tr>\n",
       "<tr>\n",
       "  <th>Kurtosis:</th>       <td> 1.048</td>  <th>  Cond. No.          </th> <td>    3.48</td>\n",
       "</tr>\n",
       "</table><br/><br/>Notes:<br/>[1] Standard Errors assume that the covariance matrix of the errors is correctly specified."
      ],
      "text/latex": [
       "\\begin{center}\n",
       "\\begin{tabular}{lclc}\n",
       "\\toprule\n",
       "\\textbf{Dep. Variable:}    &     Outcome      & \\textbf{  R-squared:         } &     1.000   \\\\\n",
       "\\textbf{Model:}            &       OLS        & \\textbf{  Adj. R-squared:    } &     1.000   \\\\\n",
       "\\textbf{Method:}           &  Least Squares   & \\textbf{  F-statistic:       } & 5.008e+32   \\\\\n",
       "\\textbf{Date:}             & Tue, 29 Jul 2025 & \\textbf{  Prob (F-statistic):} &     0.00    \\\\\n",
       "\\textbf{Time:}             &     13:16:10     & \\textbf{  Log-Likelihood:    } &    32612.   \\\\\n",
       "\\textbf{No. Observations:} &        1000      & \\textbf{  AIC:               } & -6.522e+04  \\\\\n",
       "\\textbf{Df Residuals:}     &         997      & \\textbf{  BIC:               } & -6.520e+04  \\\\\n",
       "\\textbf{Df Model:}         &           2      & \\textbf{                     } &             \\\\\n",
       "\\textbf{Covariance Type:}  &    nonrobust     & \\textbf{                     } &             \\\\\n",
       "\\bottomrule\n",
       "\\end{tabular}\n",
       "\\begin{tabular}{lcccccc}\n",
       "                & \\textbf{coef} & \\textbf{std err} & \\textbf{t} & \\textbf{P$> |$t$|$} & \\textbf{[0.025} & \\textbf{0.975]}  \\\\\n",
       "\\midrule\n",
       "\\textbf{const}  &    9.593e-16  &     9.75e-17     &     9.838  &         0.000        &     7.68e-16    &     1.15e-15     \\\\\n",
       "\\textbf{Smoker} &      -1.0000  &     1.07e-16     & -9.33e+15  &         0.000        &       -1.000    &       -1.000     \\\\\n",
       "\\textbf{Health} &       3.0000  &     1.07e-16     &   2.8e+16  &         0.000        &        3.000    &        3.000     \\\\\n",
       "\\bottomrule\n",
       "\\end{tabular}\n",
       "\\begin{tabular}{lclc}\n",
       "\\textbf{Omnibus:}       & 3876.674 & \\textbf{  Durbin-Watson:     } &    1.805  \\\\\n",
       "\\textbf{Prob(Omnibus):} &   0.000  & \\textbf{  Jarque-Bera (JB):  } &  158.811  \\\\\n",
       "\\textbf{Skew:}          &  -0.014  & \\textbf{  Prob(JB):          } & 3.27e-35  \\\\\n",
       "\\textbf{Kurtosis:}      &   1.048  & \\textbf{  Cond. No.          } &     3.48  \\\\\n",
       "\\bottomrule\n",
       "\\end{tabular}\n",
       "%\\caption{OLS Regression Results}\n",
       "\\end{center}\n",
       "\n",
       "Notes: \\newline\n",
       " [1] Standard Errors assume that the covariance matrix of the errors is correctly specified."
      ],
      "text/plain": [
       "<class 'statsmodels.iolib.summary.Summary'>\n",
       "\"\"\"\n",
       "                            OLS Regression Results                            \n",
       "==============================================================================\n",
       "Dep. Variable:                Outcome   R-squared:                       1.000\n",
       "Model:                            OLS   Adj. R-squared:                  1.000\n",
       "Method:                 Least Squares   F-statistic:                 5.008e+32\n",
       "Date:                Tue, 29 Jul 2025   Prob (F-statistic):               0.00\n",
       "Time:                        13:16:10   Log-Likelihood:                 32612.\n",
       "No. Observations:                1000   AIC:                        -6.522e+04\n",
       "Df Residuals:                     997   BIC:                        -6.520e+04\n",
       "Df Model:                           2                                         \n",
       "Covariance Type:            nonrobust                                         \n",
       "==============================================================================\n",
       "                 coef    std err          t      P>|t|      [0.025      0.975]\n",
       "------------------------------------------------------------------------------\n",
       "const       9.593e-16   9.75e-17      9.838      0.000    7.68e-16    1.15e-15\n",
       "Smoker        -1.0000   1.07e-16  -9.33e+15      0.000      -1.000      -1.000\n",
       "Health         3.0000   1.07e-16    2.8e+16      0.000       3.000       3.000\n",
       "==============================================================================\n",
       "Omnibus:                     3876.674   Durbin-Watson:                   1.805\n",
       "Prob(Omnibus):                  0.000   Jarque-Bera (JB):              158.811\n",
       "Skew:                          -0.014   Prob(JB):                     3.27e-35\n",
       "Kurtosis:                       1.048   Cond. No.                         3.48\n",
       "==============================================================================\n",
       "\n",
       "Notes:\n",
       "[1] Standard Errors assume that the covariance matrix of the errors is correctly specified.\n",
       "\"\"\""
      ]
     },
     "execution_count": 37,
     "metadata": {},
     "output_type": "execute_result"
    }
   ],
   "source": [
    "import statsmodels.api as sm\n",
    "X = samples[['Smoker','Health']].astype(int) # Create a subframe of our explanatory variables \n",
    "X = sm.add_constant(X)                       # Add intercept fitting constant\n",
    "model = sm.OLS(samples['Outcome'], X).fit()  \n",
    "model.summary()                              # And now we get a perfect recovery since the model is so simple and noise free!"
   ]
  },
  {
   "cell_type": "markdown",
   "id": "b6205fb2",
   "metadata": {},
   "source": [
    "### Whats it mean\n",
    "As expected it's very important in an RCT to properly distribute your samples, or to underrstand and correct for any underlying confounding variables, with potential correlations, cross correlations or interactions. Making sure that your sample groups are as similar as possible in any and every possible interaction, ideally down to a one to one, but at least down to as above correct in distribution is critical to get trustworthy results. If you can't filter out a potential issue, allowing flexibility in it can help reduce issues caused by it's inclusion."
   ]
  }
 ],
 "metadata": {
  "kernelspec": {
   "display_name": "causal",
   "language": "python",
   "name": "python3"
  },
  "language_info": {
   "codemirror_mode": {
    "name": "ipython",
    "version": 3
   },
   "file_extension": ".py",
   "mimetype": "text/x-python",
   "name": "python",
   "nbconvert_exporter": "python",
   "pygments_lexer": "ipython3",
   "version": "3.13.2"
  }
 },
 "nbformat": 4,
 "nbformat_minor": 5
}
