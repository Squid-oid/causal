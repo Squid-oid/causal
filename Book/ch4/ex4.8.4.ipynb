{
 "cells": [
  {
   "cell_type": "markdown",
   "id": "cca03cd9",
   "metadata": {},
   "source": [
    "### The debiased Lasso Method\n",
    "In debiased Lasso you want the effect of $D$ on $Y$, which is given by $\\alpha$. You have counfounding variables $W$ which gives you the total set of regressors $X = [D~W]$.\n",
    "\n",
    "We suppose that some portion of $D$ might be explainable as a function of $W$ such that $D = \\gamma W + \\epsilon$, $\\tilde{D}(\\gamma) = D - \\gamma W$, and that some portion of $Y$ is explainable in both D and W, such that\n",
    "$Y = \\alpha D + \\beta^T W + \\epsilon$.\n",
    "\n",
    "The debiased Lasso method is constructed so as to give an estimator based on a neyman orthogonal moment condition, which should give a robust estimator of $\\alpha$, $\\hat{\\alpha}$.\n",
    "\n",
    "The procedure is to first run a Lasso estimator connecting $Y$ to $D$ and $W$ ($X$), to get an estimator $\\hat{\\beta}$, which connects $W$ to $Y$. Next we run a Lasso explaining $D$ with $W$ to get an estimate of $\\gamma$, $\\hat{\\gamma}$. Then cfinally we find the estimator $\\hat{alpha}$ as the solution to the moment equation \n",
    "\n",
    "$$\\mathbb{E}[(Y - \\hat{\\alpha} - \\hat{\\beta^T}W)\\tilde{D}(\\hat{\\gamma})] = 0$$\n",
    "\n",
    "Which has explicit form \n",
    "\n",
    "$$\\hat{\\alpha} = (\\mathbb{E}[D\\tilde{D}(\\hat\\gamma)])^{-1}\\mathbb{E}[(Y - \\hat{\\beta}^TW)\\tilde{D}(\\hat{\\gamma})]"
   ]
  },
  {
   "cell_type": "markdown",
   "id": "269fb7ea",
   "metadata": {},
   "source": [
    "### Showing that the above is Neyman orthogonal\n",
    "$$ \\eta := [\\gamma, \\beta] , \\eta_1 := [\\gamma] , \\eta_2 := [\\beta] $$\n",
    "$$\\delta_{\\eta}\\mathbb{E}[(Y - \\alpha - \\beta^TW)\\tilde{D}(\\gamma)]  = \\\\\n",
    "  \\mathbb{E}[\\delta_{\\eta}((Y - \\alpha - \\eta_2^TW)\\tilde{D}(\\eta_1))] $$\n",
    "\n",
    "If we can show that both $\\delta_{\\eta_1}M = 0$ and $\\delta_{\\eta_2}M = 0$ then we know the whole is 0.\n",
    "\n",
    "$$\\mathbb{E}[\\delta_{\\eta_1}((Y - \\alpha - \\eta_2^TW)\\tilde{D}(\\eta_1))] =\\\\\n",
    "  \\mathbb{E}[(Y - \\alpha - \\eta_2^TW)\\delta_{\\eta_1}(D -\\eta_1 W)] = \\\\\n",
    "  \\mathbb{E}[(Y - \\alpha - \\eta_2^TW)W] = 0 $$ \n",
    "\n",
    "$$\\mathbb{E}[\\delta_{\\eta_2}((Y - \\alpha - \\eta_2^TW)\\tilde{D}(\\eta_1))] = \\\\\n",
    "  \\mathbb{E}[(D - \\gamma W)\\delta_{\\eta_2}(Y - \\alpha - \\eta_2^TW)] = \\\\\n",
    "  \\mathbb{E}[(D - \\gamma W)W^T] = 0\\\\$$\n",
    "\n",
    "Where the last equalities are based on that the model is correct, leaving 0 expectation, uncorrelated, noise residuals.\n"
   ]
  }
 ],
 "metadata": {
  "language_info": {
   "name": "python"
  }
 },
 "nbformat": 4,
 "nbformat_minor": 5
}
