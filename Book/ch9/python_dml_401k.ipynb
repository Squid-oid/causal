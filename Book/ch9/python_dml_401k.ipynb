{
  "cells": [
    {
      "cell_type": "markdown",
      "id": "0",
      "metadata": {
        "id": "0"
      },
      "source": [
        "# Inference on Predictive and Causal Effects in High-Dimensional Nonlinear Models"
      ]
    },
    {
      "cell_type": "markdown",
      "id": "1",
      "metadata": {
        "id": "1"
      },
      "source": [
        "## Impact of 401(k) on  Financial Wealth\n",
        "\n",
        "As a practical illustration of the DML method, we consider estimation of the effect of 401(k) eligibility and participation\n",
        "on accumulated assets. 401(k) plans are pension accounts sponsored by employers. The key problem in determining the effect of participation in 401(k) plans on accumulated assets is saver heterogeneity coupled with the fact that the decision to enroll in a 401(k) is non-random. It is generally recognized that some people have a higher preference for saving than others. It also seems likely that those individuals with high unobserved preference for saving would be most likely to choose to participate in tax-advantaged retirement savings plans and would tend to have otherwise high amounts of accumulated assets. The presence of unobserved savings preferences with these properties then implies that conventional estimates that do not account for saver heterogeneity and endogeneity of participation will be biased upward, tending to overstate the savings effects of 401(k) participation.\n",
        "\n",
        "One can argue that eligibility for enrolling in a 401(k) plan in this data can be taken as exogenous after conditioning on a few observables of which the most important for their argument is income. The basic idea is that, at least around the time 401(k)’s initially became available, people were unlikely to be basing their employment decisions on whether an employer offered a 401(k) but would instead focus on income and other aspects of the job."
      ]
    },
    {
      "cell_type": "markdown",
      "id": "2",
      "metadata": {
        "id": "2"
      },
      "source": [
        "### Data\n",
        "\n",
        "The data set can be downloaded from the github repo\n"
      ]
    },
    {
      "cell_type": "code",
      "execution_count": 2,
      "id": "4",
      "metadata": {
        "id": "4"
      },
      "outputs": [],
      "source": [
        "# Import relevant packages\n",
        "import pandas as pd\n",
        "import numpy as np\n",
        "import matplotlib.pyplot as plt\n",
        "from sklearn.model_selection import cross_val_predict, KFold\n",
        "from sklearn.pipeline import make_pipeline\n",
        "from sklearn.linear_model import LassoCV, LinearRegression, LogisticRegressionCV\n",
        "from sklearn.preprocessing import StandardScaler\n",
        "from sklearn.ensemble import GradientBoostingRegressor, GradientBoostingClassifier\n",
        "from sklearn.ensemble import RandomForestRegressor, RandomForestClassifier\n",
        "from sklearn.tree import DecisionTreeRegressor, DecisionTreeClassifier\n",
        "from sklearn.base import TransformerMixin, BaseEstimator, clone\n",
        "from IPython.display import Markdown\n",
        "import wget\n",
        "import seaborn as sns\n",
        "from formulaic import Formula\n",
        "import warnings\n",
        "warnings.simplefilter('ignore')\n",
        "np.random.seed(1234)"
      ]
    },
    {
      "cell_type": "code",
      "execution_count": 3,
      "id": "5",
      "metadata": {
        "id": "5"
      },
      "outputs": [],
      "source": [
        "file = \"https://raw.githubusercontent.com/CausalAIBook/MetricsMLNotebooks/main/data/401k.csv\"\n",
        "data = pd.read_csv(file)"
      ]
    },
    {
      "cell_type": "code",
      "execution_count": 4,
      "id": "6",
      "metadata": {
        "id": "6"
      },
      "outputs": [
        {
          "data": {
            "text/html": [
              "<div>\n",
              "<style scoped>\n",
              "    .dataframe tbody tr th:only-of-type {\n",
              "        vertical-align: middle;\n",
              "    }\n",
              "\n",
              "    .dataframe tbody tr th {\n",
              "        vertical-align: top;\n",
              "    }\n",
              "\n",
              "    .dataframe thead th {\n",
              "        text-align: right;\n",
              "    }\n",
              "</style>\n",
              "<table border=\"1\" class=\"dataframe\">\n",
              "  <thead>\n",
              "    <tr style=\"text-align: right;\">\n",
              "      <th></th>\n",
              "      <th>ira</th>\n",
              "      <th>a401</th>\n",
              "      <th>hval</th>\n",
              "      <th>hmort</th>\n",
              "      <th>hequity</th>\n",
              "      <th>nifa</th>\n",
              "      <th>net_nifa</th>\n",
              "      <th>tfa</th>\n",
              "      <th>net_tfa</th>\n",
              "      <th>tfa_he</th>\n",
              "      <th>...</th>\n",
              "      <th>i3</th>\n",
              "      <th>i4</th>\n",
              "      <th>i5</th>\n",
              "      <th>i6</th>\n",
              "      <th>i7</th>\n",
              "      <th>a1</th>\n",
              "      <th>a2</th>\n",
              "      <th>a3</th>\n",
              "      <th>a4</th>\n",
              "      <th>a5</th>\n",
              "    </tr>\n",
              "  </thead>\n",
              "  <tbody>\n",
              "    <tr>\n",
              "      <th>count</th>\n",
              "      <td>9915.000000</td>\n",
              "      <td>9915.000000</td>\n",
              "      <td>9915.000000</td>\n",
              "      <td>9915.000000</td>\n",
              "      <td>9915.000000</td>\n",
              "      <td>9.915000e+03</td>\n",
              "      <td>9.915000e+03</td>\n",
              "      <td>9.915000e+03</td>\n",
              "      <td>9.915000e+03</td>\n",
              "      <td>9.915000e+03</td>\n",
              "      <td>...</td>\n",
              "      <td>9915.000000</td>\n",
              "      <td>9915.000000</td>\n",
              "      <td>9915.000000</td>\n",
              "      <td>9915.000000</td>\n",
              "      <td>9915.000000</td>\n",
              "      <td>9915.000000</td>\n",
              "      <td>9915.000000</td>\n",
              "      <td>9915.000000</td>\n",
              "      <td>9915.000000</td>\n",
              "      <td>9915.000000</td>\n",
              "    </tr>\n",
              "    <tr>\n",
              "      <th>mean</th>\n",
              "      <td>3462.871609</td>\n",
              "      <td>3990.459304</td>\n",
              "      <td>63595.865759</td>\n",
              "      <td>30022.505093</td>\n",
              "      <td>33573.360666</td>\n",
              "      <td>1.392864e+04</td>\n",
              "      <td>1.041415e+04</td>\n",
              "      <td>2.156603e+04</td>\n",
              "      <td>1.805153e+04</td>\n",
              "      <td>5.162490e+04</td>\n",
              "      <td>...</td>\n",
              "      <td>0.209178</td>\n",
              "      <td>0.172668</td>\n",
              "      <td>0.121432</td>\n",
              "      <td>0.158548</td>\n",
              "      <td>0.077358</td>\n",
              "      <td>0.144024</td>\n",
              "      <td>0.209682</td>\n",
              "      <td>0.297428</td>\n",
              "      <td>0.215431</td>\n",
              "      <td>0.133434</td>\n",
              "    </tr>\n",
              "    <tr>\n",
              "      <th>std</th>\n",
              "      <td>9648.027853</td>\n",
              "      <td>12825.840676</td>\n",
              "      <td>73679.374267</td>\n",
              "      <td>40056.879558</td>\n",
              "      <td>51830.770524</td>\n",
              "      <td>5.490488e+04</td>\n",
              "      <td>5.602886e+04</td>\n",
              "      <td>6.256504e+04</td>\n",
              "      <td>6.352250e+04</td>\n",
              "      <td>9.325339e+04</td>\n",
              "      <td>...</td>\n",
              "      <td>0.406742</td>\n",
              "      <td>0.377979</td>\n",
              "      <td>0.326645</td>\n",
              "      <td>0.365272</td>\n",
              "      <td>0.267171</td>\n",
              "      <td>0.351132</td>\n",
              "      <td>0.407102</td>\n",
              "      <td>0.457150</td>\n",
              "      <td>0.411142</td>\n",
              "      <td>0.340061</td>\n",
              "    </tr>\n",
              "    <tr>\n",
              "      <th>min</th>\n",
              "      <td>0.000000</td>\n",
              "      <td>0.000000</td>\n",
              "      <td>0.000000</td>\n",
              "      <td>0.000000</td>\n",
              "      <td>-40000.000000</td>\n",
              "      <td>0.000000e+00</td>\n",
              "      <td>-5.023020e+05</td>\n",
              "      <td>0.000000e+00</td>\n",
              "      <td>-5.023020e+05</td>\n",
              "      <td>-5.023020e+05</td>\n",
              "      <td>...</td>\n",
              "      <td>0.000000</td>\n",
              "      <td>0.000000</td>\n",
              "      <td>0.000000</td>\n",
              "      <td>0.000000</td>\n",
              "      <td>0.000000</td>\n",
              "      <td>0.000000</td>\n",
              "      <td>0.000000</td>\n",
              "      <td>0.000000</td>\n",
              "      <td>0.000000</td>\n",
              "      <td>0.000000</td>\n",
              "    </tr>\n",
              "    <tr>\n",
              "      <th>25%</th>\n",
              "      <td>0.000000</td>\n",
              "      <td>0.000000</td>\n",
              "      <td>0.000000</td>\n",
              "      <td>0.000000</td>\n",
              "      <td>0.000000</td>\n",
              "      <td>2.000000e+02</td>\n",
              "      <td>-1.350000e+03</td>\n",
              "      <td>3.750000e+02</td>\n",
              "      <td>-5.000000e+02</td>\n",
              "      <td>2.000000e+02</td>\n",
              "      <td>...</td>\n",
              "      <td>0.000000</td>\n",
              "      <td>0.000000</td>\n",
              "      <td>0.000000</td>\n",
              "      <td>0.000000</td>\n",
              "      <td>0.000000</td>\n",
              "      <td>0.000000</td>\n",
              "      <td>0.000000</td>\n",
              "      <td>0.000000</td>\n",
              "      <td>0.000000</td>\n",
              "      <td>0.000000</td>\n",
              "    </tr>\n",
              "    <tr>\n",
              "      <th>50%</th>\n",
              "      <td>0.000000</td>\n",
              "      <td>0.000000</td>\n",
              "      <td>48000.000000</td>\n",
              "      <td>7000.000000</td>\n",
              "      <td>10000.000000</td>\n",
              "      <td>1.635000e+03</td>\n",
              "      <td>2.700000e+02</td>\n",
              "      <td>3.325000e+03</td>\n",
              "      <td>1.499000e+03</td>\n",
              "      <td>1.850000e+04</td>\n",
              "      <td>...</td>\n",
              "      <td>0.000000</td>\n",
              "      <td>0.000000</td>\n",
              "      <td>0.000000</td>\n",
              "      <td>0.000000</td>\n",
              "      <td>0.000000</td>\n",
              "      <td>0.000000</td>\n",
              "      <td>0.000000</td>\n",
              "      <td>0.000000</td>\n",
              "      <td>0.000000</td>\n",
              "      <td>0.000000</td>\n",
              "    </tr>\n",
              "    <tr>\n",
              "      <th>75%</th>\n",
              "      <td>0.000000</td>\n",
              "      <td>200.000000</td>\n",
              "      <td>95000.000000</td>\n",
              "      <td>50000.000000</td>\n",
              "      <td>46650.000000</td>\n",
              "      <td>8.765500e+03</td>\n",
              "      <td>6.543500e+03</td>\n",
              "      <td>1.908450e+04</td>\n",
              "      <td>1.652450e+04</td>\n",
              "      <td>6.920000e+04</td>\n",
              "      <td>...</td>\n",
              "      <td>0.000000</td>\n",
              "      <td>0.000000</td>\n",
              "      <td>0.000000</td>\n",
              "      <td>0.000000</td>\n",
              "      <td>0.000000</td>\n",
              "      <td>0.000000</td>\n",
              "      <td>0.000000</td>\n",
              "      <td>1.000000</td>\n",
              "      <td>0.000000</td>\n",
              "      <td>0.000000</td>\n",
              "    </tr>\n",
              "    <tr>\n",
              "      <th>max</th>\n",
              "      <td>100000.000000</td>\n",
              "      <td>153000.000000</td>\n",
              "      <td>300000.000000</td>\n",
              "      <td>150000.000000</td>\n",
              "      <td>300000.000000</td>\n",
              "      <td>1.430298e+06</td>\n",
              "      <td>1.430298e+06</td>\n",
              "      <td>1.536798e+06</td>\n",
              "      <td>1.536798e+06</td>\n",
              "      <td>1.687115e+06</td>\n",
              "      <td>...</td>\n",
              "      <td>1.000000</td>\n",
              "      <td>1.000000</td>\n",
              "      <td>1.000000</td>\n",
              "      <td>1.000000</td>\n",
              "      <td>1.000000</td>\n",
              "      <td>1.000000</td>\n",
              "      <td>1.000000</td>\n",
              "      <td>1.000000</td>\n",
              "      <td>1.000000</td>\n",
              "      <td>1.000000</td>\n",
              "    </tr>\n",
              "  </tbody>\n",
              "</table>\n",
              "<p>8 rows × 44 columns</p>\n",
              "</div>"
            ],
            "text/plain": [
              "                 ira           a401           hval          hmort  \\\n",
              "count    9915.000000    9915.000000    9915.000000    9915.000000   \n",
              "mean     3462.871609    3990.459304   63595.865759   30022.505093   \n",
              "std      9648.027853   12825.840676   73679.374267   40056.879558   \n",
              "min         0.000000       0.000000       0.000000       0.000000   \n",
              "25%         0.000000       0.000000       0.000000       0.000000   \n",
              "50%         0.000000       0.000000   48000.000000    7000.000000   \n",
              "75%         0.000000     200.000000   95000.000000   50000.000000   \n",
              "max    100000.000000  153000.000000  300000.000000  150000.000000   \n",
              "\n",
              "             hequity          nifa      net_nifa           tfa       net_tfa  \\\n",
              "count    9915.000000  9.915000e+03  9.915000e+03  9.915000e+03  9.915000e+03   \n",
              "mean    33573.360666  1.392864e+04  1.041415e+04  2.156603e+04  1.805153e+04   \n",
              "std     51830.770524  5.490488e+04  5.602886e+04  6.256504e+04  6.352250e+04   \n",
              "min    -40000.000000  0.000000e+00 -5.023020e+05  0.000000e+00 -5.023020e+05   \n",
              "25%         0.000000  2.000000e+02 -1.350000e+03  3.750000e+02 -5.000000e+02   \n",
              "50%     10000.000000  1.635000e+03  2.700000e+02  3.325000e+03  1.499000e+03   \n",
              "75%     46650.000000  8.765500e+03  6.543500e+03  1.908450e+04  1.652450e+04   \n",
              "max    300000.000000  1.430298e+06  1.430298e+06  1.536798e+06  1.536798e+06   \n",
              "\n",
              "             tfa_he  ...           i3           i4           i5           i6  \\\n",
              "count  9.915000e+03  ...  9915.000000  9915.000000  9915.000000  9915.000000   \n",
              "mean   5.162490e+04  ...     0.209178     0.172668     0.121432     0.158548   \n",
              "std    9.325339e+04  ...     0.406742     0.377979     0.326645     0.365272   \n",
              "min   -5.023020e+05  ...     0.000000     0.000000     0.000000     0.000000   \n",
              "25%    2.000000e+02  ...     0.000000     0.000000     0.000000     0.000000   \n",
              "50%    1.850000e+04  ...     0.000000     0.000000     0.000000     0.000000   \n",
              "75%    6.920000e+04  ...     0.000000     0.000000     0.000000     0.000000   \n",
              "max    1.687115e+06  ...     1.000000     1.000000     1.000000     1.000000   \n",
              "\n",
              "                i7           a1           a2           a3           a4  \\\n",
              "count  9915.000000  9915.000000  9915.000000  9915.000000  9915.000000   \n",
              "mean      0.077358     0.144024     0.209682     0.297428     0.215431   \n",
              "std       0.267171     0.351132     0.407102     0.457150     0.411142   \n",
              "min       0.000000     0.000000     0.000000     0.000000     0.000000   \n",
              "25%       0.000000     0.000000     0.000000     0.000000     0.000000   \n",
              "50%       0.000000     0.000000     0.000000     0.000000     0.000000   \n",
              "75%       0.000000     0.000000     0.000000     1.000000     0.000000   \n",
              "max       1.000000     1.000000     1.000000     1.000000     1.000000   \n",
              "\n",
              "                a5  \n",
              "count  9915.000000  \n",
              "mean      0.133434  \n",
              "std       0.340061  \n",
              "min       0.000000  \n",
              "25%       0.000000  \n",
              "50%       0.000000  \n",
              "75%       0.000000  \n",
              "max       1.000000  \n",
              "\n",
              "[8 rows x 44 columns]"
            ]
          },
          "execution_count": 4,
          "metadata": {},
          "output_type": "execute_result"
        }
      ],
      "source": [
        "data.describe()"
      ]
    },
    {
      "cell_type": "code",
      "execution_count": 6,
      "id": "7",
      "metadata": {
        "id": "7"
      },
      "outputs": [
        {
          "data": {
            "text/html": [
              "<div>\n",
              "<style scoped>\n",
              "    .dataframe tbody tr th:only-of-type {\n",
              "        vertical-align: middle;\n",
              "    }\n",
              "\n",
              "    .dataframe tbody tr th {\n",
              "        vertical-align: top;\n",
              "    }\n",
              "\n",
              "    .dataframe thead th {\n",
              "        text-align: right;\n",
              "    }\n",
              "</style>\n",
              "<table border=\"1\" class=\"dataframe\">\n",
              "  <thead>\n",
              "    <tr style=\"text-align: right;\">\n",
              "      <th></th>\n",
              "      <th>ira</th>\n",
              "      <th>a401</th>\n",
              "      <th>hval</th>\n",
              "      <th>hmort</th>\n",
              "      <th>hequity</th>\n",
              "      <th>nifa</th>\n",
              "      <th>net_nifa</th>\n",
              "      <th>tfa</th>\n",
              "      <th>net_tfa</th>\n",
              "      <th>tfa_he</th>\n",
              "      <th>tw</th>\n",
              "      <th>age</th>\n",
              "      <th>inc</th>\n",
              "      <th>fsize</th>\n",
              "      <th>educ</th>\n",
              "      <th>db</th>\n",
              "      <th>marr</th>\n",
              "      <th>male</th>\n",
              "      <th>twoearn</th>\n",
              "      <th>dum91</th>\n",
              "      <th>e401</th>\n",
              "      <th>p401</th>\n",
              "      <th>pira</th>\n",
              "      <th>nohs</th>\n",
              "      <th>hs</th>\n",
              "      <th>smcol</th>\n",
              "      <th>col</th>\n",
              "      <th>icat</th>\n",
              "      <th>ecat</th>\n",
              "      <th>zhat</th>\n",
              "      <th>net_n401</th>\n",
              "      <th>hown</th>\n",
              "      <th>i1</th>\n",
              "      <th>i2</th>\n",
              "      <th>i3</th>\n",
              "      <th>i4</th>\n",
              "      <th>i5</th>\n",
              "      <th>i6</th>\n",
              "      <th>i7</th>\n",
              "      <th>a1</th>\n",
              "      <th>a2</th>\n",
              "      <th>a3</th>\n",
              "      <th>a4</th>\n",
              "      <th>a5</th>\n",
              "    </tr>\n",
              "  </thead>\n",
              "  <tbody>\n",
              "    <tr>\n",
              "      <th>0</th>\n",
              "      <td>0</td>\n",
              "      <td>0</td>\n",
              "      <td>69000</td>\n",
              "      <td>60150</td>\n",
              "      <td>8850</td>\n",
              "      <td>100</td>\n",
              "      <td>-3300</td>\n",
              "      <td>100</td>\n",
              "      <td>-3300</td>\n",
              "      <td>5550</td>\n",
              "      <td>53550</td>\n",
              "      <td>31</td>\n",
              "      <td>28146</td>\n",
              "      <td>5</td>\n",
              "      <td>12</td>\n",
              "      <td>0</td>\n",
              "      <td>1</td>\n",
              "      <td>0</td>\n",
              "      <td>0</td>\n",
              "      <td>1</td>\n",
              "      <td>0</td>\n",
              "      <td>0</td>\n",
              "      <td>0</td>\n",
              "      <td>0</td>\n",
              "      <td>1</td>\n",
              "      <td>0</td>\n",
              "      <td>0</td>\n",
              "      <td>3</td>\n",
              "      <td>2</td>\n",
              "      <td>0.273178</td>\n",
              "      <td>-3300</td>\n",
              "      <td>1</td>\n",
              "      <td>0</td>\n",
              "      <td>0</td>\n",
              "      <td>1</td>\n",
              "      <td>0</td>\n",
              "      <td>0</td>\n",
              "      <td>0</td>\n",
              "      <td>0</td>\n",
              "      <td>0</td>\n",
              "      <td>1</td>\n",
              "      <td>0</td>\n",
              "      <td>0</td>\n",
              "      <td>0</td>\n",
              "    </tr>\n",
              "    <tr>\n",
              "      <th>1</th>\n",
              "      <td>0</td>\n",
              "      <td>0</td>\n",
              "      <td>78000</td>\n",
              "      <td>20000</td>\n",
              "      <td>58000</td>\n",
              "      <td>61010</td>\n",
              "      <td>61010</td>\n",
              "      <td>61010</td>\n",
              "      <td>61010</td>\n",
              "      <td>119010</td>\n",
              "      <td>124635</td>\n",
              "      <td>52</td>\n",
              "      <td>32634</td>\n",
              "      <td>5</td>\n",
              "      <td>16</td>\n",
              "      <td>0</td>\n",
              "      <td>0</td>\n",
              "      <td>0</td>\n",
              "      <td>0</td>\n",
              "      <td>1</td>\n",
              "      <td>0</td>\n",
              "      <td>0</td>\n",
              "      <td>0</td>\n",
              "      <td>0</td>\n",
              "      <td>0</td>\n",
              "      <td>0</td>\n",
              "      <td>1</td>\n",
              "      <td>4</td>\n",
              "      <td>4</td>\n",
              "      <td>0.386641</td>\n",
              "      <td>61010</td>\n",
              "      <td>1</td>\n",
              "      <td>0</td>\n",
              "      <td>0</td>\n",
              "      <td>0</td>\n",
              "      <td>1</td>\n",
              "      <td>0</td>\n",
              "      <td>0</td>\n",
              "      <td>0</td>\n",
              "      <td>0</td>\n",
              "      <td>0</td>\n",
              "      <td>0</td>\n",
              "      <td>1</td>\n",
              "      <td>0</td>\n",
              "    </tr>\n",
              "    <tr>\n",
              "      <th>2</th>\n",
              "      <td>1800</td>\n",
              "      <td>0</td>\n",
              "      <td>200000</td>\n",
              "      <td>15900</td>\n",
              "      <td>184100</td>\n",
              "      <td>7549</td>\n",
              "      <td>7049</td>\n",
              "      <td>9349</td>\n",
              "      <td>8849</td>\n",
              "      <td>192949</td>\n",
              "      <td>192949</td>\n",
              "      <td>50</td>\n",
              "      <td>52206</td>\n",
              "      <td>3</td>\n",
              "      <td>11</td>\n",
              "      <td>0</td>\n",
              "      <td>1</td>\n",
              "      <td>1</td>\n",
              "      <td>1</td>\n",
              "      <td>1</td>\n",
              "      <td>0</td>\n",
              "      <td>0</td>\n",
              "      <td>1</td>\n",
              "      <td>1</td>\n",
              "      <td>0</td>\n",
              "      <td>0</td>\n",
              "      <td>0</td>\n",
              "      <td>6</td>\n",
              "      <td>1</td>\n",
              "      <td>0.533650</td>\n",
              "      <td>8849</td>\n",
              "      <td>1</td>\n",
              "      <td>0</td>\n",
              "      <td>0</td>\n",
              "      <td>0</td>\n",
              "      <td>0</td>\n",
              "      <td>0</td>\n",
              "      <td>1</td>\n",
              "      <td>0</td>\n",
              "      <td>0</td>\n",
              "      <td>0</td>\n",
              "      <td>0</td>\n",
              "      <td>1</td>\n",
              "      <td>0</td>\n",
              "    </tr>\n",
              "    <tr>\n",
              "      <th>3</th>\n",
              "      <td>0</td>\n",
              "      <td>0</td>\n",
              "      <td>0</td>\n",
              "      <td>0</td>\n",
              "      <td>0</td>\n",
              "      <td>2487</td>\n",
              "      <td>-6013</td>\n",
              "      <td>2487</td>\n",
              "      <td>-6013</td>\n",
              "      <td>-6013</td>\n",
              "      <td>-513</td>\n",
              "      <td>28</td>\n",
              "      <td>45252</td>\n",
              "      <td>4</td>\n",
              "      <td>15</td>\n",
              "      <td>0</td>\n",
              "      <td>1</td>\n",
              "      <td>0</td>\n",
              "      <td>1</td>\n",
              "      <td>1</td>\n",
              "      <td>0</td>\n",
              "      <td>0</td>\n",
              "      <td>0</td>\n",
              "      <td>0</td>\n",
              "      <td>0</td>\n",
              "      <td>1</td>\n",
              "      <td>0</td>\n",
              "      <td>5</td>\n",
              "      <td>3</td>\n",
              "      <td>0.324319</td>\n",
              "      <td>-6013</td>\n",
              "      <td>0</td>\n",
              "      <td>0</td>\n",
              "      <td>0</td>\n",
              "      <td>0</td>\n",
              "      <td>0</td>\n",
              "      <td>1</td>\n",
              "      <td>0</td>\n",
              "      <td>0</td>\n",
              "      <td>1</td>\n",
              "      <td>0</td>\n",
              "      <td>0</td>\n",
              "      <td>0</td>\n",
              "      <td>0</td>\n",
              "    </tr>\n",
              "    <tr>\n",
              "      <th>4</th>\n",
              "      <td>0</td>\n",
              "      <td>0</td>\n",
              "      <td>300000</td>\n",
              "      <td>90000</td>\n",
              "      <td>210000</td>\n",
              "      <td>10625</td>\n",
              "      <td>-2375</td>\n",
              "      <td>10625</td>\n",
              "      <td>-2375</td>\n",
              "      <td>207625</td>\n",
              "      <td>212087</td>\n",
              "      <td>42</td>\n",
              "      <td>33126</td>\n",
              "      <td>3</td>\n",
              "      <td>12</td>\n",
              "      <td>1</td>\n",
              "      <td>0</td>\n",
              "      <td>0</td>\n",
              "      <td>0</td>\n",
              "      <td>1</td>\n",
              "      <td>0</td>\n",
              "      <td>0</td>\n",
              "      <td>0</td>\n",
              "      <td>0</td>\n",
              "      <td>1</td>\n",
              "      <td>0</td>\n",
              "      <td>0</td>\n",
              "      <td>4</td>\n",
              "      <td>2</td>\n",
              "      <td>0.602807</td>\n",
              "      <td>-2375</td>\n",
              "      <td>1</td>\n",
              "      <td>0</td>\n",
              "      <td>0</td>\n",
              "      <td>0</td>\n",
              "      <td>1</td>\n",
              "      <td>0</td>\n",
              "      <td>0</td>\n",
              "      <td>0</td>\n",
              "      <td>0</td>\n",
              "      <td>0</td>\n",
              "      <td>1</td>\n",
              "      <td>0</td>\n",
              "      <td>0</td>\n",
              "    </tr>\n",
              "  </tbody>\n",
              "</table>\n",
              "</div>"
            ],
            "text/plain": [
              "    ira  a401    hval  hmort  hequity   nifa  net_nifa    tfa  net_tfa  \\\n",
              "0     0     0   69000  60150     8850    100     -3300    100    -3300   \n",
              "1     0     0   78000  20000    58000  61010     61010  61010    61010   \n",
              "2  1800     0  200000  15900   184100   7549      7049   9349     8849   \n",
              "3     0     0       0      0        0   2487     -6013   2487    -6013   \n",
              "4     0     0  300000  90000   210000  10625     -2375  10625    -2375   \n",
              "\n",
              "   tfa_he      tw  age    inc  fsize  educ  db  marr  male  twoearn  dum91  \\\n",
              "0    5550   53550   31  28146      5    12   0     1     0        0      1   \n",
              "1  119010  124635   52  32634      5    16   0     0     0        0      1   \n",
              "2  192949  192949   50  52206      3    11   0     1     1        1      1   \n",
              "3   -6013    -513   28  45252      4    15   0     1     0        1      1   \n",
              "4  207625  212087   42  33126      3    12   1     0     0        0      1   \n",
              "\n",
              "   e401  p401  pira  nohs  hs  smcol  col  icat  ecat      zhat  net_n401  \\\n",
              "0     0     0     0     0   1      0    0     3     2  0.273178     -3300   \n",
              "1     0     0     0     0   0      0    1     4     4  0.386641     61010   \n",
              "2     0     0     1     1   0      0    0     6     1  0.533650      8849   \n",
              "3     0     0     0     0   0      1    0     5     3  0.324319     -6013   \n",
              "4     0     0     0     0   1      0    0     4     2  0.602807     -2375   \n",
              "\n",
              "   hown  i1  i2  i3  i4  i5  i6  i7  a1  a2  a3  a4  a5  \n",
              "0     1   0   0   1   0   0   0   0   0   1   0   0   0  \n",
              "1     1   0   0   0   1   0   0   0   0   0   0   1   0  \n",
              "2     1   0   0   0   0   0   1   0   0   0   0   1   0  \n",
              "3     0   0   0   0   0   1   0   0   1   0   0   0   0  \n",
              "4     1   0   0   0   1   0   0   0   0   0   1   0   0  "
            ]
          },
          "execution_count": 6,
          "metadata": {},
          "output_type": "execute_result"
        }
      ],
      "source": [
        "pd.set_option('display.max_colwidth', None)\n",
        "pd.set_option('display.max_columns', None)  \n",
        "data.head()"
      ]
    },
    {
      "cell_type": "code",
      "execution_count": 5,
      "id": "8",
      "metadata": {
        "id": "8"
      },
      "outputs": [
        {
          "data": {
            "text/markdown": [
              "# Pension 401(k) data set\n",
              "\n",
              "## Description\n",
              "Data set on financial wealth and 401(k) plan participation. The source of this data set is the `hdm` package in `R`. It was created on 2/20/2023, by calling the `data(pension)` command in `R` after loading the `hdm` package and then writing the created dataframe to a csv file.\n",
              "\n",
              "## Format\n",
              "Dataframe with the following variables (amongst others):\n",
              "\n",
              "**p401**\n",
              "\n",
              "participation in 401(k)\n",
              "\n",
              "**e401**\n",
              "\n",
              "eligibility for 401(k)\n",
              "\n",
              "**a401**\n",
              "\n",
              "401(k) assets\n",
              "\n",
              "**tw**\n",
              "\n",
              "total wealth (in US $)\n",
              "\n",
              "**tfa**\n",
              "\n",
              "financial assets (in US $)\n",
              "\n",
              "**net_tfa**\n",
              "\n",
              "net financial assets (in US $)\n",
              "\n",
              "**nifa**\n",
              "\n",
              "non-401k financial assets (in US $)\n",
              "\n",
              "**net_nifa**\n",
              "\n",
              "net non-401k financial assets\n",
              "\n",
              "**net_n401**\n",
              "\n",
              "net non-401(k) assets (in US $)\n",
              "\n",
              "**ira**\n",
              "\n",
              "individual retirement account (IRA)\n",
              "\n",
              "**inc**\n",
              "\n",
              "income (in US $)\n",
              "\n",
              "**age**\n",
              "\n",
              "age\n",
              "\n",
              "**fsize**\n",
              "\n",
              "family size\n",
              "\n",
              "**marr**\n",
              "\n",
              "married\n",
              "\n",
              "**pira**\n",
              "\n",
              "participation in IRA\n",
              "\n",
              "**db**\n",
              "\n",
              "defined benefit pension\n",
              "\n",
              "**hown**\n",
              "\n",
              "home owner\n",
              "\n",
              "**educ**\n",
              "\n",
              "education (in years)\n",
              "\n",
              "**male**\n",
              "\n",
              "male\n",
              "\n",
              "**twoearn**\n",
              "\n",
              "two earners\n",
              "\n",
              "**nohs, hs, smcol, col**\n",
              "\n",
              "dummies for education: no high-school, high-school, some college, college\n",
              "\n",
              "**hmort**\n",
              "\n",
              "home mortage (in US $)\n",
              "\n",
              "**hequity**\n",
              "\n",
              "home equity (in US $)\n",
              "\n",
              "**hval**\n",
              "\n",
              "home value (in US $)\n",
              "\n",
              "**i1-i7**\n",
              "\n",
              "are income category indicators, \n",
              "\n",
              "**a1-a5**\n",
              "\n",
              "are age category indicators\n",
              "\n",
              "**icat** \n",
              "\n",
              "is the categorical variable that produces i1-i7. \n",
              "\n",
              "**ecat** \n",
              "\n",
              "is the categorical variable that generates education dummies (no high school, high school, some college, college). \n",
              "\n",
              "**Dum91**\n",
              "\n",
              "is a dummy for 1991 which is equal to 1 for all observations because we are only use the 1991 SIPP. \n",
              "\n",
              "**tfa_he**\n",
              "\n",
              "is net_tfa + home equity.\n",
              "\n",
              "**zhat**\n",
              "\n",
              "outcome of first stage prediction in instrumental variable analysis, from the academic paper that introduced this data\n",
              "\n",
              "\n",
              "## Details\n",
              "The sample is drawn from the 1991 Survey of Income and Program Participation (SIPP) and consists of 9,915 observations. The observational units are household reference persons aged 25-64 and spouse if present. Households are included in the sample if at least one person is employed and no one is self-employed. The data set was analysed in Chernozhukov and Hansen (2004) and Belloni et al. (2014) where further details can be found. They examine the effects of 401(k) plans on wealth using data from the Survey of Income and Program Participation using 401(k) eligibility as an instrument for 401(k) participation.\n",
              "\n",
              "## References\n",
              "V. Chernohukov, C. Hansen (2004). The impact of 401(k) participation on the wealth distribution: An instrumental quantile regression analysis. The Review of Economic and Statistics 86 (3), 735–751.\n",
              "\n",
              "A. Belloni, V. Chernozhukov, I. Fernandez-Val, and C. Hansen (2014). Program evaluation with high-dimensional data. Working Paper."
            ],
            "text/plain": [
              "<IPython.core.display.Markdown object>"
            ]
          },
          "execution_count": 5,
          "metadata": {},
          "output_type": "execute_result"
        }
      ],
      "source": [
        "readme = \"https://raw.githubusercontent.com/CausalAIBook/MetricsMLNotebooks/main/data/401k.md\"\n",
        "filename = wget.download(readme)\n",
        "Markdown(open(filename, 'r').read())"
      ]
    },
    {
      "cell_type": "markdown",
      "id": "9",
      "metadata": {
        "id": "9"
      },
      "source": [
        "The data consist of 9,915 observations at the household level drawn from the 1991 Survey of Income and Program Participation (SIPP). We use net financial assets (*net\\_tfa*) as the outcome variable, $Y$,  in our analysis. The net financial assets are computed as the sum of IRA balances, 401(k) balances, checking accounts, saving bonds, other interest-earning accounts, other interest-earning assets, stocks, and mutual funds less non mortgage debts."
      ]
    },
    {
      "cell_type": "markdown",
      "id": "10",
      "metadata": {
        "id": "10"
      },
      "source": [
        "Among the $9915$ individuals, $3682$ are eligible to participate in the program. The variable *e401* indicates eligibility and *p401* indicates participation, respectively."
      ]
    },
    {
      "cell_type": "code",
      "execution_count": 6,
      "id": "11",
      "metadata": {
        "id": "11"
      },
      "outputs": [
        {
          "data": {
            "image/png": "[encoded data removed]",
            "text/plain": [
              "<Figure size 640x480 with 1 Axes>"
            ]
          },
          "metadata": {},
          "output_type": "display_data"
        }
      ],
      "source": [
        "sns.countplot(data, x='e401')\n",
        "plt.show()"
      ]
    },
    {
      "cell_type": "markdown",
      "id": "12",
      "metadata": {
        "id": "12"
      },
      "source": [
        "Eligibility is highly associated with financial wealth:"
      ]
    },
    {
      "cell_type": "code",
      "execution_count": 7,
      "id": "13",
      "metadata": {
        "id": "13"
      },
      "outputs": [
        {
          "data": {
            "image/png": "[encoded data removed]",
            "text/plain": [
              "<Figure size 1058.88x500 with 2 Axes>"
            ]
          },
          "metadata": {},
          "output_type": "display_data"
        }
      ],
      "source": [
        "sns.displot(data=data, x='net_tfa', kind='kde', col='e401', hue='e401', fill=True)\n",
        "plt.show()"
      ]
    },
    {
      "cell_type": "markdown",
      "id": "14",
      "metadata": {
        "id": "14"
      },
      "source": [
        "The unconditional APE of e401 is about $19559$:"
      ]
    },
    {
      "cell_type": "code",
      "execution_count": 8,
      "id": "15",
      "metadata": {
        "id": "15"
      },
      "outputs": [
        {
          "name": "stdout",
          "output_type": "stream",
          "text": [
            "19559\n"
          ]
        }
      ],
      "source": [
        "e1 = data[data['e401'] == 1]['net_tfa']\n",
        "e0 = data[data['e401'] == 0]['net_tfa']\n",
        "print(f'{np.mean(e1) - np.mean(e0):.0f}')"
      ]
    },
    {
      "cell_type": "markdown",
      "id": "16",
      "metadata": {
        "id": "16"
      },
      "source": [
        "Among the $3682$ individuals that  are eligible, $2594$ decided to participate in the program. The unconditional APE of p401 is about $27372$:"
      ]
    },
    {
      "cell_type": "code",
      "execution_count": 9,
      "id": "17",
      "metadata": {
        "id": "17"
      },
      "outputs": [
        {
          "name": "stdout",
          "output_type": "stream",
          "text": [
            "27372\n"
          ]
        }
      ],
      "source": [
        "e1 = data[data['p401'] == 1]['net_tfa']\n",
        "e0 = data[data['p401'] == 0]['net_tfa']\n",
        "print(f'{np.mean(e1) - np.mean(e0):.0f}')"
      ]
    },
    {
      "cell_type": "markdown",
      "id": "18",
      "metadata": {
        "id": "18"
      },
      "source": [
        "As discussed, these estimates are biased since they do not account for saver heterogeneity and endogeneity of participation."
      ]
    },
    {
      "cell_type": "code",
      "execution_count": 10,
      "id": "19",
      "metadata": {
        "id": "19"
      },
      "outputs": [
        {
          "data": {
            "text/plain": [
              "Index(['age', 'inc', 'fsize', 'educ', 'db', 'marr', 'male', 'twoearn', 'pira',\n",
              "       'nohs', 'hs', 'smcol', 'col', 'hown'],\n",
              "      dtype='object')"
            ]
          },
          "execution_count": 10,
          "metadata": {},
          "output_type": "execute_result"
        }
      ],
      "source": [
        "y = data['net_tfa'].values\n",
        "D = data['e401'].values\n",
        "D2 = data['p401'].values\n",
        "D3 = data['a401'].values\n",
        "X = data.drop(['e401', 'p401', 'a401', 'tw', 'tfa', 'net_tfa', 'tfa_he',\n",
        "               'hval', 'hmort', 'hequity',\n",
        "               'nifa', 'net_nifa', 'net_n401', 'ira',\n",
        "               'dum91', 'icat', 'ecat', 'zhat',\n",
        "               'i1', 'i2', 'i3', 'i4', 'i5', 'i6', 'i7',\n",
        "               'a1', 'a2', 'a3', 'a4', 'a5'], axis=1)\n",
        "X.columns"
      ]
    },
    {
      "cell_type": "markdown",
      "id": "20",
      "metadata": {
        "id": "20"
      },
      "source": [
        "### We define a transformer that constructs the engineered features for controls"
      ]
    },
    {
      "cell_type": "code",
      "execution_count": 11,
      "id": "21",
      "metadata": {
        "id": "21"
      },
      "outputs": [],
      "source": [
        "class FormulaTransformer(TransformerMixin, BaseEstimator):\n",
        "\n",
        "    def __init__(self, formula, array=False):\n",
        "        self.formula = formula\n",
        "        self.array = array\n",
        "\n",
        "    def fit(self, X, y=None):\n",
        "        return self\n",
        "\n",
        "    def transform(self, X, y=None):\n",
        "        df = Formula(self.formula).get_model_matrix(X)\n",
        "        if self.array:\n",
        "            return df.values\n",
        "        return df"
      ]
    },
    {
      "cell_type": "code",
      "execution_count": 12,
      "id": "22",
      "metadata": {
        "id": "22"
      },
      "outputs": [],
      "source": [
        "transformer = FormulaTransformer(\"0 + poly(age, degree=6, raw=True) + poly(inc, degree=8, raw=True) \"\n",
        "                                 \"+ poly(educ, degree=4, raw=True) + poly(fsize, degree=2, raw=True) \"\n",
        "                                 \"+ male + marr + twoearn + db + pira + hown\")"
      ]
    },
    {
      "cell_type": "code",
      "execution_count": 13,
      "id": "23",
      "metadata": {
        "id": "23"
      },
      "outputs": [
        {
          "data": {
            "text/html": [
              "<div>\n",
              "<style scoped>\n",
              "    .dataframe tbody tr th:only-of-type {\n",
              "        vertical-align: middle;\n",
              "    }\n",
              "\n",
              "    .dataframe tbody tr th {\n",
              "        vertical-align: top;\n",
              "    }\n",
              "\n",
              "    .dataframe thead th {\n",
              "        text-align: right;\n",
              "    }\n",
              "</style>\n",
              "<table border=\"1\" class=\"dataframe\">\n",
              "  <thead>\n",
              "    <tr style=\"text-align: right;\">\n",
              "      <th></th>\n",
              "      <th>poly(age, degree=6, raw=True)[0]</th>\n",
              "      <th>poly(age, degree=6, raw=True)[1]</th>\n",
              "      <th>poly(age, degree=6, raw=True)[2]</th>\n",
              "      <th>poly(age, degree=6, raw=True)[3]</th>\n",
              "      <th>poly(age, degree=6, raw=True)[4]</th>\n",
              "      <th>poly(age, degree=6, raw=True)[5]</th>\n",
              "      <th>poly(inc, degree=8, raw=True)[0]</th>\n",
              "      <th>poly(inc, degree=8, raw=True)[1]</th>\n",
              "      <th>poly(inc, degree=8, raw=True)[2]</th>\n",
              "      <th>poly(inc, degree=8, raw=True)[3]</th>\n",
              "      <th>...</th>\n",
              "      <th>poly(educ, degree=4, raw=True)[2]</th>\n",
              "      <th>poly(educ, degree=4, raw=True)[3]</th>\n",
              "      <th>poly(fsize, degree=2, raw=True)[0]</th>\n",
              "      <th>poly(fsize, degree=2, raw=True)[1]</th>\n",
              "      <th>male</th>\n",
              "      <th>marr</th>\n",
              "      <th>twoearn</th>\n",
              "      <th>db</th>\n",
              "      <th>pira</th>\n",
              "      <th>hown</th>\n",
              "    </tr>\n",
              "  </thead>\n",
              "  <tbody>\n",
              "    <tr>\n",
              "      <th>count</th>\n",
              "      <td>9915.000000</td>\n",
              "      <td>9915.000000</td>\n",
              "      <td>9915.000000</td>\n",
              "      <td>9.915000e+03</td>\n",
              "      <td>9.915000e+03</td>\n",
              "      <td>9.915000e+03</td>\n",
              "      <td>9915.000000</td>\n",
              "      <td>9.915000e+03</td>\n",
              "      <td>9.915000e+03</td>\n",
              "      <td>9.915000e+03</td>\n",
              "      <td>...</td>\n",
              "      <td>9915.000000</td>\n",
              "      <td>9915.000000</td>\n",
              "      <td>9915.000000</td>\n",
              "      <td>9915.000000</td>\n",
              "      <td>9915.000000</td>\n",
              "      <td>9915.000000</td>\n",
              "      <td>9915.000000</td>\n",
              "      <td>9915.000000</td>\n",
              "      <td>9915.000000</td>\n",
              "      <td>9915.000000</td>\n",
              "    </tr>\n",
              "    <tr>\n",
              "      <th>mean</th>\n",
              "      <td>41.060212</td>\n",
              "      <td>1792.938981</td>\n",
              "      <td>82850.255371</td>\n",
              "      <td>4.022991e+06</td>\n",
              "      <td>2.036867e+08</td>\n",
              "      <td>1.067384e+10</td>\n",
              "      <td>37200.623197</td>\n",
              "      <td>1.997590e+09</td>\n",
              "      <td>1.437534e+14</td>\n",
              "      <td>9.104568e+17</td>\n",
              "      <td>...</td>\n",
              "      <td>2601.853757</td>\n",
              "      <td>38237.377912</td>\n",
              "      <td>2.865860</td>\n",
              "      <td>10.581241</td>\n",
              "      <td>0.205951</td>\n",
              "      <td>0.604841</td>\n",
              "      <td>0.380837</td>\n",
              "      <td>0.271004</td>\n",
              "      <td>0.242158</td>\n",
              "      <td>0.635199</td>\n",
              "    </tr>\n",
              "    <tr>\n",
              "      <th>std</th>\n",
              "      <td>10.344505</td>\n",
              "      <td>899.134499</td>\n",
              "      <td>61725.701911</td>\n",
              "      <td>3.939869e+06</td>\n",
              "      <td>2.448502e+08</td>\n",
              "      <td>1.507229e+10</td>\n",
              "      <td>24774.288006</td>\n",
              "      <td>3.026128e+09</td>\n",
              "      <td>4.129207e+14</td>\n",
              "      <td>3.249753e+18</td>\n",
              "      <td>...</td>\n",
              "      <td>1464.892397</td>\n",
              "      <td>28259.732691</td>\n",
              "      <td>1.538937</td>\n",
              "      <td>11.391608</td>\n",
              "      <td>0.404415</td>\n",
              "      <td>0.488909</td>\n",
              "      <td>0.485617</td>\n",
              "      <td>0.444500</td>\n",
              "      <td>0.428411</td>\n",
              "      <td>0.481399</td>\n",
              "    </tr>\n",
              "    <tr>\n",
              "      <th>min</th>\n",
              "      <td>25.000000</td>\n",
              "      <td>625.000000</td>\n",
              "      <td>15625.000000</td>\n",
              "      <td>3.906250e+05</td>\n",
              "      <td>9.765625e+06</td>\n",
              "      <td>2.441406e+08</td>\n",
              "      <td>-2652.000000</td>\n",
              "      <td>0.000000e+00</td>\n",
              "      <td>-1.865179e+10</td>\n",
              "      <td>-9.222694e+18</td>\n",
              "      <td>...</td>\n",
              "      <td>1.000000</td>\n",
              "      <td>1.000000</td>\n",
              "      <td>1.000000</td>\n",
              "      <td>1.000000</td>\n",
              "      <td>0.000000</td>\n",
              "      <td>0.000000</td>\n",
              "      <td>0.000000</td>\n",
              "      <td>0.000000</td>\n",
              "      <td>0.000000</td>\n",
              "      <td>0.000000</td>\n",
              "    </tr>\n",
              "    <tr>\n",
              "      <th>25%</th>\n",
              "      <td>32.000000</td>\n",
              "      <td>1024.000000</td>\n",
              "      <td>32768.000000</td>\n",
              "      <td>1.048576e+06</td>\n",
              "      <td>3.355443e+07</td>\n",
              "      <td>1.073742e+09</td>\n",
              "      <td>19413.000000</td>\n",
              "      <td>3.768646e+08</td>\n",
              "      <td>7.316072e+12</td>\n",
              "      <td>3.677463e+16</td>\n",
              "      <td>...</td>\n",
              "      <td>1728.000000</td>\n",
              "      <td>20736.000000</td>\n",
              "      <td>2.000000</td>\n",
              "      <td>4.000000</td>\n",
              "      <td>0.000000</td>\n",
              "      <td>0.000000</td>\n",
              "      <td>0.000000</td>\n",
              "      <td>0.000000</td>\n",
              "      <td>0.000000</td>\n",
              "      <td>0.000000</td>\n",
              "    </tr>\n",
              "    <tr>\n",
              "      <th>50%</th>\n",
              "      <td>40.000000</td>\n",
              "      <td>1600.000000</td>\n",
              "      <td>64000.000000</td>\n",
              "      <td>2.560000e+06</td>\n",
              "      <td>1.024000e+08</td>\n",
              "      <td>4.096000e+09</td>\n",
              "      <td>31476.000000</td>\n",
              "      <td>9.907386e+08</td>\n",
              "      <td>3.118449e+13</td>\n",
              "      <td>4.226261e+17</td>\n",
              "      <td>...</td>\n",
              "      <td>1728.000000</td>\n",
              "      <td>20736.000000</td>\n",
              "      <td>3.000000</td>\n",
              "      <td>9.000000</td>\n",
              "      <td>0.000000</td>\n",
              "      <td>1.000000</td>\n",
              "      <td>0.000000</td>\n",
              "      <td>0.000000</td>\n",
              "      <td>0.000000</td>\n",
              "      <td>1.000000</td>\n",
              "    </tr>\n",
              "    <tr>\n",
              "      <th>75%</th>\n",
              "      <td>48.000000</td>\n",
              "      <td>2304.000000</td>\n",
              "      <td>110592.000000</td>\n",
              "      <td>5.308416e+06</td>\n",
              "      <td>2.548040e+08</td>\n",
              "      <td>1.223059e+10</td>\n",
              "      <td>48583.500000</td>\n",
              "      <td>2.360356e+09</td>\n",
              "      <td>1.146744e+14</td>\n",
              "      <td>2.117477e+18</td>\n",
              "      <td>...</td>\n",
              "      <td>4096.000000</td>\n",
              "      <td>65536.000000</td>\n",
              "      <td>4.000000</td>\n",
              "      <td>16.000000</td>\n",
              "      <td>0.000000</td>\n",
              "      <td>1.000000</td>\n",
              "      <td>1.000000</td>\n",
              "      <td>1.000000</td>\n",
              "      <td>0.000000</td>\n",
              "      <td>1.000000</td>\n",
              "    </tr>\n",
              "    <tr>\n",
              "      <th>max</th>\n",
              "      <td>64.000000</td>\n",
              "      <td>4096.000000</td>\n",
              "      <td>262144.000000</td>\n",
              "      <td>1.677722e+07</td>\n",
              "      <td>1.073742e+09</td>\n",
              "      <td>6.871948e+10</td>\n",
              "      <td>242124.000000</td>\n",
              "      <td>5.862403e+10</td>\n",
              "      <td>1.419428e+16</td>\n",
              "      <td>9.222042e+18</td>\n",
              "      <td>...</td>\n",
              "      <td>5832.000000</td>\n",
              "      <td>104976.000000</td>\n",
              "      <td>13.000000</td>\n",
              "      <td>169.000000</td>\n",
              "      <td>1.000000</td>\n",
              "      <td>1.000000</td>\n",
              "      <td>1.000000</td>\n",
              "      <td>1.000000</td>\n",
              "      <td>1.000000</td>\n",
              "      <td>1.000000</td>\n",
              "    </tr>\n",
              "  </tbody>\n",
              "</table>\n",
              "<p>8 rows × 26 columns</p>\n",
              "</div>"
            ],
            "text/plain": [
              "       poly(age, degree=6, raw=True)[0]  poly(age, degree=6, raw=True)[1]  \\\n",
              "count                       9915.000000                       9915.000000   \n",
              "mean                          41.060212                       1792.938981   \n",
              "std                           10.344505                        899.134499   \n",
              "min                           25.000000                        625.000000   \n",
              "25%                           32.000000                       1024.000000   \n",
              "50%                           40.000000                       1600.000000   \n",
              "75%                           48.000000                       2304.000000   \n",
              "max                           64.000000                       4096.000000   \n",
              "\n",
              "       poly(age, degree=6, raw=True)[2]  poly(age, degree=6, raw=True)[3]  \\\n",
              "count                       9915.000000                      9.915000e+03   \n",
              "mean                       82850.255371                      4.022991e+06   \n",
              "std                        61725.701911                      3.939869e+06   \n",
              "min                        15625.000000                      3.906250e+05   \n",
              "25%                        32768.000000                      1.048576e+06   \n",
              "50%                        64000.000000                      2.560000e+06   \n",
              "75%                       110592.000000                      5.308416e+06   \n",
              "max                       262144.000000                      1.677722e+07   \n",
              "\n",
              "       poly(age, degree=6, raw=True)[4]  poly(age, degree=6, raw=True)[5]  \\\n",
              "count                      9.915000e+03                      9.915000e+03   \n",
              "mean                       2.036867e+08                      1.067384e+10   \n",
              "std                        2.448502e+08                      1.507229e+10   \n",
              "min                        9.765625e+06                      2.441406e+08   \n",
              "25%                        3.355443e+07                      1.073742e+09   \n",
              "50%                        1.024000e+08                      4.096000e+09   \n",
              "75%                        2.548040e+08                      1.223059e+10   \n",
              "max                        1.073742e+09                      6.871948e+10   \n",
              "\n",
              "       poly(inc, degree=8, raw=True)[0]  poly(inc, degree=8, raw=True)[1]  \\\n",
              "count                       9915.000000                      9.915000e+03   \n",
              "mean                       37200.623197                      1.997590e+09   \n",
              "std                        24774.288006                      3.026128e+09   \n",
              "min                        -2652.000000                      0.000000e+00   \n",
              "25%                        19413.000000                      3.768646e+08   \n",
              "50%                        31476.000000                      9.907386e+08   \n",
              "75%                        48583.500000                      2.360356e+09   \n",
              "max                       242124.000000                      5.862403e+10   \n",
              "\n",
              "       poly(inc, degree=8, raw=True)[2]  poly(inc, degree=8, raw=True)[3]  \\\n",
              "count                      9.915000e+03                      9.915000e+03   \n",
              "mean                       1.437534e+14                      9.104568e+17   \n",
              "std                        4.129207e+14                      3.249753e+18   \n",
              "min                       -1.865179e+10                     -9.222694e+18   \n",
              "25%                        7.316072e+12                      3.677463e+16   \n",
              "50%                        3.118449e+13                      4.226261e+17   \n",
              "75%                        1.146744e+14                      2.117477e+18   \n",
              "max                        1.419428e+16                      9.222042e+18   \n",
              "\n",
              "       ...  poly(educ, degree=4, raw=True)[2]  \\\n",
              "count  ...                        9915.000000   \n",
              "mean   ...                        2601.853757   \n",
              "std    ...                        1464.892397   \n",
              "min    ...                           1.000000   \n",
              "25%    ...                        1728.000000   \n",
              "50%    ...                        1728.000000   \n",
              "75%    ...                        4096.000000   \n",
              "max    ...                        5832.000000   \n",
              "\n",
              "       poly(educ, degree=4, raw=True)[3]  poly(fsize, degree=2, raw=True)[0]  \\\n",
              "count                        9915.000000                         9915.000000   \n",
              "mean                        38237.377912                            2.865860   \n",
              "std                         28259.732691                            1.538937   \n",
              "min                             1.000000                            1.000000   \n",
              "25%                         20736.000000                            2.000000   \n",
              "50%                         20736.000000                            3.000000   \n",
              "75%                         65536.000000                            4.000000   \n",
              "max                        104976.000000                           13.000000   \n",
              "\n",
              "       poly(fsize, degree=2, raw=True)[1]         male         marr  \\\n",
              "count                         9915.000000  9915.000000  9915.000000   \n",
              "mean                            10.581241     0.205951     0.604841   \n",
              "std                             11.391608     0.404415     0.488909   \n",
              "min                              1.000000     0.000000     0.000000   \n",
              "25%                              4.000000     0.000000     0.000000   \n",
              "50%                              9.000000     0.000000     1.000000   \n",
              "75%                             16.000000     0.000000     1.000000   \n",
              "max                            169.000000     1.000000     1.000000   \n",
              "\n",
              "           twoearn           db         pira         hown  \n",
              "count  9915.000000  9915.000000  9915.000000  9915.000000  \n",
              "mean      0.380837     0.271004     0.242158     0.635199  \n",
              "std       0.485617     0.444500     0.428411     0.481399  \n",
              "min       0.000000     0.000000     0.000000     0.000000  \n",
              "25%       0.000000     0.000000     0.000000     0.000000  \n",
              "50%       0.000000     0.000000     0.000000     1.000000  \n",
              "75%       1.000000     1.000000     0.000000     1.000000  \n",
              "max       1.000000     1.000000     1.000000     1.000000  \n",
              "\n",
              "[8 rows x 26 columns]"
            ]
          },
          "execution_count": 13,
          "metadata": {},
          "output_type": "execute_result"
        }
      ],
      "source": [
        "transformer.fit_transform(X).describe()"
      ]
    },
    {
      "cell_type": "code",
      "execution_count": 14,
      "id": "24",
      "metadata": {
        "id": "24"
      },
      "outputs": [],
      "source": [
        "transformer = FormulaTransformer(\"0 + poly(age, degree=6, raw=True) + poly(inc, degree=8, raw=True) \"\n",
        "                                 \"+ poly(educ, degree=4, raw=True) + poly(fsize, degree=2, raw=True) \"\n",
        "                                 \"+ male + marr + twoearn + db + pira + hown\", array=True)"
      ]
    },
    {
      "cell_type": "markdown",
      "id": "25",
      "metadata": {
        "id": "25"
      },
      "source": [
        "## Estimating the ATE of 401(k) Eligibility on Net Financial Assets"
      ]
    },
    {
      "cell_type": "markdown",
      "id": "26",
      "metadata": {
        "id": "26"
      },
      "source": [
        "We are interested in valid estimators of the average treatment effect of `e401` and `p401` on `net_tfa`. We start using ML approaches to estimate the function $g_0$ and $m_0$ in the following PLR model:"
      ]
    },
    {
      "cell_type": "markdown",
      "id": "27",
      "metadata": {
        "id": "27"
      },
      "source": [
        "\\begin{split}\n",
        " Y = D\\theta_0 + g_0(X) + \\zeta,  &  ~~E[\\zeta \\mid D,X]= 0,\\\\\n",
        " D = m_0(X) +  V,   & ~~ E[V \\mid X] = 0.\n",
        "\\end{split}"
      ]
    },
    {
      "cell_type": "markdown",
      "id": "28",
      "metadata": {
        "id": "28"
      },
      "source": [
        "### Double ML in PLR with Cross-Fitting"
      ]
    },
    {
      "cell_type": "markdown",
      "id": "29",
      "metadata": {
        "id": "29"
      },
      "source": [
        "We define a simple dml function that is parameterized by arbitrary ML models and returns the treatment effect and other useful quantities of the analysis"
      ]
    },
    {
      "cell_type": "code",
      "execution_count": 15,
      "id": "30",
      "metadata": {
        "id": "30"
      },
      "outputs": [],
      "source": [
        "def dml(X, D, y, modely, modeld, *, nfolds, classifier=False):\n",
        "    '''\n",
        "    DML for the Partially Linear Model setting with cross-fitting\n",
        "\n",
        "    Input\n",
        "    -----\n",
        "    X: the controls\n",
        "    D: the treatment\n",
        "    y: the outcome\n",
        "    modely: the ML model for predicting the outcome y\n",
        "    modeld: the ML model for predicting the treatment D\n",
        "    nfolds: the number of folds in cross-fitting\n",
        "    classifier: bool, whether the modeld is a classifier or a regressor\n",
        "\n",
        "    Output\n",
        "    ------\n",
        "    point: the point estimate of the treatment effect of D on y\n",
        "    stderr: the standard error of the treatment effect\n",
        "    yhat: the cross-fitted predictions for the outcome y\n",
        "    Dhat: the cross-fitted predictions for the treatment D\n",
        "    resy: the outcome residuals\n",
        "    resD: the treatment residuals\n",
        "    epsilon: the final residual-on-residual OLS regression residual\n",
        "    '''\n",
        "    cv = KFold(n_splits=nfolds, shuffle=True, random_state=123)  # shuffled k-folds\n",
        "    yhat = cross_val_predict(modely, X, y, cv=cv, n_jobs=-1)  # out-of-fold predictions for y\n",
        "    # out-of-fold predictions for D\n",
        "    # use predict or predict_proba dependent on classifier or regressor for D\n",
        "    if classifier:\n",
        "        Dhat = cross_val_predict(modeld, X, D, cv=cv, method='predict_proba', n_jobs=-1)[:, 1]\n",
        "    else:\n",
        "        Dhat = cross_val_predict(modeld, X, D, cv=cv, n_jobs=-1)\n",
        "    # calculate outcome and treatment residuals\n",
        "    resy = y - yhat\n",
        "    resD = D - Dhat\n",
        "\n",
        "    # final stage ols based point estimate and standard error\n",
        "    point = np.mean(resy * resD) / np.mean(resD**2)\n",
        "    epsilon = resy - point * resD\n",
        "    var = np.mean(epsilon**2 * resD**2) / np.mean(resD**2)**2\n",
        "    stderr = np.sqrt(var / X.shape[0])\n",
        "\n",
        "    return point, stderr, yhat, Dhat, resy, resD, epsilon"
      ]
    },
    {
      "cell_type": "code",
      "execution_count": 16,
      "id": "31",
      "metadata": {
        "id": "31"
      },
      "outputs": [],
      "source": [
        "def summary(point, stderr, yhat, Dhat, resy, resD, epsilon, X, D, y, *, name):\n",
        "    '''\n",
        "    Convenience summary function that takes the results of the DML function\n",
        "    and summarizes several estimation quantities and performance metrics.\n",
        "    '''\n",
        "    return pd.DataFrame({'estimate': point,  # point estimate\n",
        "                         'stderr': stderr,  # standard error\n",
        "                         'lower': point - 1.96 * stderr,  # lower end of 95% confidence interval\n",
        "                         'upper': point + 1.96 * stderr,  # upper end of 95% confidence interval\n",
        "                         'rmse y': np.sqrt(np.mean(resy**2)),  # RMSE of model that predicts outcome y\n",
        "                         'rmse D': np.sqrt(np.mean(resD**2)),  # RMSE of model that predicts treatment D\n",
        "                         'accuracy D': np.mean(np.abs(resD) < .5),  # binary classification accuracy of model for D\n",
        "                         }, index=[name])"
      ]
    },
    {
      "cell_type": "markdown",
      "id": "32",
      "metadata": {
        "id": "32"
      },
      "source": [
        "#### Double Lasso with Cross-Fitting"
      ]
    },
    {
      "cell_type": "code",
      "execution_count": 17,
      "id": "33",
      "metadata": {
        "id": "33"
      },
      "outputs": [],
      "source": [
        "cv = KFold(n_splits=5, shuffle=True, random_state=123)\n",
        "lassoy = make_pipeline(transformer, StandardScaler(), LassoCV(cv=cv))\n",
        "lassod = make_pipeline(transformer, StandardScaler(), LassoCV(cv=cv))\n",
        "result = dml(X, D, y, lassoy, lassod, nfolds=5)"
      ]
    },
    {
      "cell_type": "code",
      "execution_count": 18,
      "id": "34",
      "metadata": {
        "id": "34"
      },
      "outputs": [
        {
          "data": {
            "text/html": [
              "<div>\n",
              "<style scoped>\n",
              "    .dataframe tbody tr th:only-of-type {\n",
              "        vertical-align: middle;\n",
              "    }\n",
              "\n",
              "    .dataframe tbody tr th {\n",
              "        vertical-align: top;\n",
              "    }\n",
              "\n",
              "    .dataframe thead th {\n",
              "        text-align: right;\n",
              "    }\n",
              "</style>\n",
              "<table border=\"1\" class=\"dataframe\">\n",
              "  <thead>\n",
              "    <tr style=\"text-align: right;\">\n",
              "      <th></th>\n",
              "      <th>estimate</th>\n",
              "      <th>stderr</th>\n",
              "      <th>lower</th>\n",
              "      <th>upper</th>\n",
              "      <th>rmse y</th>\n",
              "      <th>rmse D</th>\n",
              "      <th>accuracy D</th>\n",
              "    </tr>\n",
              "  </thead>\n",
              "  <tbody>\n",
              "    <tr>\n",
              "      <th>double lasso</th>\n",
              "      <td>9035.120004</td>\n",
              "      <td>1295.135748</td>\n",
              "      <td>6496.653938</td>\n",
              "      <td>11573.58607</td>\n",
              "      <td>54254.468883</td>\n",
              "      <td>0.443406</td>\n",
              "      <td>0.688553</td>\n",
              "    </tr>\n",
              "  </tbody>\n",
              "</table>\n",
              "</div>"
            ],
            "text/plain": [
              "                 estimate       stderr        lower        upper  \\\n",
              "double lasso  9035.120004  1295.135748  6496.653938  11573.58607   \n",
              "\n",
              "                    rmse y    rmse D  accuracy D  \n",
              "double lasso  54254.468883  0.443406    0.688553  "
            ]
          },
          "execution_count": 18,
          "metadata": {},
          "output_type": "execute_result"
        }
      ],
      "source": [
        "table = summary(*result, X, D, y, name='double lasso')\n",
        "table"
      ]
    },
    {
      "cell_type": "markdown",
      "id": "35",
      "metadata": {
        "id": "35"
      },
      "source": [
        "#### Using a Penalized Logistic Regression for D\n",
        "\n",
        "Note the default logistic regression uses an $\\ell_2$ penalty. You can use the $\\ell_1$ penalty as well, but computation will take longer."
      ]
    },
    {
      "cell_type": "code",
      "execution_count": 19,
      "id": "36",
      "metadata": {
        "id": "36"
      },
      "outputs": [],
      "source": [
        "cv = KFold(n_splits=5, shuffle=True, random_state=123)\n",
        "lassoy = make_pipeline(transformer, StandardScaler(), LassoCV(cv=cv))\n",
        "lgrd = make_pipeline(transformer, StandardScaler(), LogisticRegressionCV(cv=cv))\n",
        "result = dml(X, D, y, lassoy, lgrd, nfolds=5, classifier=True)"
      ]
    },
    {
      "cell_type": "code",
      "execution_count": 20,
      "id": "37",
      "metadata": {
        "id": "37"
      },
      "outputs": [
        {
          "data": {
            "text/html": [
              "<div>\n",
              "<style scoped>\n",
              "    .dataframe tbody tr th:only-of-type {\n",
              "        vertical-align: middle;\n",
              "    }\n",
              "\n",
              "    .dataframe tbody tr th {\n",
              "        vertical-align: top;\n",
              "    }\n",
              "\n",
              "    .dataframe thead th {\n",
              "        text-align: right;\n",
              "    }\n",
              "</style>\n",
              "<table border=\"1\" class=\"dataframe\">\n",
              "  <thead>\n",
              "    <tr style=\"text-align: right;\">\n",
              "      <th></th>\n",
              "      <th>estimate</th>\n",
              "      <th>stderr</th>\n",
              "      <th>lower</th>\n",
              "      <th>upper</th>\n",
              "      <th>rmse y</th>\n",
              "      <th>rmse D</th>\n",
              "      <th>accuracy D</th>\n",
              "    </tr>\n",
              "  </thead>\n",
              "  <tbody>\n",
              "    <tr>\n",
              "      <th>lasso/logistic</th>\n",
              "      <td>9092.469504</td>\n",
              "      <td>1304.404612</td>\n",
              "      <td>6535.836464</td>\n",
              "      <td>11649.102543</td>\n",
              "      <td>54254.468883</td>\n",
              "      <td>0.444043</td>\n",
              "      <td>0.687847</td>\n",
              "    </tr>\n",
              "  </tbody>\n",
              "</table>\n",
              "</div>"
            ],
            "text/plain": [
              "                   estimate       stderr        lower         upper  \\\n",
              "lasso/logistic  9092.469504  1304.404612  6535.836464  11649.102543   \n",
              "\n",
              "                      rmse y    rmse D  accuracy D  \n",
              "lasso/logistic  54254.468883  0.444043    0.687847  "
            ]
          },
          "execution_count": 20,
          "metadata": {},
          "output_type": "execute_result"
        }
      ],
      "source": [
        "summary(*result, X, D, y, name='lasso/logistic')"
      ]
    },
    {
      "cell_type": "code",
      "execution_count": 21,
      "id": "38",
      "metadata": {
        "id": "38"
      },
      "outputs": [
        {
          "data": {
            "text/html": [
              "<div>\n",
              "<style scoped>\n",
              "    .dataframe tbody tr th:only-of-type {\n",
              "        vertical-align: middle;\n",
              "    }\n",
              "\n",
              "    .dataframe tbody tr th {\n",
              "        vertical-align: top;\n",
              "    }\n",
              "\n",
              "    .dataframe thead th {\n",
              "        text-align: right;\n",
              "    }\n",
              "</style>\n",
              "<table border=\"1\" class=\"dataframe\">\n",
              "  <thead>\n",
              "    <tr style=\"text-align: right;\">\n",
              "      <th></th>\n",
              "      <th>estimate</th>\n",
              "      <th>stderr</th>\n",
              "      <th>lower</th>\n",
              "      <th>upper</th>\n",
              "      <th>rmse y</th>\n",
              "      <th>rmse D</th>\n",
              "      <th>accuracy D</th>\n",
              "    </tr>\n",
              "  </thead>\n",
              "  <tbody>\n",
              "    <tr>\n",
              "      <th>double lasso</th>\n",
              "      <td>9035.120004</td>\n",
              "      <td>1295.135748</td>\n",
              "      <td>6496.653938</td>\n",
              "      <td>11573.586070</td>\n",
              "      <td>54254.468883</td>\n",
              "      <td>0.443406</td>\n",
              "      <td>0.688553</td>\n",
              "    </tr>\n",
              "    <tr>\n",
              "      <th>lasso/logistic</th>\n",
              "      <td>9092.469504</td>\n",
              "      <td>1304.404612</td>\n",
              "      <td>6535.836464</td>\n",
              "      <td>11649.102543</td>\n",
              "      <td>54254.468883</td>\n",
              "      <td>0.444043</td>\n",
              "      <td>0.687847</td>\n",
              "    </tr>\n",
              "  </tbody>\n",
              "</table>\n",
              "</div>"
            ],
            "text/plain": [
              "                   estimate       stderr        lower         upper  \\\n",
              "double lasso    9035.120004  1295.135748  6496.653938  11573.586070   \n",
              "lasso/logistic  9092.469504  1304.404612  6535.836464  11649.102543   \n",
              "\n",
              "                      rmse y    rmse D  accuracy D  \n",
              "double lasso    54254.468883  0.443406    0.688553  \n",
              "lasso/logistic  54254.468883  0.444043    0.687847  "
            ]
          },
          "execution_count": 21,
          "metadata": {},
          "output_type": "execute_result"
        }
      ],
      "source": [
        "table = pd.concat([table, summary(*result, X, D, y, name='lasso/logistic')])\n",
        "table"
      ]
    },
    {
      "cell_type": "markdown",
      "id": "39",
      "metadata": {
        "id": "39"
      },
      "source": [
        "Then, we repeat this procedure for various machine learning methods."
      ]
    },
    {
      "cell_type": "markdown",
      "id": "40",
      "metadata": {
        "id": "40"
      },
      "source": [
        "### Random Forests"
      ]
    },
    {
      "cell_type": "code",
      "execution_count": 22,
      "id": "41",
      "metadata": {
        "id": "41"
      },
      "outputs": [],
      "source": [
        "rfy = make_pipeline(transformer, RandomForestRegressor(n_estimators=100, min_samples_leaf=10, ccp_alpha=.001))\n",
        "rfd = make_pipeline(transformer, RandomForestClassifier(n_estimators=100, min_samples_leaf=10, ccp_alpha=.001))\n",
        "result = dml(X, D, y, rfy, rfd, nfolds=5, classifier=True)"
      ]
    },
    {
      "cell_type": "code",
      "execution_count": 23,
      "id": "42",
      "metadata": {
        "id": "42"
      },
      "outputs": [
        {
          "data": {
            "text/html": [
              "<div>\n",
              "<style scoped>\n",
              "    .dataframe tbody tr th:only-of-type {\n",
              "        vertical-align: middle;\n",
              "    }\n",
              "\n",
              "    .dataframe tbody tr th {\n",
              "        vertical-align: top;\n",
              "    }\n",
              "\n",
              "    .dataframe thead th {\n",
              "        text-align: right;\n",
              "    }\n",
              "</style>\n",
              "<table border=\"1\" class=\"dataframe\">\n",
              "  <thead>\n",
              "    <tr style=\"text-align: right;\">\n",
              "      <th></th>\n",
              "      <th>estimate</th>\n",
              "      <th>stderr</th>\n",
              "      <th>lower</th>\n",
              "      <th>upper</th>\n",
              "      <th>rmse y</th>\n",
              "      <th>rmse D</th>\n",
              "      <th>accuracy D</th>\n",
              "    </tr>\n",
              "  </thead>\n",
              "  <tbody>\n",
              "    <tr>\n",
              "      <th>double lasso</th>\n",
              "      <td>9035.120004</td>\n",
              "      <td>1295.135748</td>\n",
              "      <td>6496.653938</td>\n",
              "      <td>11573.586070</td>\n",
              "      <td>54254.468883</td>\n",
              "      <td>0.443406</td>\n",
              "      <td>0.688553</td>\n",
              "    </tr>\n",
              "    <tr>\n",
              "      <th>lasso/logistic</th>\n",
              "      <td>9092.469504</td>\n",
              "      <td>1304.404612</td>\n",
              "      <td>6535.836464</td>\n",
              "      <td>11649.102543</td>\n",
              "      <td>54254.468883</td>\n",
              "      <td>0.444043</td>\n",
              "      <td>0.687847</td>\n",
              "    </tr>\n",
              "    <tr>\n",
              "      <th>random forest</th>\n",
              "      <td>8858.855700</td>\n",
              "      <td>1357.128634</td>\n",
              "      <td>6198.883578</td>\n",
              "      <td>11518.827822</td>\n",
              "      <td>55050.908411</td>\n",
              "      <td>0.444420</td>\n",
              "      <td>0.690570</td>\n",
              "    </tr>\n",
              "  </tbody>\n",
              "</table>\n",
              "</div>"
            ],
            "text/plain": [
              "                   estimate       stderr        lower         upper  \\\n",
              "double lasso    9035.120004  1295.135748  6496.653938  11573.586070   \n",
              "lasso/logistic  9092.469504  1304.404612  6535.836464  11649.102543   \n",
              "random forest   8858.855700  1357.128634  6198.883578  11518.827822   \n",
              "\n",
              "                      rmse y    rmse D  accuracy D  \n",
              "double lasso    54254.468883  0.443406    0.688553  \n",
              "lasso/logistic  54254.468883  0.444043    0.687847  \n",
              "random forest   55050.908411  0.444420    0.690570  "
            ]
          },
          "execution_count": 23,
          "metadata": {},
          "output_type": "execute_result"
        }
      ],
      "source": [
        "table = pd.concat([table, summary(*result, X, D, y, name='random forest')])\n",
        "table"
      ]
    },
    {
      "cell_type": "markdown",
      "id": "43",
      "metadata": {
        "id": "43"
      },
      "source": [
        "### Decision Trees"
      ]
    },
    {
      "cell_type": "code",
      "execution_count": 24,
      "id": "44",
      "metadata": {
        "id": "44"
      },
      "outputs": [],
      "source": [
        "dtry = make_pipeline(transformer, DecisionTreeRegressor(min_samples_leaf=10, ccp_alpha=.001))\n",
        "dtrd = make_pipeline(transformer, DecisionTreeClassifier(min_samples_leaf=10, ccp_alpha=.001))\n",
        "result = dml(X, D, y, dtry, dtrd, nfolds=5, classifier=True)"
      ]
    },
    {
      "cell_type": "code",
      "execution_count": 25,
      "id": "45",
      "metadata": {
        "id": "45"
      },
      "outputs": [
        {
          "data": {
            "text/html": [
              "<div>\n",
              "<style scoped>\n",
              "    .dataframe tbody tr th:only-of-type {\n",
              "        vertical-align: middle;\n",
              "    }\n",
              "\n",
              "    .dataframe tbody tr th {\n",
              "        vertical-align: top;\n",
              "    }\n",
              "\n",
              "    .dataframe thead th {\n",
              "        text-align: right;\n",
              "    }\n",
              "</style>\n",
              "<table border=\"1\" class=\"dataframe\">\n",
              "  <thead>\n",
              "    <tr style=\"text-align: right;\">\n",
              "      <th></th>\n",
              "      <th>estimate</th>\n",
              "      <th>stderr</th>\n",
              "      <th>lower</th>\n",
              "      <th>upper</th>\n",
              "      <th>rmse y</th>\n",
              "      <th>rmse D</th>\n",
              "      <th>accuracy D</th>\n",
              "    </tr>\n",
              "  </thead>\n",
              "  <tbody>\n",
              "    <tr>\n",
              "      <th>double lasso</th>\n",
              "      <td>9035.120004</td>\n",
              "      <td>1295.135748</td>\n",
              "      <td>6496.653938</td>\n",
              "      <td>11573.586070</td>\n",
              "      <td>54254.468883</td>\n",
              "      <td>0.443406</td>\n",
              "      <td>0.688553</td>\n",
              "    </tr>\n",
              "    <tr>\n",
              "      <th>lasso/logistic</th>\n",
              "      <td>9092.469504</td>\n",
              "      <td>1304.404612</td>\n",
              "      <td>6535.836464</td>\n",
              "      <td>11649.102543</td>\n",
              "      <td>54254.468883</td>\n",
              "      <td>0.444043</td>\n",
              "      <td>0.687847</td>\n",
              "    </tr>\n",
              "    <tr>\n",
              "      <th>random forest</th>\n",
              "      <td>8858.855700</td>\n",
              "      <td>1357.128634</td>\n",
              "      <td>6198.883578</td>\n",
              "      <td>11518.827822</td>\n",
              "      <td>55050.908411</td>\n",
              "      <td>0.444420</td>\n",
              "      <td>0.690570</td>\n",
              "    </tr>\n",
              "    <tr>\n",
              "      <th>decision tree</th>\n",
              "      <td>9236.195678</td>\n",
              "      <td>1440.551643</td>\n",
              "      <td>6412.714457</td>\n",
              "      <td>12059.676898</td>\n",
              "      <td>59427.392172</td>\n",
              "      <td>0.446437</td>\n",
              "      <td>0.688048</td>\n",
              "    </tr>\n",
              "  </tbody>\n",
              "</table>\n",
              "</div>"
            ],
            "text/plain": [
              "                   estimate       stderr        lower         upper  \\\n",
              "double lasso    9035.120004  1295.135748  6496.653938  11573.586070   \n",
              "lasso/logistic  9092.469504  1304.404612  6535.836464  11649.102543   \n",
              "random forest   8858.855700  1357.128634  6198.883578  11518.827822   \n",
              "decision tree   9236.195678  1440.551643  6412.714457  12059.676898   \n",
              "\n",
              "                      rmse y    rmse D  accuracy D  \n",
              "double lasso    54254.468883  0.443406    0.688553  \n",
              "lasso/logistic  54254.468883  0.444043    0.687847  \n",
              "random forest   55050.908411  0.444420    0.690570  \n",
              "decision tree   59427.392172  0.446437    0.688048  "
            ]
          },
          "execution_count": 25,
          "metadata": {},
          "output_type": "execute_result"
        }
      ],
      "source": [
        "table = pd.concat([table, summary(*result, X, D, y, name='decision tree')])\n",
        "table"
      ]
    },
    {
      "cell_type": "markdown",
      "id": "46",
      "metadata": {
        "id": "46"
      },
      "source": [
        "### Boosted Trees"
      ]
    },
    {
      "cell_type": "code",
      "execution_count": 26,
      "id": "47",
      "metadata": {
        "id": "47"
      },
      "outputs": [],
      "source": [
        "gbfy = make_pipeline(transformer, GradientBoostingRegressor(max_depth=2, n_iter_no_change=5))\n",
        "gbfd = make_pipeline(transformer, GradientBoostingClassifier(max_depth=2, n_iter_no_change=5))\n",
        "result = dml(X, D, y, gbfy, gbfd, nfolds=5, classifier=True)"
      ]
    },
    {
      "cell_type": "code",
      "execution_count": 27,
      "id": "48",
      "metadata": {
        "id": "48"
      },
      "outputs": [
        {
          "data": {
            "text/html": [
              "<div>\n",
              "<style scoped>\n",
              "    .dataframe tbody tr th:only-of-type {\n",
              "        vertical-align: middle;\n",
              "    }\n",
              "\n",
              "    .dataframe tbody tr th {\n",
              "        vertical-align: top;\n",
              "    }\n",
              "\n",
              "    .dataframe thead th {\n",
              "        text-align: right;\n",
              "    }\n",
              "</style>\n",
              "<table border=\"1\" class=\"dataframe\">\n",
              "  <thead>\n",
              "    <tr style=\"text-align: right;\">\n",
              "      <th></th>\n",
              "      <th>estimate</th>\n",
              "      <th>stderr</th>\n",
              "      <th>lower</th>\n",
              "      <th>upper</th>\n",
              "      <th>rmse y</th>\n",
              "      <th>rmse D</th>\n",
              "      <th>accuracy D</th>\n",
              "    </tr>\n",
              "  </thead>\n",
              "  <tbody>\n",
              "    <tr>\n",
              "      <th>double lasso</th>\n",
              "      <td>9035.120004</td>\n",
              "      <td>1295.135748</td>\n",
              "      <td>6496.653938</td>\n",
              "      <td>11573.586070</td>\n",
              "      <td>54254.468883</td>\n",
              "      <td>0.443406</td>\n",
              "      <td>0.688553</td>\n",
              "    </tr>\n",
              "    <tr>\n",
              "      <th>lasso/logistic</th>\n",
              "      <td>9092.469504</td>\n",
              "      <td>1304.404612</td>\n",
              "      <td>6535.836464</td>\n",
              "      <td>11649.102543</td>\n",
              "      <td>54254.468883</td>\n",
              "      <td>0.444043</td>\n",
              "      <td>0.687847</td>\n",
              "    </tr>\n",
              "    <tr>\n",
              "      <th>random forest</th>\n",
              "      <td>8858.855700</td>\n",
              "      <td>1357.128634</td>\n",
              "      <td>6198.883578</td>\n",
              "      <td>11518.827822</td>\n",
              "      <td>55050.908411</td>\n",
              "      <td>0.444420</td>\n",
              "      <td>0.690570</td>\n",
              "    </tr>\n",
              "    <tr>\n",
              "      <th>decision tree</th>\n",
              "      <td>9236.195678</td>\n",
              "      <td>1440.551643</td>\n",
              "      <td>6412.714457</td>\n",
              "      <td>12059.676898</td>\n",
              "      <td>59427.392172</td>\n",
              "      <td>0.446437</td>\n",
              "      <td>0.688048</td>\n",
              "    </tr>\n",
              "    <tr>\n",
              "      <th>boosted forest</th>\n",
              "      <td>8865.489082</td>\n",
              "      <td>1348.395763</td>\n",
              "      <td>6222.633386</td>\n",
              "      <td>11508.344778</td>\n",
              "      <td>56028.952986</td>\n",
              "      <td>0.443331</td>\n",
              "      <td>0.690066</td>\n",
              "    </tr>\n",
              "  </tbody>\n",
              "</table>\n",
              "</div>"
            ],
            "text/plain": [
              "                   estimate       stderr        lower         upper  \\\n",
              "double lasso    9035.120004  1295.135748  6496.653938  11573.586070   \n",
              "lasso/logistic  9092.469504  1304.404612  6535.836464  11649.102543   \n",
              "random forest   8858.855700  1357.128634  6198.883578  11518.827822   \n",
              "decision tree   9236.195678  1440.551643  6412.714457  12059.676898   \n",
              "boosted forest  8865.489082  1348.395763  6222.633386  11508.344778   \n",
              "\n",
              "                      rmse y    rmse D  accuracy D  \n",
              "double lasso    54254.468883  0.443406    0.688553  \n",
              "lasso/logistic  54254.468883  0.444043    0.687847  \n",
              "random forest   55050.908411  0.444420    0.690570  \n",
              "decision tree   59427.392172  0.446437    0.688048  \n",
              "boosted forest  56028.952986  0.443331    0.690066  "
            ]
          },
          "execution_count": 27,
          "metadata": {},
          "output_type": "execute_result"
        }
      ],
      "source": [
        "table = pd.concat([table, summary(*result, X, D, y, name='boosted forest')])\n",
        "table"
      ]
    },
    {
      "cell_type": "markdown",
      "id": "49",
      "metadata": {
        "id": "49"
      },
      "source": [
        "The best model with lowest RMSE in both equation is the PLR model estimated via lasso."
      ]
    },
    {
      "cell_type": "markdown",
      "id": "50",
      "metadata": {
        "id": "50"
      },
      "source": [
        "### AutoML"
      ]
    },
    {
      "cell_type": "code",
      "execution_count": 28,
      "id": "52",
      "metadata": {
        "id": "52"
      },
      "outputs": [],
      "source": [
        "from flaml import AutoML\n",
        "flamly = make_pipeline(transformer, AutoML(time_budget=100, task='regression', early_stop=True,\n",
        "                                           eval_method='cv', n_splits=3, metric='r2', verbose=3))\n",
        "flamld = make_pipeline(transformer, AutoML(time_budget=100, task='classification', early_stop=True,\n",
        "                                           eval_method='cv', n_splits=3, metric='r2', verbose=3))\n",
        "result = dml(X, D, y, flamly, flamld, nfolds=5, classifier=True)"
      ]
    },
    {
      "cell_type": "code",
      "execution_count": 29,
      "id": "53",
      "metadata": {
        "id": "53"
      },
      "outputs": [
        {
          "data": {
            "text/html": [
              "<div>\n",
              "<style scoped>\n",
              "    .dataframe tbody tr th:only-of-type {\n",
              "        vertical-align: middle;\n",
              "    }\n",
              "\n",
              "    .dataframe tbody tr th {\n",
              "        vertical-align: top;\n",
              "    }\n",
              "\n",
              "    .dataframe thead th {\n",
              "        text-align: right;\n",
              "    }\n",
              "</style>\n",
              "<table border=\"1\" class=\"dataframe\">\n",
              "  <thead>\n",
              "    <tr style=\"text-align: right;\">\n",
              "      <th></th>\n",
              "      <th>estimate</th>\n",
              "      <th>stderr</th>\n",
              "      <th>lower</th>\n",
              "      <th>upper</th>\n",
              "      <th>rmse y</th>\n",
              "      <th>rmse D</th>\n",
              "      <th>accuracy D</th>\n",
              "    </tr>\n",
              "  </thead>\n",
              "  <tbody>\n",
              "    <tr>\n",
              "      <th>double lasso</th>\n",
              "      <td>9035.120004</td>\n",
              "      <td>1295.135748</td>\n",
              "      <td>6496.653938</td>\n",
              "      <td>11573.586070</td>\n",
              "      <td>54254.468883</td>\n",
              "      <td>0.443406</td>\n",
              "      <td>0.688553</td>\n",
              "    </tr>\n",
              "    <tr>\n",
              "      <th>lasso/logistic</th>\n",
              "      <td>9092.469504</td>\n",
              "      <td>1304.404612</td>\n",
              "      <td>6535.836464</td>\n",
              "      <td>11649.102543</td>\n",
              "      <td>54254.468883</td>\n",
              "      <td>0.444043</td>\n",
              "      <td>0.687847</td>\n",
              "    </tr>\n",
              "    <tr>\n",
              "      <th>random forest</th>\n",
              "      <td>8858.855700</td>\n",
              "      <td>1357.128634</td>\n",
              "      <td>6198.883578</td>\n",
              "      <td>11518.827822</td>\n",
              "      <td>55050.908411</td>\n",
              "      <td>0.444420</td>\n",
              "      <td>0.690570</td>\n",
              "    </tr>\n",
              "    <tr>\n",
              "      <th>decision tree</th>\n",
              "      <td>9236.195678</td>\n",
              "      <td>1440.551643</td>\n",
              "      <td>6412.714457</td>\n",
              "      <td>12059.676898</td>\n",
              "      <td>59427.392172</td>\n",
              "      <td>0.446437</td>\n",
              "      <td>0.688048</td>\n",
              "    </tr>\n",
              "    <tr>\n",
              "      <th>boosted forest</th>\n",
              "      <td>8865.489082</td>\n",
              "      <td>1348.395763</td>\n",
              "      <td>6222.633386</td>\n",
              "      <td>11508.344778</td>\n",
              "      <td>56028.952986</td>\n",
              "      <td>0.443331</td>\n",
              "      <td>0.690066</td>\n",
              "    </tr>\n",
              "    <tr>\n",
              "      <th>automl</th>\n",
              "      <td>8815.116779</td>\n",
              "      <td>1336.129857</td>\n",
              "      <td>6196.302260</td>\n",
              "      <td>11433.931298</td>\n",
              "      <td>55539.308058</td>\n",
              "      <td>0.444316</td>\n",
              "      <td>0.688553</td>\n",
              "    </tr>\n",
              "  </tbody>\n",
              "</table>\n",
              "</div>"
            ],
            "text/plain": [
              "                   estimate       stderr        lower         upper  \\\n",
              "double lasso    9035.120004  1295.135748  6496.653938  11573.586070   \n",
              "lasso/logistic  9092.469504  1304.404612  6535.836464  11649.102543   \n",
              "random forest   8858.855700  1357.128634  6198.883578  11518.827822   \n",
              "decision tree   9236.195678  1440.551643  6412.714457  12059.676898   \n",
              "boosted forest  8865.489082  1348.395763  6222.633386  11508.344778   \n",
              "automl          8815.116779  1336.129857  6196.302260  11433.931298   \n",
              "\n",
              "                      rmse y    rmse D  accuracy D  \n",
              "double lasso    54254.468883  0.443406    0.688553  \n",
              "lasso/logistic  54254.468883  0.444043    0.687847  \n",
              "random forest   55050.908411  0.444420    0.690570  \n",
              "decision tree   59427.392172  0.446437    0.688048  \n",
              "boosted forest  56028.952986  0.443331    0.690066  \n",
              "automl          55539.308058  0.444316    0.688553  "
            ]
          },
          "execution_count": 29,
          "metadata": {},
          "output_type": "execute_result"
        }
      ],
      "source": [
        "table = pd.concat([table, summary(*result, X, D, y, name='automl')])\n",
        "table"
      ]
    },
    {
      "cell_type": "markdown",
      "id": "54",
      "metadata": {
        "id": "54"
      },
      "source": [
        "# Semi-Cross-Fitting"
      ]
    },
    {
      "cell_type": "markdown",
      "id": "55",
      "metadata": {
        "id": "55"
      },
      "source": [
        "To avoid the computational cost of performing model selection within each fold (assuming that we don't select among an exponential set of hyperparameters/models in the number of samples), it is ok to perform model selection using all the data and then perform cross-fitting with the selected model."
      ]
    },
    {
      "cell_type": "code",
      "execution_count": 30,
      "id": "56",
      "metadata": {
        "id": "56"
      },
      "outputs": [],
      "source": [
        "flamly = make_pipeline(transformer, AutoML(time_budget=100, task='regression', early_stop=True,\n",
        "                                           eval_method='cv', n_splits=3, metric='r2', verbose=0))\n",
        "flamld = make_pipeline(transformer, AutoML(time_budget=100, task='classification', early_stop=True,\n",
        "                                           eval_method='cv', n_splits=3, metric='r2', verbose=0))"
      ]
    },
    {
      "cell_type": "code",
      "execution_count": 31,
      "id": "57",
      "metadata": {
        "id": "57"
      },
      "outputs": [],
      "source": [
        "flamly.fit(X, y)\n",
        "besty = make_pipeline(transformer, clone(flamly[-1].best_model_for_estimator(flamly[-1].best_estimator)))"
      ]
    },
    {
      "cell_type": "code",
      "execution_count": 32,
      "id": "58",
      "metadata": {
        "id": "58"
      },
      "outputs": [],
      "source": [
        "flamld.fit(X, D)\n",
        "bestd = make_pipeline(transformer, clone(flamld[-1].best_model_for_estimator(flamld[-1].best_estimator)))"
      ]
    },
    {
      "cell_type": "code",
      "execution_count": 33,
      "id": "59",
      "metadata": {
        "id": "59"
      },
      "outputs": [],
      "source": [
        "result = dml(X, D, y, besty, bestd, nfolds=5, classifier=True)"
      ]
    },
    {
      "cell_type": "code",
      "execution_count": 34,
      "id": "60",
      "metadata": {
        "id": "60"
      },
      "outputs": [
        {
          "data": {
            "text/html": [
              "<div>\n",
              "<style scoped>\n",
              "    .dataframe tbody tr th:only-of-type {\n",
              "        vertical-align: middle;\n",
              "    }\n",
              "\n",
              "    .dataframe tbody tr th {\n",
              "        vertical-align: top;\n",
              "    }\n",
              "\n",
              "    .dataframe thead th {\n",
              "        text-align: right;\n",
              "    }\n",
              "</style>\n",
              "<table border=\"1\" class=\"dataframe\">\n",
              "  <thead>\n",
              "    <tr style=\"text-align: right;\">\n",
              "      <th></th>\n",
              "      <th>estimate</th>\n",
              "      <th>stderr</th>\n",
              "      <th>lower</th>\n",
              "      <th>upper</th>\n",
              "      <th>rmse y</th>\n",
              "      <th>rmse D</th>\n",
              "      <th>accuracy D</th>\n",
              "    </tr>\n",
              "  </thead>\n",
              "  <tbody>\n",
              "    <tr>\n",
              "      <th>double lasso</th>\n",
              "      <td>9035.120004</td>\n",
              "      <td>1295.135748</td>\n",
              "      <td>6496.653938</td>\n",
              "      <td>11573.586070</td>\n",
              "      <td>54254.468883</td>\n",
              "      <td>0.443406</td>\n",
              "      <td>0.688553</td>\n",
              "    </tr>\n",
              "    <tr>\n",
              "      <th>lasso/logistic</th>\n",
              "      <td>9092.469504</td>\n",
              "      <td>1304.404612</td>\n",
              "      <td>6535.836464</td>\n",
              "      <td>11649.102543</td>\n",
              "      <td>54254.468883</td>\n",
              "      <td>0.444043</td>\n",
              "      <td>0.687847</td>\n",
              "    </tr>\n",
              "    <tr>\n",
              "      <th>random forest</th>\n",
              "      <td>8858.855700</td>\n",
              "      <td>1357.128634</td>\n",
              "      <td>6198.883578</td>\n",
              "      <td>11518.827822</td>\n",
              "      <td>55050.908411</td>\n",
              "      <td>0.444420</td>\n",
              "      <td>0.690570</td>\n",
              "    </tr>\n",
              "    <tr>\n",
              "      <th>decision tree</th>\n",
              "      <td>9236.195678</td>\n",
              "      <td>1440.551643</td>\n",
              "      <td>6412.714457</td>\n",
              "      <td>12059.676898</td>\n",
              "      <td>59427.392172</td>\n",
              "      <td>0.446437</td>\n",
              "      <td>0.688048</td>\n",
              "    </tr>\n",
              "    <tr>\n",
              "      <th>boosted forest</th>\n",
              "      <td>8865.489082</td>\n",
              "      <td>1348.395763</td>\n",
              "      <td>6222.633386</td>\n",
              "      <td>11508.344778</td>\n",
              "      <td>56028.952986</td>\n",
              "      <td>0.443331</td>\n",
              "      <td>0.690066</td>\n",
              "    </tr>\n",
              "    <tr>\n",
              "      <th>automl</th>\n",
              "      <td>8815.116779</td>\n",
              "      <td>1336.129857</td>\n",
              "      <td>6196.302260</td>\n",
              "      <td>11433.931298</td>\n",
              "      <td>55539.308058</td>\n",
              "      <td>0.444316</td>\n",
              "      <td>0.688553</td>\n",
              "    </tr>\n",
              "    <tr>\n",
              "      <th>automl (semi-cfit)</th>\n",
              "      <td>9096.901818</td>\n",
              "      <td>1305.992620</td>\n",
              "      <td>6537.156283</td>\n",
              "      <td>11656.647353</td>\n",
              "      <td>53899.822340</td>\n",
              "      <td>0.445611</td>\n",
              "      <td>0.691679</td>\n",
              "    </tr>\n",
              "  </tbody>\n",
              "</table>\n",
              "</div>"
            ],
            "text/plain": [
              "                       estimate       stderr        lower         upper  \\\n",
              "double lasso        9035.120004  1295.135748  6496.653938  11573.586070   \n",
              "lasso/logistic      9092.469504  1304.404612  6535.836464  11649.102543   \n",
              "random forest       8858.855700  1357.128634  6198.883578  11518.827822   \n",
              "decision tree       9236.195678  1440.551643  6412.714457  12059.676898   \n",
              "boosted forest      8865.489082  1348.395763  6222.633386  11508.344778   \n",
              "automl              8815.116779  1336.129857  6196.302260  11433.931298   \n",
              "automl (semi-cfit)  9096.901818  1305.992620  6537.156283  11656.647353   \n",
              "\n",
              "                          rmse y    rmse D  accuracy D  \n",
              "double lasso        54254.468883  0.443406    0.688553  \n",
              "lasso/logistic      54254.468883  0.444043    0.687847  \n",
              "random forest       55050.908411  0.444420    0.690570  \n",
              "decision tree       59427.392172  0.446437    0.688048  \n",
              "boosted forest      56028.952986  0.443331    0.690066  \n",
              "automl              55539.308058  0.444316    0.688553  \n",
              "automl (semi-cfit)  53899.822340  0.445611    0.691679  "
            ]
          },
          "execution_count": 34,
          "metadata": {},
          "output_type": "execute_result"
        }
      ],
      "source": [
        "table = pd.concat([table, summary(*result, X, D, y, name='automl (semi-cfit)')])\n",
        "table"
      ]
    },
    {
      "cell_type": "markdown",
      "id": "61",
      "metadata": {
        "id": "61"
      },
      "source": [
        "### Semi-Crossfitting with Stacking"
      ]
    },
    {
      "cell_type": "code",
      "execution_count": 35,
      "id": "62",
      "metadata": {
        "id": "62"
      },
      "outputs": [],
      "source": [
        "def dml_dirty(X, D, y, modely_list, modeld_list, *,\n",
        "              stacker=LinearRegression(), nfolds, classifier=False):\n",
        "    '''\n",
        "    DML for the Partially Linear Model setting with semi-cross-fitting\n",
        "\n",
        "    Input\n",
        "    -----\n",
        "    X: the controls\n",
        "    D: the treatment\n",
        "    y: the outcome\n",
        "    modely: the ML model for predicting the outcome y\n",
        "    modeld: the ML model for predicting the treatment D\n",
        "    stacker: model used to aggregate predictions of each of the base models\n",
        "    nfolds: the number of folds in cross-fitting\n",
        "    classifier: bool, whether the modeld is a classifier or a regressor\n",
        "\n",
        "    Output\n",
        "    ------\n",
        "    point: the point estimate of the treatment effect of D on y\n",
        "    stderr: the standard error of the treatment effect\n",
        "    yhat: the cross-fitted predictions for the outcome y\n",
        "    Dhat: the cross-fitted predictions for the treatment D\n",
        "    resy: the outcome residuals\n",
        "    resD: the treatment residuals\n",
        "    epsilon: the final residual-on-residual OLS regression residual\n",
        "    '''\n",
        "    # construct out-of-fold predictions for each model\n",
        "    cv = KFold(n_splits=nfolds, shuffle=True, random_state=123)\n",
        "    yhats = np.array([cross_val_predict(modely, X, y, cv=cv, n_jobs=-1) for modely in modely_list]).T\n",
        "    if classifier:\n",
        "        Dhats = np.array([cross_val_predict(modeld, X, D, cv=cv, method='predict_proba', n_jobs=-1)[:, 1]\n",
        "                         for modeld in modeld_list]).T\n",
        "    else:\n",
        "        Dhats = np.array([cross_val_predict(modeld, X, D, cv=cv, n_jobs=-1) for modeld in modeld_list]).T\n",
        "    # calculate stacked residuals by finding optimal coefficients\n",
        "    # and weigthing out-of-sample predictions by these coefficients\n",
        "    yhat = stacker.fit(yhats, y).predict(yhats)\n",
        "    Dhat = stacker.fit(Dhats, D).predict(Dhats)\n",
        "    resy = y - yhat\n",
        "    resD = D - Dhat\n",
        "    # go with the stacked residuals\n",
        "    point = np.mean(resy * resD) / np.mean(resD**2)\n",
        "    epsilon = resy - point * resD\n",
        "    var = np.mean(epsilon**2 * resD**2) / np.mean(resD**2)**2\n",
        "    stderr = np.sqrt(var / X.shape[0])\n",
        "    return point, stderr, yhat, Dhat, resy, resD, epsilon"
      ]
    },
    {
      "cell_type": "code",
      "execution_count": 36,
      "id": "63",
      "metadata": {
        "id": "63"
      },
      "outputs": [],
      "source": [
        "result = dml_dirty(X, D, y, [lassoy, rfy, dtry, gbfy], [lgrd, rfd, dtrd, gbfd],\n",
        "                   nfolds=5, classifier=True)"
      ]
    },
    {
      "cell_type": "code",
      "execution_count": 37,
      "id": "64",
      "metadata": {
        "id": "64"
      },
      "outputs": [
        {
          "data": {
            "text/html": [
              "<div>\n",
              "<style scoped>\n",
              "    .dataframe tbody tr th:only-of-type {\n",
              "        vertical-align: middle;\n",
              "    }\n",
              "\n",
              "    .dataframe tbody tr th {\n",
              "        vertical-align: top;\n",
              "    }\n",
              "\n",
              "    .dataframe thead th {\n",
              "        text-align: right;\n",
              "    }\n",
              "</style>\n",
              "<table border=\"1\" class=\"dataframe\">\n",
              "  <thead>\n",
              "    <tr style=\"text-align: right;\">\n",
              "      <th></th>\n",
              "      <th>estimate</th>\n",
              "      <th>stderr</th>\n",
              "      <th>lower</th>\n",
              "      <th>upper</th>\n",
              "      <th>rmse y</th>\n",
              "      <th>rmse D</th>\n",
              "      <th>accuracy D</th>\n",
              "    </tr>\n",
              "  </thead>\n",
              "  <tbody>\n",
              "    <tr>\n",
              "      <th>double lasso</th>\n",
              "      <td>9035.120004</td>\n",
              "      <td>1295.135748</td>\n",
              "      <td>6496.653938</td>\n",
              "      <td>11573.586070</td>\n",
              "      <td>54254.468883</td>\n",
              "      <td>0.443406</td>\n",
              "      <td>0.688553</td>\n",
              "    </tr>\n",
              "    <tr>\n",
              "      <th>lasso/logistic</th>\n",
              "      <td>9092.469504</td>\n",
              "      <td>1304.404612</td>\n",
              "      <td>6535.836464</td>\n",
              "      <td>11649.102543</td>\n",
              "      <td>54254.468883</td>\n",
              "      <td>0.444043</td>\n",
              "      <td>0.687847</td>\n",
              "    </tr>\n",
              "    <tr>\n",
              "      <th>random forest</th>\n",
              "      <td>8858.855700</td>\n",
              "      <td>1357.128634</td>\n",
              "      <td>6198.883578</td>\n",
              "      <td>11518.827822</td>\n",
              "      <td>55050.908411</td>\n",
              "      <td>0.444420</td>\n",
              "      <td>0.690570</td>\n",
              "    </tr>\n",
              "    <tr>\n",
              "      <th>decision tree</th>\n",
              "      <td>9236.195678</td>\n",
              "      <td>1440.551643</td>\n",
              "      <td>6412.714457</td>\n",
              "      <td>12059.676898</td>\n",
              "      <td>59427.392172</td>\n",
              "      <td>0.446437</td>\n",
              "      <td>0.688048</td>\n",
              "    </tr>\n",
              "    <tr>\n",
              "      <th>boosted forest</th>\n",
              "      <td>8865.489082</td>\n",
              "      <td>1348.395763</td>\n",
              "      <td>6222.633386</td>\n",
              "      <td>11508.344778</td>\n",
              "      <td>56028.952986</td>\n",
              "      <td>0.443331</td>\n",
              "      <td>0.690066</td>\n",
              "    </tr>\n",
              "    <tr>\n",
              "      <th>automl</th>\n",
              "      <td>8815.116779</td>\n",
              "      <td>1336.129857</td>\n",
              "      <td>6196.302260</td>\n",
              "      <td>11433.931298</td>\n",
              "      <td>55539.308058</td>\n",
              "      <td>0.444316</td>\n",
              "      <td>0.688553</td>\n",
              "    </tr>\n",
              "    <tr>\n",
              "      <th>automl (semi-cfit)</th>\n",
              "      <td>9096.901818</td>\n",
              "      <td>1305.992620</td>\n",
              "      <td>6537.156283</td>\n",
              "      <td>11656.647353</td>\n",
              "      <td>53899.822340</td>\n",
              "      <td>0.445611</td>\n",
              "      <td>0.691679</td>\n",
              "    </tr>\n",
              "    <tr>\n",
              "      <th>stacked (semi-cfit)</th>\n",
              "      <td>8956.279433</td>\n",
              "      <td>1307.282748</td>\n",
              "      <td>6394.005247</td>\n",
              "      <td>11518.553619</td>\n",
              "      <td>53977.538601</td>\n",
              "      <td>0.442859</td>\n",
              "      <td>0.689662</td>\n",
              "    </tr>\n",
              "  </tbody>\n",
              "</table>\n",
              "</div>"
            ],
            "text/plain": [
              "                        estimate       stderr        lower         upper  \\\n",
              "double lasso         9035.120004  1295.135748  6496.653938  11573.586070   \n",
              "lasso/logistic       9092.469504  1304.404612  6535.836464  11649.102543   \n",
              "random forest        8858.855700  1357.128634  6198.883578  11518.827822   \n",
              "decision tree        9236.195678  1440.551643  6412.714457  12059.676898   \n",
              "boosted forest       8865.489082  1348.395763  6222.633386  11508.344778   \n",
              "automl               8815.116779  1336.129857  6196.302260  11433.931298   \n",
              "automl (semi-cfit)   9096.901818  1305.992620  6537.156283  11656.647353   \n",
              "stacked (semi-cfit)  8956.279433  1307.282748  6394.005247  11518.553619   \n",
              "\n",
              "                           rmse y    rmse D  accuracy D  \n",
              "double lasso         54254.468883  0.443406    0.688553  \n",
              "lasso/logistic       54254.468883  0.444043    0.687847  \n",
              "random forest        55050.908411  0.444420    0.690570  \n",
              "decision tree        59427.392172  0.446437    0.688048  \n",
              "boosted forest       56028.952986  0.443331    0.690066  \n",
              "automl               55539.308058  0.444316    0.688553  \n",
              "automl (semi-cfit)   53899.822340  0.445611    0.691679  \n",
              "stacked (semi-cfit)  53977.538601  0.442859    0.689662  "
            ]
          },
          "execution_count": 37,
          "metadata": {},
          "output_type": "execute_result"
        }
      ],
      "source": [
        "table = pd.concat([table, summary(*result, X, D, y, name='stacked (semi-cfit)')])\n",
        "table"
      ]
    },
    {
      "cell_type": "markdown",
      "id": "65",
      "metadata": {
        "id": "65"
      },
      "source": [
        "## Interactive Regression Model (IRM)"
      ]
    },
    {
      "cell_type": "markdown",
      "id": "66",
      "metadata": {
        "id": "66"
      },
      "source": [
        "Next, we consider estimation of average treatment effects when treatment effects are fully heterogeneous:"
      ]
    },
    {
      "cell_type": "markdown",
      "id": "67",
      "metadata": {
        "id": "67"
      },
      "source": [
        " \\begin{split}\n",
        "  Y  = g_0(D, X) + U,  &  \\quad E[U \\mid X, D]= 0,\\\\\n",
        "  D  = m_0(X) + V,  & \\quad  E[V\\mid X] = 0.\n",
        "\\end{split}"
      ]
    },
    {
      "cell_type": "markdown",
      "id": "68",
      "metadata": {
        "id": "68"
      },
      "source": [
        "To reduce the disproportionate impact of extreme propensity score weights in the interactive model\n",
        "we trim the propensity scores which are below .01 or above .99."
      ]
    },
    {
      "cell_type": "code",
      "execution_count": 38,
      "id": "69",
      "metadata": {
        "id": "69"
      },
      "outputs": [],
      "source": [
        "def dr(X, D, y, modely0, modely1, modeld, *, trimming=0.01, nfolds):\n",
        "    '''\n",
        "    DML for the Interactive Regression Model setting (Doubly Robust Learning)\n",
        "    with cross-fitting\n",
        "\n",
        "    Input\n",
        "    -----\n",
        "    X: the controls\n",
        "    D: the treatment\n",
        "    y: the outcome\n",
        "    modely0: the ML model for predicting the outcome y in the control population\n",
        "    modely1: the ML model for predicting the outcome y in the treated population\n",
        "    modeld: the ML model for predicting the treatment D\n",
        "    trimming: threshold below which to trim propensities\n",
        "    nfolds: the number of folds in cross-fitting\n",
        "\n",
        "    Output\n",
        "    ------\n",
        "    point: the point estimate of the treatment effect of D on y\n",
        "    stderr: the standard error of the treatment effect\n",
        "    yhat: the cross-fitted predictions for the outcome y\n",
        "    Dhat: the cross-fitted predictions for the outcome D\n",
        "    resy: the outcome residuals\n",
        "    resD: the treatment residuals\n",
        "    drhat: the doubly robust quantity for each sample\n",
        "    '''\n",
        "    cv = KFold(n_splits=nfolds, shuffle=True, random_state=123)\n",
        "    yhat0, yhat1 = np.zeros(y.shape), np.zeros(y.shape)\n",
        "    # we will fit a model E[Y| D, X] by fitting a separate model for D==0\n",
        "    # and a separate model for D==1.\n",
        "    for train, test in cv.split(X, y):\n",
        "        # train a model on training data that received treatment zero and predict on all data in test set\n",
        "        yhat0[test] = clone(modely0).fit(X.iloc[train][D[train] == 0], y[train][D[train] == 0]).predict(X.iloc[test])\n",
        "        # train a model on training data that received treatment one and predict on all data in test set\n",
        "        yhat1[test] = clone(modely1).fit(X.iloc[train][D[train] == 1], y[train][D[train] == 1]).predict(X.iloc[test])\n",
        "    # prediction for observed treatment\n",
        "    yhat = yhat0 * (1 - D) + yhat1 * D\n",
        "    # propensity scores\n",
        "    Dhat = cross_val_predict(modeld, X, D, cv=cv, method='predict_proba', n_jobs=-1)[:, 1]\n",
        "    Dhat = np.clip(Dhat, trimming, 1 - trimming)\n",
        "    # doubly robust quantity for every sample\n",
        "    drhat = yhat1 - yhat0 + (y - yhat) * (D / Dhat - (1 - D) / (1 - Dhat))\n",
        "    point = np.mean(drhat)\n",
        "    var = np.var(drhat)\n",
        "    stderr = np.sqrt(var / X.shape[0])\n",
        "    return point, stderr, yhat, Dhat, y - yhat, D - Dhat, drhat"
      ]
    },
    {
      "cell_type": "markdown",
      "id": "70",
      "metadata": {
        "id": "70"
      },
      "source": [
        "**NB**: There is randomness across the random seed that potentially causes instability in our estimates. In particular, we find that the lasso/logistic specification for the IRM model exhibits great instability across different seeds. To mitigate these differences, we can take an average across seeds. In principle we would do this for all estimates, but for computation and simplicity, we cheat a little bit and do it only for the model specification we know varies significantly."
      ]
    },
    {
      "cell_type": "code",
      "execution_count": 39,
      "id": "71",
      "metadata": {
        "id": "71"
      },
      "outputs": [
        {
          "data": {
            "text/html": [
              "<div>\n",
              "<style scoped>\n",
              "    .dataframe tbody tr th:only-of-type {\n",
              "        vertical-align: middle;\n",
              "    }\n",
              "\n",
              "    .dataframe tbody tr th {\n",
              "        vertical-align: top;\n",
              "    }\n",
              "\n",
              "    .dataframe thead th {\n",
              "        text-align: right;\n",
              "    }\n",
              "</style>\n",
              "<table border=\"1\" class=\"dataframe\">\n",
              "  <thead>\n",
              "    <tr style=\"text-align: right;\">\n",
              "      <th></th>\n",
              "      <th>estimate</th>\n",
              "      <th>stderr</th>\n",
              "      <th>lower</th>\n",
              "      <th>upper</th>\n",
              "      <th>rmse y</th>\n",
              "      <th>rmse D</th>\n",
              "      <th>accuracy D</th>\n",
              "    </tr>\n",
              "  </thead>\n",
              "  <tbody>\n",
              "    <tr>\n",
              "      <th>lasso/logistic</th>\n",
              "      <td>7942.342380</td>\n",
              "      <td>1163.934293</td>\n",
              "      <td>5661.031166</td>\n",
              "      <td>10223.653593</td>\n",
              "      <td>54026.928780</td>\n",
              "      <td>0.444043</td>\n",
              "      <td>0.687847</td>\n",
              "    </tr>\n",
              "    <tr>\n",
              "      <th>lasso/logistic</th>\n",
              "      <td>7813.470232</td>\n",
              "      <td>1144.502372</td>\n",
              "      <td>5570.245583</td>\n",
              "      <td>10056.694880</td>\n",
              "      <td>54056.161816</td>\n",
              "      <td>0.444113</td>\n",
              "      <td>0.687847</td>\n",
              "    </tr>\n",
              "    <tr>\n",
              "      <th>lasso/logistic</th>\n",
              "      <td>2264.166892</td>\n",
              "      <td>5693.210637</td>\n",
              "      <td>-8894.525956</td>\n",
              "      <td>13422.859741</td>\n",
              "      <td>54060.154408</td>\n",
              "      <td>0.444210</td>\n",
              "      <td>0.687948</td>\n",
              "    </tr>\n",
              "    <tr>\n",
              "      <th>lasso/logistic</th>\n",
              "      <td>7669.433546</td>\n",
              "      <td>1143.123135</td>\n",
              "      <td>5428.912202</td>\n",
              "      <td>9909.954890</td>\n",
              "      <td>54062.046155</td>\n",
              "      <td>0.444156</td>\n",
              "      <td>0.687443</td>\n",
              "    </tr>\n",
              "    <tr>\n",
              "      <th>lasso/logistic</th>\n",
              "      <td>7724.772922</td>\n",
              "      <td>1142.010403</td>\n",
              "      <td>5486.432532</td>\n",
              "      <td>9963.113312</td>\n",
              "      <td>54079.792271</td>\n",
              "      <td>0.443917</td>\n",
              "      <td>0.688956</td>\n",
              "    </tr>\n",
              "    <tr>\n",
              "      <th>lasso/logistic</th>\n",
              "      <td>7875.357695</td>\n",
              "      <td>1161.295257</td>\n",
              "      <td>5599.218992</td>\n",
              "      <td>10151.496398</td>\n",
              "      <td>54060.881194</td>\n",
              "      <td>0.444464</td>\n",
              "      <td>0.686536</td>\n",
              "    </tr>\n",
              "    <tr>\n",
              "      <th>lasso/logistic</th>\n",
              "      <td>3366.919640</td>\n",
              "      <td>4717.573390</td>\n",
              "      <td>-5879.524204</td>\n",
              "      <td>12613.363484</td>\n",
              "      <td>54061.838265</td>\n",
              "      <td>0.444037</td>\n",
              "      <td>0.688149</td>\n",
              "    </tr>\n",
              "    <tr>\n",
              "      <th>lasso/logistic</th>\n",
              "      <td>7728.305272</td>\n",
              "      <td>1137.739546</td>\n",
              "      <td>5498.335763</td>\n",
              "      <td>9958.274782</td>\n",
              "      <td>54070.256094</td>\n",
              "      <td>0.443972</td>\n",
              "      <td>0.688351</td>\n",
              "    </tr>\n",
              "    <tr>\n",
              "      <th>lasso/logistic</th>\n",
              "      <td>2368.848786</td>\n",
              "      <td>5591.202182</td>\n",
              "      <td>-8589.907491</td>\n",
              "      <td>13327.605063</td>\n",
              "      <td>54033.988049</td>\n",
              "      <td>0.444040</td>\n",
              "      <td>0.688553</td>\n",
              "    </tr>\n",
              "    <tr>\n",
              "      <th>lasso/logistic</th>\n",
              "      <td>7747.680007</td>\n",
              "      <td>1140.529628</td>\n",
              "      <td>5512.241937</td>\n",
              "      <td>9983.118077</td>\n",
              "      <td>54060.523699</td>\n",
              "      <td>0.443920</td>\n",
              "      <td>0.687847</td>\n",
              "    </tr>\n",
              "  </tbody>\n",
              "</table>\n",
              "</div>"
            ],
            "text/plain": [
              "                   estimate       stderr        lower         upper  \\\n",
              "lasso/logistic  7942.342380  1163.934293  5661.031166  10223.653593   \n",
              "lasso/logistic  7813.470232  1144.502372  5570.245583  10056.694880   \n",
              "lasso/logistic  2264.166892  5693.210637 -8894.525956  13422.859741   \n",
              "lasso/logistic  7669.433546  1143.123135  5428.912202   9909.954890   \n",
              "lasso/logistic  7724.772922  1142.010403  5486.432532   9963.113312   \n",
              "lasso/logistic  7875.357695  1161.295257  5599.218992  10151.496398   \n",
              "lasso/logistic  3366.919640  4717.573390 -5879.524204  12613.363484   \n",
              "lasso/logistic  7728.305272  1137.739546  5498.335763   9958.274782   \n",
              "lasso/logistic  2368.848786  5591.202182 -8589.907491  13327.605063   \n",
              "lasso/logistic  7747.680007  1140.529628  5512.241937   9983.118077   \n",
              "\n",
              "                      rmse y    rmse D  accuracy D  \n",
              "lasso/logistic  54026.928780  0.444043    0.687847  \n",
              "lasso/logistic  54056.161816  0.444113    0.687847  \n",
              "lasso/logistic  54060.154408  0.444210    0.687948  \n",
              "lasso/logistic  54062.046155  0.444156    0.687443  \n",
              "lasso/logistic  54079.792271  0.443917    0.688956  \n",
              "lasso/logistic  54060.881194  0.444464    0.686536  \n",
              "lasso/logistic  54061.838265  0.444037    0.688149  \n",
              "lasso/logistic  54070.256094  0.443972    0.688351  \n",
              "lasso/logistic  54033.988049  0.444040    0.688553  \n",
              "lasso/logistic  54060.523699  0.443920    0.687847  "
            ]
          },
          "execution_count": 39,
          "metadata": {},
          "output_type": "execute_result"
        }
      ],
      "source": [
        "cv = KFold(n_splits=5, shuffle=True, random_state=123)\n",
        "lassoytest = make_pipeline(transformer, StandardScaler(), LassoCV(cv=cv))\n",
        "lgrdtest = make_pipeline(transformer, StandardScaler(), LogisticRegressionCV(cv=cv))\n",
        "result = dr(X, D, y, lassoytest, lassoytest, lgrdtest, nfolds=5)\n",
        "seed_estimates = summary(*result, X, D, y, name='lasso/logistic')\n",
        "\n",
        "for i in range(9):\n",
        "    cv = KFold(n_splits=5, shuffle=True, random_state=i)\n",
        "    lassoytest = make_pipeline(transformer, StandardScaler(), LassoCV(cv=cv))\n",
        "    lgrdtest = make_pipeline(transformer, StandardScaler(), LogisticRegressionCV(cv=cv))\n",
        "    result = dr(X, D, y, lassoytest, lassoytest, lgrdtest, nfolds=5)\n",
        "    seed_estimates = pd.concat([seed_estimates, summary(*result, X, D, y, name='lasso/logistic')])\n",
        "\n",
        "seed_estimates"
      ]
    },
    {
      "cell_type": "markdown",
      "id": "72",
      "metadata": {
        "id": "72"
      },
      "source": [
        "As we can see, using lasso and logistic regression for $Y$ and $D$ respectively leads to estimates that vary across different seeds. Letting $\\hat{\\theta}_s$ denote the vector of $s=10$ estimates across the seeds, we take $$\\hat{\\theta} := \\text{median}(\\hat{\\theta}_s)$$ and $$SE(\\hat{\\theta}) := \\sqrt{\\text{median}\\left(SE(\\hat{\\theta}_s)^2 + (\\hat{\\theta}_s - \\hat{\\theta})^2\\right)}$$ (Note in the standard error calculation, the operation of de-medianing $\\hat{\\theta}_s - \\hat{\\theta}$ is broadcasted.)"
      ]
    },
    {
      "cell_type": "code",
      "execution_count": 40,
      "id": "73",
      "metadata": {
        "id": "73"
      },
      "outputs": [],
      "source": [
        "med_theta = np.median(seed_estimates.values[:, 0])\n",
        "se_med = np.sqrt(np.median((seed_estimates.values[:, 1])**2 + (seed_estimates.values[:, 0] - med_theta)**2))\n",
        "tabledr = pd.DataFrame({'estimate': med_theta,\n",
        "                        'stderr': se_med,\n",
        "                        'lower': med_theta - 1.96 * se_med,\n",
        "                        'upper': med_theta + 1.96 * se_med,\n",
        "                        'rmse y': np.median(seed_estimates.values[:, 4]),\n",
        "                        'rmse D': np.median(seed_estimates.values[:, 5]),\n",
        "                        'accuracy D': np.median(seed_estimates.values[:, 6]),\n",
        "                        }, index=['lasso/logistic'])"
      ]
    },
    {
      "cell_type": "code",
      "execution_count": 41,
      "id": "74",
      "metadata": {
        "id": "74"
      },
      "outputs": [],
      "source": [
        "rfy = make_pipeline(transformer, RandomForestRegressor(n_estimators=100, min_samples_leaf=10, ccp_alpha=.001))\n",
        "rfd = make_pipeline(transformer, RandomForestClassifier(n_estimators=100, min_samples_leaf=10, ccp_alpha=.001))\n",
        "result = dr(X, D, y, rfy, rfy, rfd, nfolds=5)"
      ]
    },
    {
      "cell_type": "code",
      "execution_count": 42,
      "id": "75",
      "metadata": {
        "id": "75"
      },
      "outputs": [
        {
          "data": {
            "text/html": [
              "<div>\n",
              "<style scoped>\n",
              "    .dataframe tbody tr th:only-of-type {\n",
              "        vertical-align: middle;\n",
              "    }\n",
              "\n",
              "    .dataframe tbody tr th {\n",
              "        vertical-align: top;\n",
              "    }\n",
              "\n",
              "    .dataframe thead th {\n",
              "        text-align: right;\n",
              "    }\n",
              "</style>\n",
              "<table border=\"1\" class=\"dataframe\">\n",
              "  <thead>\n",
              "    <tr style=\"text-align: right;\">\n",
              "      <th></th>\n",
              "      <th>estimate</th>\n",
              "      <th>stderr</th>\n",
              "      <th>lower</th>\n",
              "      <th>upper</th>\n",
              "      <th>rmse y</th>\n",
              "      <th>rmse D</th>\n",
              "      <th>accuracy D</th>\n",
              "    </tr>\n",
              "  </thead>\n",
              "  <tbody>\n",
              "    <tr>\n",
              "      <th>lasso/logistic</th>\n",
              "      <td>7726.539097</td>\n",
              "      <td>1159.352481</td>\n",
              "      <td>5454.208235</td>\n",
              "      <td>9998.869959</td>\n",
              "      <td>54060.702446</td>\n",
              "      <td>0.444041</td>\n",
              "      <td>0.687897</td>\n",
              "    </tr>\n",
              "    <tr>\n",
              "      <th>random forest</th>\n",
              "      <td>7773.472245</td>\n",
              "      <td>1150.988762</td>\n",
              "      <td>5517.534272</td>\n",
              "      <td>10029.410219</td>\n",
              "      <td>55688.675400</td>\n",
              "      <td>0.444465</td>\n",
              "      <td>0.689662</td>\n",
              "    </tr>\n",
              "  </tbody>\n",
              "</table>\n",
              "</div>"
            ],
            "text/plain": [
              "                   estimate       stderr        lower         upper  \\\n",
              "lasso/logistic  7726.539097  1159.352481  5454.208235   9998.869959   \n",
              "random forest   7773.472245  1150.988762  5517.534272  10029.410219   \n",
              "\n",
              "                      rmse y    rmse D  accuracy D  \n",
              "lasso/logistic  54060.702446  0.444041    0.687897  \n",
              "random forest   55688.675400  0.444465    0.689662  "
            ]
          },
          "execution_count": 42,
          "metadata": {},
          "output_type": "execute_result"
        }
      ],
      "source": [
        "tabledr = pd.concat([tabledr, summary(*result, X, D, y, name='random forest')])\n",
        "tabledr"
      ]
    },
    {
      "cell_type": "code",
      "execution_count": 43,
      "id": "76",
      "metadata": {
        "id": "76"
      },
      "outputs": [],
      "source": [
        "dtry = make_pipeline(transformer, DecisionTreeRegressor(min_samples_leaf=10, ccp_alpha=.001))\n",
        "dtrd = make_pipeline(transformer, DecisionTreeClassifier(min_samples_leaf=10, ccp_alpha=.001))\n",
        "result = dr(X, D, y, dtry, dtry, dtrd, nfolds=5)"
      ]
    },
    {
      "cell_type": "code",
      "execution_count": 44,
      "id": "77",
      "metadata": {
        "id": "77"
      },
      "outputs": [
        {
          "data": {
            "text/html": [
              "<div>\n",
              "<style scoped>\n",
              "    .dataframe tbody tr th:only-of-type {\n",
              "        vertical-align: middle;\n",
              "    }\n",
              "\n",
              "    .dataframe tbody tr th {\n",
              "        vertical-align: top;\n",
              "    }\n",
              "\n",
              "    .dataframe thead th {\n",
              "        text-align: right;\n",
              "    }\n",
              "</style>\n",
              "<table border=\"1\" class=\"dataframe\">\n",
              "  <thead>\n",
              "    <tr style=\"text-align: right;\">\n",
              "      <th></th>\n",
              "      <th>estimate</th>\n",
              "      <th>stderr</th>\n",
              "      <th>lower</th>\n",
              "      <th>upper</th>\n",
              "      <th>rmse y</th>\n",
              "      <th>rmse D</th>\n",
              "      <th>accuracy D</th>\n",
              "    </tr>\n",
              "  </thead>\n",
              "  <tbody>\n",
              "    <tr>\n",
              "      <th>lasso/logistic</th>\n",
              "      <td>7726.539097</td>\n",
              "      <td>1159.352481</td>\n",
              "      <td>5454.208235</td>\n",
              "      <td>9998.869959</td>\n",
              "      <td>54060.702446</td>\n",
              "      <td>0.444041</td>\n",
              "      <td>0.687897</td>\n",
              "    </tr>\n",
              "    <tr>\n",
              "      <th>random forest</th>\n",
              "      <td>7773.472245</td>\n",
              "      <td>1150.988762</td>\n",
              "      <td>5517.534272</td>\n",
              "      <td>10029.410219</td>\n",
              "      <td>55688.675400</td>\n",
              "      <td>0.444465</td>\n",
              "      <td>0.689662</td>\n",
              "    </tr>\n",
              "    <tr>\n",
              "      <th>decision tree</th>\n",
              "      <td>7846.062404</td>\n",
              "      <td>1255.458093</td>\n",
              "      <td>5385.364541</td>\n",
              "      <td>10306.760267</td>\n",
              "      <td>60491.245996</td>\n",
              "      <td>0.446437</td>\n",
              "      <td>0.688048</td>\n",
              "    </tr>\n",
              "  </tbody>\n",
              "</table>\n",
              "</div>"
            ],
            "text/plain": [
              "                   estimate       stderr        lower         upper  \\\n",
              "lasso/logistic  7726.539097  1159.352481  5454.208235   9998.869959   \n",
              "random forest   7773.472245  1150.988762  5517.534272  10029.410219   \n",
              "decision tree   7846.062404  1255.458093  5385.364541  10306.760267   \n",
              "\n",
              "                      rmse y    rmse D  accuracy D  \n",
              "lasso/logistic  54060.702446  0.444041    0.687897  \n",
              "random forest   55688.675400  0.444465    0.689662  \n",
              "decision tree   60491.245996  0.446437    0.688048  "
            ]
          },
          "execution_count": 44,
          "metadata": {},
          "output_type": "execute_result"
        }
      ],
      "source": [
        "tabledr = pd.concat([tabledr, summary(*result, X, D, y, name='decision tree')])\n",
        "tabledr"
      ]
    },
    {
      "cell_type": "code",
      "execution_count": 45,
      "id": "78",
      "metadata": {
        "id": "78"
      },
      "outputs": [],
      "source": [
        "gbfy = make_pipeline(transformer, GradientBoostingRegressor(max_depth=2, n_iter_no_change=5))\n",
        "gbfd = make_pipeline(transformer, GradientBoostingClassifier(max_depth=2, n_iter_no_change=5))\n",
        "result = dr(X, D, y, gbfy, gbfy, gbfd, nfolds=5)"
      ]
    },
    {
      "cell_type": "code",
      "execution_count": 46,
      "id": "79",
      "metadata": {
        "id": "79"
      },
      "outputs": [
        {
          "data": {
            "text/html": [
              "<div>\n",
              "<style scoped>\n",
              "    .dataframe tbody tr th:only-of-type {\n",
              "        vertical-align: middle;\n",
              "    }\n",
              "\n",
              "    .dataframe tbody tr th {\n",
              "        vertical-align: top;\n",
              "    }\n",
              "\n",
              "    .dataframe thead th {\n",
              "        text-align: right;\n",
              "    }\n",
              "</style>\n",
              "<table border=\"1\" class=\"dataframe\">\n",
              "  <thead>\n",
              "    <tr style=\"text-align: right;\">\n",
              "      <th></th>\n",
              "      <th>estimate</th>\n",
              "      <th>stderr</th>\n",
              "      <th>lower</th>\n",
              "      <th>upper</th>\n",
              "      <th>rmse y</th>\n",
              "      <th>rmse D</th>\n",
              "      <th>accuracy D</th>\n",
              "    </tr>\n",
              "  </thead>\n",
              "  <tbody>\n",
              "    <tr>\n",
              "      <th>lasso/logistic</th>\n",
              "      <td>7726.539097</td>\n",
              "      <td>1159.352481</td>\n",
              "      <td>5454.208235</td>\n",
              "      <td>9998.869959</td>\n",
              "      <td>54060.702446</td>\n",
              "      <td>0.444041</td>\n",
              "      <td>0.687897</td>\n",
              "    </tr>\n",
              "    <tr>\n",
              "      <th>random forest</th>\n",
              "      <td>7773.472245</td>\n",
              "      <td>1150.988762</td>\n",
              "      <td>5517.534272</td>\n",
              "      <td>10029.410219</td>\n",
              "      <td>55688.675400</td>\n",
              "      <td>0.444465</td>\n",
              "      <td>0.689662</td>\n",
              "    </tr>\n",
              "    <tr>\n",
              "      <th>decision tree</th>\n",
              "      <td>7846.062404</td>\n",
              "      <td>1255.458093</td>\n",
              "      <td>5385.364541</td>\n",
              "      <td>10306.760267</td>\n",
              "      <td>60491.245996</td>\n",
              "      <td>0.446437</td>\n",
              "      <td>0.688048</td>\n",
              "    </tr>\n",
              "    <tr>\n",
              "      <th>boosted forest</th>\n",
              "      <td>8355.396070</td>\n",
              "      <td>1138.132233</td>\n",
              "      <td>6124.656893</td>\n",
              "      <td>10586.135246</td>\n",
              "      <td>55036.679450</td>\n",
              "      <td>0.443467</td>\n",
              "      <td>0.692385</td>\n",
              "    </tr>\n",
              "  </tbody>\n",
              "</table>\n",
              "</div>"
            ],
            "text/plain": [
              "                   estimate       stderr        lower         upper  \\\n",
              "lasso/logistic  7726.539097  1159.352481  5454.208235   9998.869959   \n",
              "random forest   7773.472245  1150.988762  5517.534272  10029.410219   \n",
              "decision tree   7846.062404  1255.458093  5385.364541  10306.760267   \n",
              "boosted forest  8355.396070  1138.132233  6124.656893  10586.135246   \n",
              "\n",
              "                      rmse y    rmse D  accuracy D  \n",
              "lasso/logistic  54060.702446  0.444041    0.687897  \n",
              "random forest   55688.675400  0.444465    0.689662  \n",
              "decision tree   60491.245996  0.446437    0.688048  \n",
              "boosted forest  55036.679450  0.443467    0.692385  "
            ]
          },
          "execution_count": 46,
          "metadata": {},
          "output_type": "execute_result"
        }
      ],
      "source": [
        "tabledr = pd.concat([tabledr, summary(*result, X, D, y, name='boosted forest')])\n",
        "tabledr"
      ]
    },
    {
      "cell_type": "markdown",
      "id": "80",
      "metadata": {
        "id": "80"
      },
      "source": [
        "These estimates that flexibly account for confounding are substantially attenuated relative to the baseline estimate (19559) that does not account for confounding. They suggest much smaller causal effects of 401(k) eligiblity on financial asset holdings."
      ]
    },
    {
      "cell_type": "markdown",
      "id": "81",
      "metadata": {
        "id": "81"
      },
      "source": [
        "# Semi-Cross-Fitting"
      ]
    },
    {
      "cell_type": "code",
      "execution_count": 47,
      "id": "82",
      "metadata": {
        "id": "82"
      },
      "outputs": [],
      "source": [
        "from flaml import AutoML\n",
        "flamly0 = make_pipeline(transformer, AutoML(time_budget=60, task='regression', early_stop=True,\n",
        "                                            eval_method='cv', n_splits=3, metric='r2', verbose=0))\n",
        "flamly1 = make_pipeline(transformer, AutoML(time_budget=60, task='regression', early_stop=True,\n",
        "                                            eval_method='cv', n_splits=3, metric='r2', verbose=0))\n",
        "flamld = make_pipeline(transformer, AutoML(time_budget=60, task='classification', early_stop=True,\n",
        "                                           eval_method='cv', n_splits=3, metric='r2', verbose=0))"
      ]
    },
    {
      "cell_type": "code",
      "execution_count": 48,
      "id": "83",
      "metadata": {
        "id": "83"
      },
      "outputs": [],
      "source": [
        "flamly0.fit(X[D == 0], y[D == 0])\n",
        "besty0 = make_pipeline(transformer, clone(flamly0[-1].best_model_for_estimator(flamly0[-1].best_estimator)))"
      ]
    },
    {
      "cell_type": "code",
      "execution_count": 49,
      "id": "84",
      "metadata": {
        "id": "84"
      },
      "outputs": [],
      "source": [
        "flamly1.fit(X[D == 1], y[D == 1])\n",
        "besty1 = make_pipeline(transformer, clone(flamly1[-1].best_model_for_estimator(flamly1[-1].best_estimator)))"
      ]
    },
    {
      "cell_type": "code",
      "execution_count": 50,
      "id": "85",
      "metadata": {
        "id": "85"
      },
      "outputs": [],
      "source": [
        "flamld.fit(X, D)\n",
        "bestd = make_pipeline(transformer, clone(flamld[-1].best_model_for_estimator(flamld[-1].best_estimator)))"
      ]
    },
    {
      "cell_type": "code",
      "execution_count": 51,
      "id": "86",
      "metadata": {
        "id": "86"
      },
      "outputs": [],
      "source": [
        "result = dr(X, D, y, besty0, besty1, bestd, nfolds=5)"
      ]
    },
    {
      "cell_type": "code",
      "execution_count": 52,
      "id": "87",
      "metadata": {
        "id": "87"
      },
      "outputs": [
        {
          "data": {
            "text/html": [
              "<div>\n",
              "<style scoped>\n",
              "    .dataframe tbody tr th:only-of-type {\n",
              "        vertical-align: middle;\n",
              "    }\n",
              "\n",
              "    .dataframe tbody tr th {\n",
              "        vertical-align: top;\n",
              "    }\n",
              "\n",
              "    .dataframe thead th {\n",
              "        text-align: right;\n",
              "    }\n",
              "</style>\n",
              "<table border=\"1\" class=\"dataframe\">\n",
              "  <thead>\n",
              "    <tr style=\"text-align: right;\">\n",
              "      <th></th>\n",
              "      <th>estimate</th>\n",
              "      <th>stderr</th>\n",
              "      <th>lower</th>\n",
              "      <th>upper</th>\n",
              "      <th>rmse y</th>\n",
              "      <th>rmse D</th>\n",
              "      <th>accuracy D</th>\n",
              "    </tr>\n",
              "  </thead>\n",
              "  <tbody>\n",
              "    <tr>\n",
              "      <th>lasso/logistic</th>\n",
              "      <td>7726.539097</td>\n",
              "      <td>1159.352481</td>\n",
              "      <td>5454.208235</td>\n",
              "      <td>9998.869959</td>\n",
              "      <td>54060.702446</td>\n",
              "      <td>0.444041</td>\n",
              "      <td>0.687897</td>\n",
              "    </tr>\n",
              "    <tr>\n",
              "      <th>random forest</th>\n",
              "      <td>7773.472245</td>\n",
              "      <td>1150.988762</td>\n",
              "      <td>5517.534272</td>\n",
              "      <td>10029.410219</td>\n",
              "      <td>55688.675400</td>\n",
              "      <td>0.444465</td>\n",
              "      <td>0.689662</td>\n",
              "    </tr>\n",
              "    <tr>\n",
              "      <th>decision tree</th>\n",
              "      <td>7846.062404</td>\n",
              "      <td>1255.458093</td>\n",
              "      <td>5385.364541</td>\n",
              "      <td>10306.760267</td>\n",
              "      <td>60491.245996</td>\n",
              "      <td>0.446437</td>\n",
              "      <td>0.688048</td>\n",
              "    </tr>\n",
              "    <tr>\n",
              "      <th>boosted forest</th>\n",
              "      <td>8355.396070</td>\n",
              "      <td>1138.132233</td>\n",
              "      <td>6124.656893</td>\n",
              "      <td>10586.135246</td>\n",
              "      <td>55036.679450</td>\n",
              "      <td>0.443467</td>\n",
              "      <td>0.692385</td>\n",
              "    </tr>\n",
              "    <tr>\n",
              "      <th>automl (semi-cfit)</th>\n",
              "      <td>8303.191478</td>\n",
              "      <td>1097.734797</td>\n",
              "      <td>6151.631277</td>\n",
              "      <td>10454.751680</td>\n",
              "      <td>54932.501281</td>\n",
              "      <td>0.445611</td>\n",
              "      <td>0.691679</td>\n",
              "    </tr>\n",
              "  </tbody>\n",
              "</table>\n",
              "</div>"
            ],
            "text/plain": [
              "                       estimate       stderr        lower         upper  \\\n",
              "lasso/logistic      7726.539097  1159.352481  5454.208235   9998.869959   \n",
              "random forest       7773.472245  1150.988762  5517.534272  10029.410219   \n",
              "decision tree       7846.062404  1255.458093  5385.364541  10306.760267   \n",
              "boosted forest      8355.396070  1138.132233  6124.656893  10586.135246   \n",
              "automl (semi-cfit)  8303.191478  1097.734797  6151.631277  10454.751680   \n",
              "\n",
              "                          rmse y    rmse D  accuracy D  \n",
              "lasso/logistic      54060.702446  0.444041    0.687897  \n",
              "random forest       55688.675400  0.444465    0.689662  \n",
              "decision tree       60491.245996  0.446437    0.688048  \n",
              "boosted forest      55036.679450  0.443467    0.692385  \n",
              "automl (semi-cfit)  54932.501281  0.445611    0.691679  "
            ]
          },
          "execution_count": 52,
          "metadata": {},
          "output_type": "execute_result"
        }
      ],
      "source": [
        "tabledr = pd.concat([tabledr, summary(*result, X, D, y, name='automl (semi-cfit)')])\n",
        "tabledr"
      ]
    },
    {
      "cell_type": "code",
      "execution_count": 53,
      "id": "88",
      "metadata": {
        "id": "88"
      },
      "outputs": [],
      "source": [
        "def dr_dirty(X, D, y, modely0_list, modely1_list, modeld_list, *,\n",
        "             stacker=LinearRegression(), trimming=0.01, nfolds):\n",
        "    '''\n",
        "    DML for the Interactive Regression Model setting (Doubly Robust Learning)\n",
        "    with cross-fitting\n",
        "\n",
        "    Input\n",
        "    -----\n",
        "    X: the controls\n",
        "    D: the treatment\n",
        "    y: the outcome\n",
        "    modely_list: list of ML models for predicting the outcome y\n",
        "    modeld_list: list of ML models for predicting the treatment D\n",
        "    stacker: model used to aggregate predictions of each of the base models\n",
        "    trimming: threshold below which to trim propensities\n",
        "    nfolds: the number of folds in cross-fitting\n",
        "\n",
        "    Output\n",
        "    ------\n",
        "    point: the point estimate of the treatment effect of D on y\n",
        "    stderr: the standard error of the treatment effect\n",
        "    yhat: the cross-fitted predictions for the outcome y\n",
        "    Dhat: the cross-fitted predictions for the outcome D\n",
        "    resy: the outcome residuals\n",
        "    resD: the treatment residuals\n",
        "    drhat: the doubly robust quantity for each sample\n",
        "    '''\n",
        "    cv = KFold(n_splits=nfolds, shuffle=True, random_state=123)\n",
        "\n",
        "    # we will fit a model E[Y| D, X] by fitting a separate model for D==0\n",
        "    # and a separate model for D==1. We do that for each model type in modely_list\n",
        "    yhats0, yhats1 = np.zeros((y.shape[0], len(modely0_list))), np.zeros((y.shape[0], len(modely1_list)))\n",
        "    for train, test in cv.split(X, y):\n",
        "        for it, modely0 in enumerate(modely0_list):\n",
        "            mdl = clone(modely0).fit(X.iloc[train][D[train] == 0], y[train][D[train] == 0])\n",
        "            yhats0[test, it] = mdl.predict(X.iloc[test])\n",
        "        for it, modely1 in enumerate(modely1_list):\n",
        "            mdl = clone(modely1).fit(X.iloc[train][D[train] == 1], y[train][D[train] == 1])\n",
        "            yhats1[test, it] = mdl.predict(X.iloc[test])\n",
        "\n",
        "    # calculate stacking weights for the outcome model for each population\n",
        "    # and combine the outcome model predictions\n",
        "    yhat0 = clone(stacker).fit(yhats0[D == 0], y[D == 0]).predict(yhats0)\n",
        "    yhat1 = clone(stacker).fit(yhats1[D == 1], y[D == 1]).predict(yhats1)\n",
        "\n",
        "    # prediction for observed treatment using the stacked model\n",
        "    yhat = yhat0 * (1 - D) + yhat1 * D\n",
        "\n",
        "    # propensity scores\n",
        "    Dhats = np.array([cross_val_predict(modeld, X, D, cv=cv, method='predict_proba', n_jobs=-1)[:, 1]\n",
        "                     for modeld in modeld_list]).T\n",
        "    # construct coefficients on each model based on stacker\n",
        "    Dhat = clone(stacker).fit(Dhats, D).predict(Dhats)\n",
        "    # trim propensities\n",
        "    Dhat = np.clip(Dhat, trimming, 1 - trimming)\n",
        "\n",
        "    # doubly robust quantity for every sample\n",
        "    drhat = yhat1 - yhat0 + (y - yhat) * (D / Dhat - (1 - D) / (1 - Dhat))\n",
        "    point = np.mean(drhat)\n",
        "    var = np.var(drhat)\n",
        "    stderr = np.sqrt(var / X.shape[0])\n",
        "    return point, stderr, yhat, Dhat, y - yhat, D - Dhat, drhat"
      ]
    },
    {
      "cell_type": "code",
      "execution_count": 54,
      "id": "89",
      "metadata": {
        "id": "89"
      },
      "outputs": [],
      "source": [
        "result = dr_dirty(X, D, y, [lassoy, rfy, dtry, gbfy], [lassoy, rfy, dtry, gbfy], [lgrd, rfd, dtrd, gbfd], nfolds=5)"
      ]
    },
    {
      "cell_type": "code",
      "execution_count": 55,
      "id": "90",
      "metadata": {
        "id": "90"
      },
      "outputs": [
        {
          "data": {
            "text/html": [
              "<div>\n",
              "<style scoped>\n",
              "    .dataframe tbody tr th:only-of-type {\n",
              "        vertical-align: middle;\n",
              "    }\n",
              "\n",
              "    .dataframe tbody tr th {\n",
              "        vertical-align: top;\n",
              "    }\n",
              "\n",
              "    .dataframe thead th {\n",
              "        text-align: right;\n",
              "    }\n",
              "</style>\n",
              "<table border=\"1\" class=\"dataframe\">\n",
              "  <thead>\n",
              "    <tr style=\"text-align: right;\">\n",
              "      <th></th>\n",
              "      <th>estimate</th>\n",
              "      <th>stderr</th>\n",
              "      <th>lower</th>\n",
              "      <th>upper</th>\n",
              "      <th>rmse y</th>\n",
              "      <th>rmse D</th>\n",
              "      <th>accuracy D</th>\n",
              "    </tr>\n",
              "  </thead>\n",
              "  <tbody>\n",
              "    <tr>\n",
              "      <th>lasso/logistic</th>\n",
              "      <td>7726.539097</td>\n",
              "      <td>1159.352481</td>\n",
              "      <td>5454.208235</td>\n",
              "      <td>9998.869959</td>\n",
              "      <td>54060.702446</td>\n",
              "      <td>0.444041</td>\n",
              "      <td>0.687897</td>\n",
              "    </tr>\n",
              "    <tr>\n",
              "      <th>random forest</th>\n",
              "      <td>7773.472245</td>\n",
              "      <td>1150.988762</td>\n",
              "      <td>5517.534272</td>\n",
              "      <td>10029.410219</td>\n",
              "      <td>55688.675400</td>\n",
              "      <td>0.444465</td>\n",
              "      <td>0.689662</td>\n",
              "    </tr>\n",
              "    <tr>\n",
              "      <th>decision tree</th>\n",
              "      <td>7846.062404</td>\n",
              "      <td>1255.458093</td>\n",
              "      <td>5385.364541</td>\n",
              "      <td>10306.760267</td>\n",
              "      <td>60491.245996</td>\n",
              "      <td>0.446437</td>\n",
              "      <td>0.688048</td>\n",
              "    </tr>\n",
              "    <tr>\n",
              "      <th>boosted forest</th>\n",
              "      <td>8355.396070</td>\n",
              "      <td>1138.132233</td>\n",
              "      <td>6124.656893</td>\n",
              "      <td>10586.135246</td>\n",
              "      <td>55036.679450</td>\n",
              "      <td>0.443467</td>\n",
              "      <td>0.692385</td>\n",
              "    </tr>\n",
              "    <tr>\n",
              "      <th>automl (semi-cfit)</th>\n",
              "      <td>8303.191478</td>\n",
              "      <td>1097.734797</td>\n",
              "      <td>6151.631277</td>\n",
              "      <td>10454.751680</td>\n",
              "      <td>54932.501281</td>\n",
              "      <td>0.445611</td>\n",
              "      <td>0.691679</td>\n",
              "    </tr>\n",
              "    <tr>\n",
              "      <th>stacked (semi-cfit)</th>\n",
              "      <td>7740.025256</td>\n",
              "      <td>1132.208082</td>\n",
              "      <td>5520.897417</td>\n",
              "      <td>9959.153096</td>\n",
              "      <td>53644.736548</td>\n",
              "      <td>0.442814</td>\n",
              "      <td>0.689460</td>\n",
              "    </tr>\n",
              "  </tbody>\n",
              "</table>\n",
              "</div>"
            ],
            "text/plain": [
              "                        estimate       stderr        lower         upper  \\\n",
              "lasso/logistic       7726.539097  1159.352481  5454.208235   9998.869959   \n",
              "random forest        7773.472245  1150.988762  5517.534272  10029.410219   \n",
              "decision tree        7846.062404  1255.458093  5385.364541  10306.760267   \n",
              "boosted forest       8355.396070  1138.132233  6124.656893  10586.135246   \n",
              "automl (semi-cfit)   8303.191478  1097.734797  6151.631277  10454.751680   \n",
              "stacked (semi-cfit)  7740.025256  1132.208082  5520.897417   9959.153096   \n",
              "\n",
              "                           rmse y    rmse D  accuracy D  \n",
              "lasso/logistic       54060.702446  0.444041    0.687897  \n",
              "random forest        55688.675400  0.444465    0.689662  \n",
              "decision tree        60491.245996  0.446437    0.688048  \n",
              "boosted forest       55036.679450  0.443467    0.692385  \n",
              "automl (semi-cfit)   54932.501281  0.445611    0.691679  \n",
              "stacked (semi-cfit)  53644.736548  0.442814    0.689460  "
            ]
          },
          "execution_count": 55,
          "metadata": {},
          "output_type": "execute_result"
        }
      ],
      "source": [
        "tabledr = pd.concat([tabledr, summary(*result, X, D, y, name='stacked (semi-cfit)')])\n",
        "tabledr"
      ]
    },
    {
      "cell_type": "markdown",
      "id": "91",
      "metadata": {
        "id": "91"
      },
      "source": [
        "We can compare the results between the PLR model and IRM model. We find that the effect under the IRM model is typically of lower value."
      ]
    },
    {
      "cell_type": "code",
      "execution_count": 56,
      "id": "92",
      "metadata": {
        "id": "92"
      },
      "outputs": [
        {
          "data": {
            "text/html": [
              "<div>\n",
              "<style scoped>\n",
              "    .dataframe tbody tr th:only-of-type {\n",
              "        vertical-align: middle;\n",
              "    }\n",
              "\n",
              "    .dataframe tbody tr th {\n",
              "        vertical-align: top;\n",
              "    }\n",
              "\n",
              "    .dataframe thead th {\n",
              "        text-align: right;\n",
              "    }\n",
              "</style>\n",
              "<table border=\"1\" class=\"dataframe\">\n",
              "  <thead>\n",
              "    <tr style=\"text-align: right;\">\n",
              "      <th></th>\n",
              "      <th>estimate</th>\n",
              "      <th>stderr</th>\n",
              "      <th>lower</th>\n",
              "      <th>upper</th>\n",
              "      <th>rmse y</th>\n",
              "      <th>rmse D</th>\n",
              "      <th>accuracy D</th>\n",
              "    </tr>\n",
              "  </thead>\n",
              "  <tbody>\n",
              "    <tr>\n",
              "      <th>double lasso</th>\n",
              "      <td>9035.120004</td>\n",
              "      <td>1295.135748</td>\n",
              "      <td>6496.653938</td>\n",
              "      <td>11573.586070</td>\n",
              "      <td>54254.468883</td>\n",
              "      <td>0.443406</td>\n",
              "      <td>0.688553</td>\n",
              "    </tr>\n",
              "    <tr>\n",
              "      <th>lasso/logistic</th>\n",
              "      <td>9092.469504</td>\n",
              "      <td>1304.404612</td>\n",
              "      <td>6535.836464</td>\n",
              "      <td>11649.102543</td>\n",
              "      <td>54254.468883</td>\n",
              "      <td>0.444043</td>\n",
              "      <td>0.687847</td>\n",
              "    </tr>\n",
              "    <tr>\n",
              "      <th>random forest</th>\n",
              "      <td>8858.855700</td>\n",
              "      <td>1357.128634</td>\n",
              "      <td>6198.883578</td>\n",
              "      <td>11518.827822</td>\n",
              "      <td>55050.908411</td>\n",
              "      <td>0.444420</td>\n",
              "      <td>0.690570</td>\n",
              "    </tr>\n",
              "    <tr>\n",
              "      <th>decision tree</th>\n",
              "      <td>9236.195678</td>\n",
              "      <td>1440.551643</td>\n",
              "      <td>6412.714457</td>\n",
              "      <td>12059.676898</td>\n",
              "      <td>59427.392172</td>\n",
              "      <td>0.446437</td>\n",
              "      <td>0.688048</td>\n",
              "    </tr>\n",
              "    <tr>\n",
              "      <th>boosted forest</th>\n",
              "      <td>8865.489082</td>\n",
              "      <td>1348.395763</td>\n",
              "      <td>6222.633386</td>\n",
              "      <td>11508.344778</td>\n",
              "      <td>56028.952986</td>\n",
              "      <td>0.443331</td>\n",
              "      <td>0.690066</td>\n",
              "    </tr>\n",
              "    <tr>\n",
              "      <th>automl</th>\n",
              "      <td>8815.116779</td>\n",
              "      <td>1336.129857</td>\n",
              "      <td>6196.302260</td>\n",
              "      <td>11433.931298</td>\n",
              "      <td>55539.308058</td>\n",
              "      <td>0.444316</td>\n",
              "      <td>0.688553</td>\n",
              "    </tr>\n",
              "    <tr>\n",
              "      <th>automl (semi-cfit)</th>\n",
              "      <td>9096.901818</td>\n",
              "      <td>1305.992620</td>\n",
              "      <td>6537.156283</td>\n",
              "      <td>11656.647353</td>\n",
              "      <td>53899.822340</td>\n",
              "      <td>0.445611</td>\n",
              "      <td>0.691679</td>\n",
              "    </tr>\n",
              "    <tr>\n",
              "      <th>stacked (semi-cfit)</th>\n",
              "      <td>8956.279433</td>\n",
              "      <td>1307.282748</td>\n",
              "      <td>6394.005247</td>\n",
              "      <td>11518.553619</td>\n",
              "      <td>53977.538601</td>\n",
              "      <td>0.442859</td>\n",
              "      <td>0.689662</td>\n",
              "    </tr>\n",
              "  </tbody>\n",
              "</table>\n",
              "</div>"
            ],
            "text/plain": [
              "                        estimate       stderr        lower         upper  \\\n",
              "double lasso         9035.120004  1295.135748  6496.653938  11573.586070   \n",
              "lasso/logistic       9092.469504  1304.404612  6535.836464  11649.102543   \n",
              "random forest        8858.855700  1357.128634  6198.883578  11518.827822   \n",
              "decision tree        9236.195678  1440.551643  6412.714457  12059.676898   \n",
              "boosted forest       8865.489082  1348.395763  6222.633386  11508.344778   \n",
              "automl               8815.116779  1336.129857  6196.302260  11433.931298   \n",
              "automl (semi-cfit)   9096.901818  1305.992620  6537.156283  11656.647353   \n",
              "stacked (semi-cfit)  8956.279433  1307.282748  6394.005247  11518.553619   \n",
              "\n",
              "                           rmse y    rmse D  accuracy D  \n",
              "double lasso         54254.468883  0.443406    0.688553  \n",
              "lasso/logistic       54254.468883  0.444043    0.687847  \n",
              "random forest        55050.908411  0.444420    0.690570  \n",
              "decision tree        59427.392172  0.446437    0.688048  \n",
              "boosted forest       56028.952986  0.443331    0.690066  \n",
              "automl               55539.308058  0.444316    0.688553  \n",
              "automl (semi-cfit)   53899.822340  0.445611    0.691679  \n",
              "stacked (semi-cfit)  53977.538601  0.442859    0.689662  "
            ]
          },
          "execution_count": 56,
          "metadata": {},
          "output_type": "execute_result"
        }
      ],
      "source": [
        "table"
      ]
    },
    {
      "cell_type": "code",
      "execution_count": 57,
      "id": "93",
      "metadata": {
        "id": "93"
      },
      "outputs": [
        {
          "data": {
            "text/html": [
              "<div>\n",
              "<style scoped>\n",
              "    .dataframe tbody tr th:only-of-type {\n",
              "        vertical-align: middle;\n",
              "    }\n",
              "\n",
              "    .dataframe tbody tr th {\n",
              "        vertical-align: top;\n",
              "    }\n",
              "\n",
              "    .dataframe thead th {\n",
              "        text-align: right;\n",
              "    }\n",
              "</style>\n",
              "<table border=\"1\" class=\"dataframe\">\n",
              "  <thead>\n",
              "    <tr style=\"text-align: right;\">\n",
              "      <th></th>\n",
              "      <th>estimate</th>\n",
              "      <th>stderr</th>\n",
              "      <th>lower</th>\n",
              "      <th>upper</th>\n",
              "      <th>rmse y</th>\n",
              "      <th>rmse D</th>\n",
              "      <th>accuracy D</th>\n",
              "    </tr>\n",
              "  </thead>\n",
              "  <tbody>\n",
              "    <tr>\n",
              "      <th>lasso/logistic</th>\n",
              "      <td>7726.539097</td>\n",
              "      <td>1159.352481</td>\n",
              "      <td>5454.208235</td>\n",
              "      <td>9998.869959</td>\n",
              "      <td>54060.702446</td>\n",
              "      <td>0.444041</td>\n",
              "      <td>0.687897</td>\n",
              "    </tr>\n",
              "    <tr>\n",
              "      <th>random forest</th>\n",
              "      <td>7773.472245</td>\n",
              "      <td>1150.988762</td>\n",
              "      <td>5517.534272</td>\n",
              "      <td>10029.410219</td>\n",
              "      <td>55688.675400</td>\n",
              "      <td>0.444465</td>\n",
              "      <td>0.689662</td>\n",
              "    </tr>\n",
              "    <tr>\n",
              "      <th>decision tree</th>\n",
              "      <td>7846.062404</td>\n",
              "      <td>1255.458093</td>\n",
              "      <td>5385.364541</td>\n",
              "      <td>10306.760267</td>\n",
              "      <td>60491.245996</td>\n",
              "      <td>0.446437</td>\n",
              "      <td>0.688048</td>\n",
              "    </tr>\n",
              "    <tr>\n",
              "      <th>boosted forest</th>\n",
              "      <td>8355.396070</td>\n",
              "      <td>1138.132233</td>\n",
              "      <td>6124.656893</td>\n",
              "      <td>10586.135246</td>\n",
              "      <td>55036.679450</td>\n",
              "      <td>0.443467</td>\n",
              "      <td>0.692385</td>\n",
              "    </tr>\n",
              "    <tr>\n",
              "      <th>automl (semi-cfit)</th>\n",
              "      <td>8303.191478</td>\n",
              "      <td>1097.734797</td>\n",
              "      <td>6151.631277</td>\n",
              "      <td>10454.751680</td>\n",
              "      <td>54932.501281</td>\n",
              "      <td>0.445611</td>\n",
              "      <td>0.691679</td>\n",
              "    </tr>\n",
              "    <tr>\n",
              "      <th>stacked (semi-cfit)</th>\n",
              "      <td>7740.025256</td>\n",
              "      <td>1132.208082</td>\n",
              "      <td>5520.897417</td>\n",
              "      <td>9959.153096</td>\n",
              "      <td>53644.736548</td>\n",
              "      <td>0.442814</td>\n",
              "      <td>0.689460</td>\n",
              "    </tr>\n",
              "  </tbody>\n",
              "</table>\n",
              "</div>"
            ],
            "text/plain": [
              "                        estimate       stderr        lower         upper  \\\n",
              "lasso/logistic       7726.539097  1159.352481  5454.208235   9998.869959   \n",
              "random forest        7773.472245  1150.988762  5517.534272  10029.410219   \n",
              "decision tree        7846.062404  1255.458093  5385.364541  10306.760267   \n",
              "boosted forest       8355.396070  1138.132233  6124.656893  10586.135246   \n",
              "automl (semi-cfit)   8303.191478  1097.734797  6151.631277  10454.751680   \n",
              "stacked (semi-cfit)  7740.025256  1132.208082  5520.897417   9959.153096   \n",
              "\n",
              "                           rmse y    rmse D  accuracy D  \n",
              "lasso/logistic       54060.702446  0.444041    0.687897  \n",
              "random forest        55688.675400  0.444465    0.689662  \n",
              "decision tree        60491.245996  0.446437    0.688048  \n",
              "boosted forest       55036.679450  0.443467    0.692385  \n",
              "automl (semi-cfit)   54932.501281  0.445611    0.691679  \n",
              "stacked (semi-cfit)  53644.736548  0.442814    0.689460  "
            ]
          },
          "execution_count": 57,
          "metadata": {},
          "output_type": "execute_result"
        }
      ],
      "source": [
        "tabledr"
      ]
    },
    {
      "cell_type": "markdown",
      "id": "94",
      "metadata": {
        "id": "94"
      },
      "source": [
        "# Using the EconML Library\n",
        "\n"
      ]
    },
    {
      "cell_type": "markdown",
      "id": "95",
      "metadata": {
        "id": "95"
      },
      "source": [
        "We are interested in valid estimators of the average treatment effect of `e401` on `net_tfa`. There exist nice packages out there that can help us do our estimation with the simple call of a function. Such packages include `EconML` (Python), `DoubleML` (Python and R), and `ddml` (Stata and R).\n",
        "\n",
        "We run through PLR and IRM using `EconML` below to illustrate."
      ]
    },
    {
      "cell_type": "code",
      "execution_count": 58,
      "id": "97",
      "metadata": {
        "id": "97"
      },
      "outputs": [],
      "source": [
        "# for these libraries we will just pre-featurize the controls\n",
        "W = StandardScaler().fit_transform(transformer.fit_transform(X))"
      ]
    },
    {
      "cell_type": "code",
      "execution_count": 59,
      "id": "98",
      "metadata": {
        "id": "98"
      },
      "outputs": [],
      "source": [
        "from econml.dml import LinearDML\n",
        "cv = KFold(n_splits=5, shuffle=True, random_state=123)\n",
        "ldml = LinearDML(model_y=LassoCV(cv=cv), model_t=LogisticRegressionCV(cv=cv),\n",
        "                 cv=5, discrete_treatment=True, random_state=123).fit(y, D, W=W)"
      ]
    },
    {
      "cell_type": "code",
      "execution_count": 60,
      "id": "99",
      "metadata": {
        "id": "99"
      },
      "outputs": [
        {
          "name": "stdout",
          "output_type": "stream",
          "text": [
            "Coefficient Results:  X is None, please call intercept_inference to learn the constant!\n"
          ]
        },
        {
          "data": {
            "text/html": [
              "<table class=\"simpletable\">\n",
              "<caption>CATE Intercept Results</caption>\n",
              "<tr>\n",
              "         <td></td>        <th>point_estimate</th>  <th>stderr</th>  <th>zstat</th> <th>pvalue</th> <th>ci_lower</th> <th>ci_upper</th> \n",
              "</tr>\n",
              "<tr>\n",
              "  <th>cate_intercept</th>    <td>8596.858</td>    <td>1315.503</td> <td>6.535</td>   <td>0.0</td>  <td>6018.518</td> <td>11175.197</td>\n",
              "</tr>\n",
              "</table><br/><br/><sub>A linear parametric conditional average treatment effect (CATE) model was fitted:<br/>$Y = \\Theta(X)\\cdot T + g(X, W) + \\epsilon$<br/>where for every outcome $i$ and treatment $j$ the CATE $\\Theta_{ij}(X)$ has the form:<br/>$\\Theta_{ij}(X) = X' coef_{ij} + cate\\_intercept_{ij}$<br/>Coefficient Results table portrays the $coef_{ij}$ parameter vector for each outcome $i$ and treatment $j$. Intercept Results table portrays the $cate\\_intercept_{ij}$ parameter.</sub>"
            ],
            "text/plain": [
              "<class 'econml.utilities.Summary'>\n",
              "\"\"\"\n",
              "                        CATE Intercept Results                        \n",
              "======================================================================\n",
              "               point_estimate  stderr  zstat pvalue ci_lower  ci_upper\n",
              "----------------------------------------------------------------------\n",
              "cate_intercept       8596.858 1315.503 6.535    0.0 6018.518 11175.197\n",
              "----------------------------------------------------------------------\n",
              "\n",
              "<sub>A linear parametric conditional average treatment effect (CATE) model was fitted:\n",
              "$Y = \\Theta(X)\\cdot T + g(X, W) + \\epsilon$\n",
              "where for every outcome $i$ and treatment $j$ the CATE $\\Theta_{ij}(X)$ has the form:\n",
              "$\\Theta_{ij}(X) = X' coef_{ij} + cate\\_intercept_{ij}$\n",
              "Coefficient Results table portrays the $coef_{ij}$ parameter vector for each outcome $i$ and treatment $j$. Intercept Results table portrays the $cate\\_intercept_{ij}$ parameter.</sub>\n",
              "\"\"\""
            ]
          },
          "execution_count": 60,
          "metadata": {},
          "output_type": "execute_result"
        }
      ],
      "source": [
        "ldml.summary()"
      ]
    },
    {
      "cell_type": "code",
      "execution_count": 61,
      "id": "100",
      "metadata": {
        "id": "100"
      },
      "outputs": [
        {
          "data": {
            "text/plain": [
              "(np.float64(0.2613210270610905), np.float64(0.6883509833585476))"
            ]
          },
          "execution_count": 61,
          "metadata": {},
          "output_type": "execute_result"
        }
      ],
      "source": [
        "# r2scores\n",
        "r2scorey = np.mean(ldml.nuisance_scores_y)\n",
        "r2scored = np.mean(ldml.nuisance_scores_t)\n",
        "r2scorey, r2scored"
      ]
    },
    {
      "cell_type": "code",
      "execution_count": 62,
      "id": "101",
      "metadata": {
        "id": "101"
      },
      "outputs": [],
      "source": [
        "from econml.dr import LinearDRLearner\n",
        "\n",
        "# dr learner in econml fits a single regression function of Y from X, D\n",
        "# using all the data\n",
        "dr = LinearDRLearner(model_regression=LassoCV(cv=cv),\n",
        "                     model_propensity=LogisticRegressionCV(cv=cv),\n",
        "                     cv=5, min_propensity=0.01, random_state=123).fit(y, D, W=W)"
      ]
    },
    {
      "cell_type": "code",
      "execution_count": 63,
      "id": "102",
      "metadata": {
        "id": "102"
      },
      "outputs": [
        {
          "name": "stdout",
          "output_type": "stream",
          "text": [
            "Coefficient Results:  X is None, please call intercept_inference to learn the constant!\n"
          ]
        },
        {
          "data": {
            "text/html": [
              "<table class=\"simpletable\">\n",
              "<caption>CATE Intercept Results</caption>\n",
              "<tr>\n",
              "         <td></td>        <th>point_estimate</th>  <th>stderr</th>  <th>zstat</th> <th>pvalue</th> <th>ci_lower</th> <th>ci_upper</th> \n",
              "</tr>\n",
              "<tr>\n",
              "  <th>cate_intercept</th>    <td>7677.971</td>    <td>1212.244</td> <td>6.334</td>   <td>0.0</td>  <td>5302.016</td> <td>10053.926</td>\n",
              "</tr>\n",
              "</table><br/><br/><sub>A linear parametric conditional average treatment effect (CATE) model was fitted:<br/>$Y = \\Theta(X)\\cdot T + g(X, W) + \\epsilon$<br/>where $T$ is the one-hot-encoding of the discrete treatment and for every outcome $i$ and treatment $j$ the CATE $\\Theta_{ij}(X)$ has the form:<br/>$\\Theta_{ij}(X) = \\phi(X)' coef_{ij} + cate\\_intercept_{ij}$<br/>where $\\phi(X)$ is the output of the `featurizer` or $X$ if `featurizer`=None. Coefficient Results table portrays the $coef_{ij}$ parameter vector for each outcome $i$ and the designated treatment $j$ passed to summary. Intercept Results table portrays the $cate\\_intercept_{ij}$ parameter.</sub>"
            ],
            "text/plain": [
              "<class 'econml.utilities.Summary'>\n",
              "\"\"\"\n",
              "                        CATE Intercept Results                        \n",
              "======================================================================\n",
              "               point_estimate  stderr  zstat pvalue ci_lower  ci_upper\n",
              "----------------------------------------------------------------------\n",
              "cate_intercept       7677.971 1212.244 6.334    0.0 5302.016 10053.926\n",
              "----------------------------------------------------------------------\n",
              "\n",
              "<sub>A linear parametric conditional average treatment effect (CATE) model was fitted:\n",
              "$Y = \\Theta(X)\\cdot T + g(X, W) + \\epsilon$\n",
              "where $T$ is the one-hot-encoding of the discrete treatment and for every outcome $i$ and treatment $j$ the CATE $\\Theta_{ij}(X)$ has the form:\n",
              "$\\Theta_{ij}(X) = \\phi(X)' coef_{ij} + cate\\_intercept_{ij}$\n",
              "where $\\phi(X)$ is the output of the `featurizer` or $X$ if `featurizer`=None. Coefficient Results table portrays the $coef_{ij}$ parameter vector for each outcome $i$ and the designated treatment $j$ passed to summary. Intercept Results table portrays the $cate\\_intercept_{ij}$ parameter.</sub>\n",
              "\"\"\""
            ]
          },
          "execution_count": 63,
          "metadata": {},
          "output_type": "execute_result"
        }
      ],
      "source": [
        "dr.summary(T=1)"
      ]
    },
    {
      "cell_type": "code",
      "execution_count": 64,
      "id": "103",
      "metadata": {
        "id": "103"
      },
      "outputs": [],
      "source": [
        "from econml.dr import LinearDRLearner\n",
        "from econml.utilities import SeparateModel\n",
        "\n",
        "# to implement the separate regression models we need use the separate model wrapper\n",
        "# that splits the data based on the last covariate (in this case D) and fits a separate\n",
        "# model for each group. The input to the wrapper is the model to use for each value\n",
        "# of the last covariate.\n",
        "dr = LinearDRLearner(model_regression=SeparateModel(LassoCV(cv=cv), LassoCV(cv=cv)),\n",
        "                     model_propensity=LogisticRegressionCV(cv=cv),\n",
        "                     cv=5, min_propensity=0.01, random_state=123).fit(y, D, W=W)"
      ]
    },
    {
      "cell_type": "code",
      "execution_count": 65,
      "id": "104",
      "metadata": {
        "id": "104"
      },
      "outputs": [
        {
          "name": "stdout",
          "output_type": "stream",
          "text": [
            "Coefficient Results:  X is None, please call intercept_inference to learn the constant!\n"
          ]
        },
        {
          "data": {
            "text/html": [
              "<table class=\"simpletable\">\n",
              "<caption>CATE Intercept Results</caption>\n",
              "<tr>\n",
              "         <td></td>        <th>point_estimate</th>  <th>stderr</th>  <th>zstat</th> <th>pvalue</th> <th>ci_lower</th> <th>ci_upper</th>\n",
              "</tr>\n",
              "<tr>\n",
              "  <th>cate_intercept</th>    <td>7405.064</td>    <td>1254.248</td> <td>5.904</td>   <td>0.0</td>  <td>4946.782</td> <td>9863.345</td>\n",
              "</tr>\n",
              "</table><br/><br/><sub>A linear parametric conditional average treatment effect (CATE) model was fitted:<br/>$Y = \\Theta(X)\\cdot T + g(X, W) + \\epsilon$<br/>where $T$ is the one-hot-encoding of the discrete treatment and for every outcome $i$ and treatment $j$ the CATE $\\Theta_{ij}(X)$ has the form:<br/>$\\Theta_{ij}(X) = \\phi(X)' coef_{ij} + cate\\_intercept_{ij}$<br/>where $\\phi(X)$ is the output of the `featurizer` or $X$ if `featurizer`=None. Coefficient Results table portrays the $coef_{ij}$ parameter vector for each outcome $i$ and the designated treatment $j$ passed to summary. Intercept Results table portrays the $cate\\_intercept_{ij}$ parameter.</sub>"
            ],
            "text/plain": [
              "<class 'econml.utilities.Summary'>\n",
              "\"\"\"\n",
              "                        CATE Intercept Results                       \n",
              "=====================================================================\n",
              "               point_estimate  stderr  zstat pvalue ci_lower ci_upper\n",
              "---------------------------------------------------------------------\n",
              "cate_intercept       7405.064 1254.248 5.904    0.0 4946.782 9863.345\n",
              "---------------------------------------------------------------------\n",
              "\n",
              "<sub>A linear parametric conditional average treatment effect (CATE) model was fitted:\n",
              "$Y = \\Theta(X)\\cdot T + g(X, W) + \\epsilon$\n",
              "where $T$ is the one-hot-encoding of the discrete treatment and for every outcome $i$ and treatment $j$ the CATE $\\Theta_{ij}(X)$ has the form:\n",
              "$\\Theta_{ij}(X) = \\phi(X)' coef_{ij} + cate\\_intercept_{ij}$\n",
              "where $\\phi(X)$ is the output of the `featurizer` or $X$ if `featurizer`=None. Coefficient Results table portrays the $coef_{ij}$ parameter vector for each outcome $i$ and the designated treatment $j$ passed to summary. Intercept Results table portrays the $cate\\_intercept_{ij}$ parameter.</sub>\n",
              "\"\"\""
            ]
          },
          "execution_count": 65,
          "metadata": {},
          "output_type": "execute_result"
        }
      ],
      "source": [
        "dr.summary(T=1)"
      ]
    },
    {
      "cell_type": "markdown",
      "id": "105",
      "metadata": {
        "id": "105"
      },
      "source": [
        "# Using the DoubleML library"
      ]
    },
    {
      "cell_type": "markdown",
      "id": "106",
      "metadata": {
        "id": "106"
      },
      "source": [
        "We now play with `DoubleML` to illustrate its use."
      ]
    },
    {
      "cell_type": "code",
      "execution_count": 66,
      "id": "108",
      "metadata": {
        "id": "108"
      },
      "outputs": [
        {
          "name": "stdout",
          "output_type": "stream",
          "text": [
            "================== DoubleMLData Object ==================\n",
            "\n",
            "------------------ Data summary      ------------------\n",
            "Outcome variable: y\n",
            "Treatment variable(s): ['d']\n",
            "Covariates: ['X1', 'X2', 'X3', 'X4', 'X5', 'X6', 'X7', 'X8', 'X9', 'X10', 'X11', 'X12', 'X13', 'X14', 'X15', 'X16', 'X17', 'X18', 'X19', 'X20', 'X21', 'X22', 'X23', 'X24', 'X25', 'X26']\n",
            "Instrument variable(s): None\n",
            "No. Observations: 9915\n",
            "\n",
            "------------------ DataFrame info    ------------------\n",
            "<class 'pandas.core.frame.DataFrame'>\n",
            "RangeIndex: 9915 entries, 0 to 9914\n",
            "Columns: 28 entries, X1 to d\n",
            "dtypes: float64(28)\n",
            "memory usage: 2.1 MB\n",
            "\n"
          ]
        }
      ],
      "source": [
        "from doubleml import DoubleMLData\n",
        "dml_data = DoubleMLData.from_arrays(W, y, D)\n",
        "print(dml_data)"
      ]
    },
    {
      "cell_type": "code",
      "execution_count": 67,
      "id": "109",
      "metadata": {
        "id": "109"
      },
      "outputs": [
        {
          "name": "stdout",
          "output_type": "stream",
          "text": [
            "================== DoubleMLPLR Object ==================\n",
            "\n",
            "------------------ Data summary      ------------------\n",
            "Outcome variable: y\n",
            "Treatment variable(s): ['d']\n",
            "Covariates: ['X1', 'X2', 'X3', 'X4', 'X5', 'X6', 'X7', 'X8', 'X9', 'X10', 'X11', 'X12', 'X13', 'X14', 'X15', 'X16', 'X17', 'X18', 'X19', 'X20', 'X21', 'X22', 'X23', 'X24', 'X25', 'X26']\n",
            "Instrument variable(s): None\n",
            "No. Observations: 9915\n",
            "\n",
            "------------------ Score & algorithm ------------------\n",
            "Score function: partialling out\n",
            "DML algorithm: dml2\n",
            "\n",
            "------------------ Machine learner   ------------------\n",
            "Learner ml_l: LassoCV(cv=KFold(n_splits=5, random_state=123, shuffle=True))\n",
            "Learner ml_m: LogisticRegressionCV(cv=KFold(n_splits=5, random_state=123, shuffle=True))\n",
            "Out-of-sample Performance:\n",
            "Learner ml_l RMSE: [[54272.66052166]]\n",
            "Learner ml_m RMSE: [[0.44427045]]\n",
            "\n",
            "------------------ Resampling        ------------------\n",
            "No. folds: 5\n",
            "No. repeated sample splits: 1\n",
            "Apply cross-fitting: True\n",
            "\n",
            "------------------ Fit summary       ------------------\n",
            "          coef      std err         t         P>|t|        2.5 %        97.5 %\n",
            "d  8754.018306  1280.977497  6.833858  8.266086e-12  6243.348546  11264.688066\n"
          ]
        }
      ],
      "source": [
        "import doubleml as dml\n",
        "\n",
        "dml_plr_obj = dml.DoubleMLPLR(dml_data, LassoCV(cv=cv), LogisticRegressionCV(cv=cv), n_folds=5)\n",
        "print(dml_plr_obj.fit())"
      ]
    },
    {
      "cell_type": "code",
      "execution_count": 68,
      "id": "110",
      "metadata": {
        "id": "110"
      },
      "outputs": [
        {
          "name": "stdout",
          "output_type": "stream",
          "text": [
            "================== DoubleMLIRM Object ==================\n",
            "\n",
            "------------------ Data summary      ------------------\n",
            "Outcome variable: y\n",
            "Treatment variable(s): ['d']\n",
            "Covariates: ['X1', 'X2', 'X3', 'X4', 'X5', 'X6', 'X7', 'X8', 'X9', 'X10', 'X11', 'X12', 'X13', 'X14', 'X15', 'X16', 'X17', 'X18', 'X19', 'X20', 'X21', 'X22', 'X23', 'X24', 'X25', 'X26']\n",
            "Instrument variable(s): None\n",
            "No. Observations: 9915\n",
            "\n",
            "------------------ Score & algorithm ------------------\n",
            "Score function: ATE\n",
            "DML algorithm: dml2\n",
            "\n",
            "------------------ Machine learner   ------------------\n",
            "Learner ml_g: LassoCV(cv=KFold(n_splits=5, random_state=123, shuffle=True))\n",
            "Learner ml_m: LogisticRegressionCV(cv=KFold(n_splits=5, random_state=123, shuffle=True))\n",
            "Out-of-sample Performance:\n",
            "Learner ml_g0 RMSE: [[46559.94714476]]\n",
            "Learner ml_g1 RMSE: [[64562.98758736]]\n",
            "Learner ml_m RMSE: [[0.44437291]]\n",
            "\n",
            "------------------ Resampling        ------------------\n",
            "No. folds: 5\n",
            "No. repeated sample splits: 1\n",
            "Apply cross-fitting: True\n",
            "\n",
            "------------------ Fit summary       ------------------\n",
            "          coef      std err         t         P>|t|        2.5 %        97.5 %\n",
            "d  8020.633499  1146.050133  6.998501  2.587147e-12  5774.416514  10266.850484\n"
          ]
        }
      ],
      "source": [
        "dml_irm_obj = dml.DoubleMLIRM(dml_data, LassoCV(cv=cv), LogisticRegressionCV(cv=cv), n_folds=5)\n",
        "\n",
        "print(dml_irm_obj.fit())"
      ]
    }
  ],
  "metadata": {
    "colab": {
      "provenance": []
    },
    "kernelspec": {
      "display_name": "causal",
      "language": "python",
      "name": "python3"
    },
    "language_info": {
      "codemirror_mode": {
        "name": "ipython",
        "version": 3
      },
      "file_extension": ".py",
      "mimetype": "text/x-python",
      "name": "python",
      "nbconvert_exporter": "python",
      "pygments_lexer": "ipython3",
      "version": "3.13.2"
    },
    "papermill": {
      "default_parameters": {},
      "duration": 537.547458,
      "end_time": "2021-03-24T14:22:44.931595",
      "environment_variables": {},
      "exception": null,
      "input_path": "__notebook__.ipynb",
      "output_path": "__notebook__.ipynb",
      "parameters": {},
      "start_time": "2021-03-24T14:13:47.384137",
      "version": "2.3.2"
    }
  },
  "nbformat": 4,
  "nbformat_minor": 5
}
