{
 "cells": [
  {
   "cell_type": "markdown",
   "id": "249acf63",
   "metadata": {},
   "source": [
    "### Ex 8.10.1 Explain A Tree Based Strategy.\n",
    "A regression tree is a very flexible regression method based on automatically categorizing and making predictions based on very simple rules. The most common, and basic regression tree makes for each subgroup a single constant prediction. The categories are based by sucssesive partitioning of the data in any variable. The reason these methods are called tree methods is begause you can view the partions in a tree.\n",
    "\n",
    "The procedure to build a tree further clarifies the properties. The tree is automatically constructed by recursive binary partitioning. At the first step you split the data along one of the explanatory variables, and for each of these new groups you make a prediction. The splitting variable, split point, and prediction are chosen to minimize a loss function, often MSE. In practice this will mean checking for each variable what the optimal partition point is, and what the generated MSE is, then select the lowest MSE. After this you can repeat the process, on each of your new subgroups, so conditioned on the previous rule. This process can be repeated as many times as you wish, with stopping based either on how many samples remain in a group, or based on the depth of the tree."
   ]
  }
 ],
 "metadata": {
  "kernelspec": {
   "display_name": "causal",
   "language": "python",
   "name": "python3"
  },
  "language_info": {
   "codemirror_mode": {
    "name": "ipython",
    "version": 3
   },
   "file_extension": ".py",
   "mimetype": "text/x-python",
   "name": "python",
   "nbconvert_exporter": "python",
   "pygments_lexer": "ipython3",
   "version": "3.13.2"
  }
 },
 "nbformat": 4,
 "nbformat_minor": 5
}
