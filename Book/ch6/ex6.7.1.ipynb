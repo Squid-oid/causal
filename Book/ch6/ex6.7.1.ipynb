{
 "cells": [
  {
   "cell_type": "markdown",
   "id": "cca03cd9",
   "metadata": {},
   "source": [
    "### Ex. 6.7.1 - Collider Bias"
   ]
  },
  {
   "cell_type": "markdown",
   "id": "32d7c26a",
   "metadata": {},
   "source": [
    "Collider bias is an issue that we run into when we want to find the relationship between two variables, but we also condition on another variable innapproriately. The simplest way to explain is through an example. Imagine that you want to find out how much an actors acting skill is correlated to their attractivness. Now let's say that you also know how popular each actor is. We'll suppose that the actor's popularity is linear in both the acting skill and attractivness.\n",
    "\n",
    "If you just regress the actor's attractivness in their acting skill you'll get a correct estimator, but if you include the popularity in your regression something strange happens. Since if an actor is popular we can suppose that they are some combination of skillful, hot and lucky, the popularity portion of the actors sucsess will leak through some of the  some of the actor skill information, especially when combined with the actor hotness. What happens then is that an actor who is skillful will appear to be less likely to be hot than average, even if these two are independently distributed, since if an actor is extremely hot but has little popularity that could indicate that acting skill is holding them back and vice-versa, since the actor popularity is confounding the estimator. "
   ]
  },
  {
   "cell_type": "code",
   "execution_count": 9,
   "id": "28b73ad9",
   "metadata": {},
   "outputs": [
    {
     "name": "stdout",
     "output_type": "stream",
     "text": [
      "Predicted Connection Direct 0\n",
      "Estimated Connection Direct: -0.0011147943011112545\n",
      "Predicted Connection Collider -0.5\n",
      "Estimated Connection Collider: -0.49765322575896237\n"
     ]
    }
   ],
   "source": [
    "##########################\n",
    "# Demo Code\n",
    "##########################\n",
    "import pandas as pd \n",
    "from random import random\n",
    "import statsmodels.formula.api as smf\n",
    "\n",
    "# Set up the dataset\n",
    "hotness = [random() for i in range(100000)]\n",
    "skill = [random() for i in range(100000)]\n",
    "popularity = [h + s + random() for h, s in zip(hotness,skill)]\n",
    "\n",
    "actors = pd.DataFrame({'Hotness' : hotness, 'Skill' : skill, 'Popularity' : popularity})\n",
    "\n",
    "# Predict parameter estimates in each case\n",
    "# Popularity = H + S + e_P\n",
    "# -> E[Popularity | H] = H \n",
    "# S = H + e_P - P\n",
    "# -> E[Skill | Popularity]  = (since we know P = H + S + e_p the best predictor for each of those is P/3, by symmetry/exchangeability) \n",
    "# -> E[Skill | Popularity, H] = E[H + e_P - P] = (Since P = e_P + H + S, P - H = e_P + S, E[e_P] = E[S] must be 1/2)\n",
    "# -> E[Skill | Popularity, H] = (H - P)/2\n",
    "# -> E[E[Skill | Popularity, H = h]] = E[(C - h)/2] = -h/2\n",
    "\n",
    "# Predicted parameter correct/incorrect\n",
    "hs_correct = 0\n",
    "hs_incorrect = -1/2\n",
    "\n",
    "direct_model = smf.ols('skill ~ hotness', data = actors).fit()\n",
    "indirect_model = smf.ols('skill ~ hotness + popularity', data = actors).fit()\n",
    "\n",
    "print(f\"Predicted Connection Direct {hs_correct}\")\n",
    "print(f\"Estimated Connection Direct: {direct_model.params['hotness']}\")\n",
    "print(f\"Predicted Connection Collider {hs_incorrect}\")\n",
    "print(f\"Estimated Connection Collider: {indirect_model.params['hotness']}\")"
   ]
  },
  {
   "cell_type": "markdown",
   "id": "39bccbc1",
   "metadata": {},
   "source": [
    "The above results reflect what we expect, by opening an unintentional backdoor path, which lead to a bias in the estimator. This backdoor path isn't all bad though, since it does give some insight on how these variable are related, under those conditons. Consider a real world case, in hollywood we do condition on both an actor actually being popular, and on hotness. So we should expect that if an actor is ugly but still in hollywood, they either have acting chops or some crazy luck or connections."
   ]
  }
 ],
 "metadata": {
  "kernelspec": {
   "display_name": "causal",
   "language": "python",
   "name": "python3"
  },
  "language_info": {
   "codemirror_mode": {
    "name": "ipython",
    "version": 3
   },
   "file_extension": ".py",
   "mimetype": "text/x-python",
   "name": "python",
   "nbconvert_exporter": "python",
   "pygments_lexer": "ipython3",
   "version": "3.13.2"
  }
 },
 "nbformat": 4,
 "nbformat_minor": 5
}
